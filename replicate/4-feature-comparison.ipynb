{
 "cells": [
  {
   "cell_type": "markdown",
   "metadata": {},
   "source": [
    "compare the sparsity between s3d and logitic regression"
   ]
  },
  {
   "cell_type": "markdown",
   "metadata": {
    "ExecuteTime": {
     "end_time": "2018-07-23T19:17:05.577176Z",
     "start_time": "2018-07-23T19:17:05.569868Z"
    }
   },
   "source": [
    "---"
   ]
  },
  {
   "cell_type": "code",
   "execution_count": 2,
   "metadata": {
    "ExecuteTime": {
     "end_time": "2018-07-23T19:17:50.786329Z",
     "start_time": "2018-07-23T19:17:49.869550Z"
    }
   },
   "outputs": [],
   "source": [
    "import pandas as pd"
   ]
  },
  {
   "cell_type": "code",
   "execution_count": 28,
   "metadata": {
    "ExecuteTime": {
     "end_time": "2018-07-23T19:48:29.089954Z",
     "start_time": "2018-07-23T19:48:28.243883Z"
    }
   },
   "outputs": [],
   "source": [
    "from matplotlib import pyplot as plt\n",
    "import seaborn as sns\n",
    "%matplotlib inline"
   ]
  },
  {
   "cell_type": "markdown",
   "metadata": {},
   "source": [
    "---"
   ]
  },
  {
   "cell_type": "markdown",
   "metadata": {},
   "source": [
    "#### read data"
   ]
  },
  {
   "cell_type": "code",
   "execution_count": 19,
   "metadata": {
    "ExecuteTime": {
     "end_time": "2018-07-23T19:30:09.406700Z",
     "start_time": "2018-07-23T19:30:09.371643Z"
    }
   },
   "outputs": [
    {
     "data": {
      "text/html": [
       "<div>\n",
       "<style scoped>\n",
       "    .dataframe tbody tr th:only-of-type {\n",
       "        vertical-align: middle;\n",
       "    }\n",
       "\n",
       "    .dataframe tbody tr th {\n",
       "        vertical-align: top;\n",
       "    }\n",
       "\n",
       "    .dataframe thead th {\n",
       "        text-align: right;\n",
       "    }\n",
       "</style>\n",
       "<table border=\"1\" class=\"dataframe\">\n",
       "  <thead>\n",
       "    <tr style=\"text-align: right;\">\n",
       "      <th></th>\n",
       "      <th>data_name</th>\n",
       "      <th>type_</th>\n",
       "      <th>split_version</th>\n",
       "      <th>lambda_</th>\n",
       "      <th>num_features</th>\n",
       "    </tr>\n",
       "  </thead>\n",
       "  <tbody>\n",
       "    <tr>\n",
       "      <th>0</th>\n",
       "      <td>breastcancer</td>\n",
       "      <td>classification</td>\n",
       "      <td>0</td>\n",
       "      <td>0.0010</td>\n",
       "      <td>2</td>\n",
       "    </tr>\n",
       "    <tr>\n",
       "      <th>1</th>\n",
       "      <td>breastcancer</td>\n",
       "      <td>classification</td>\n",
       "      <td>1</td>\n",
       "      <td>0.0003</td>\n",
       "      <td>1</td>\n",
       "    </tr>\n",
       "  </tbody>\n",
       "</table>\n",
       "</div>"
      ],
      "text/plain": [
       "      data_name           type_  split_version  lambda_  num_features\n",
       "0  breastcancer  classification              0   0.0010             2\n",
       "1  breastcancer  classification              1   0.0003             1"
      ]
     },
     "execution_count": 19,
     "metadata": {},
     "output_type": "execute_result"
    }
   ],
   "source": [
    "s3d_hyperparameter_df = pd.read_csv('s3d_hyperparameter_df.csv')\n",
    "s3d_hyperparameter_df.columns = ['data_name', 'type_', 'split_version', 'lambda_', 'num_features']\n",
    "s3d_hyperparameter_df.head(2)"
   ]
  },
  {
   "cell_type": "code",
   "execution_count": 20,
   "metadata": {
    "ExecuteTime": {
     "end_time": "2018-07-23T19:30:33.433043Z",
     "start_time": "2018-07-23T19:30:33.316520Z"
    }
   },
   "outputs": [
    {
     "data": {
      "text/html": [
       "<div>\n",
       "<style scoped>\n",
       "    .dataframe tbody tr th:only-of-type {\n",
       "        vertical-align: middle;\n",
       "    }\n",
       "\n",
       "    .dataframe tbody tr th {\n",
       "        vertical-align: top;\n",
       "    }\n",
       "\n",
       "    .dataframe thead th {\n",
       "        text-align: right;\n",
       "    }\n",
       "</style>\n",
       "<table border=\"1\" class=\"dataframe\">\n",
       "  <thead>\n",
       "    <tr style=\"text-align: right;\">\n",
       "      <th></th>\n",
       "      <th>data_name</th>\n",
       "      <th>type_</th>\n",
       "      <th>num_features</th>\n",
       "      <th>split_version</th>\n",
       "      <th>model_name</th>\n",
       "    </tr>\n",
       "  </thead>\n",
       "  <tbody>\n",
       "    <tr>\n",
       "      <th>0</th>\n",
       "      <td>breastcancer</td>\n",
       "      <td>classification</td>\n",
       "      <td>2</td>\n",
       "      <td>0</td>\n",
       "      <td>s3d</td>\n",
       "    </tr>\n",
       "    <tr>\n",
       "      <th>1</th>\n",
       "      <td>breastcancer</td>\n",
       "      <td>classification</td>\n",
       "      <td>1</td>\n",
       "      <td>1</td>\n",
       "      <td>s3d</td>\n",
       "    </tr>\n",
       "  </tbody>\n",
       "</table>\n",
       "</div>"
      ],
      "text/plain": [
       "      data_name           type_  num_features  split_version model_name\n",
       "0  breastcancer  classification             2              0        s3d\n",
       "1  breastcancer  classification             1              1        s3d"
      ]
     },
     "execution_count": 20,
     "metadata": {},
     "output_type": "execute_result"
    }
   ],
   "source": [
    "s3d_sparsity_df = s3d_hyperparameter_df[['data_name', 'type_', 'num_features', 'split_version']]\n",
    "s3d_sparsity_df['model_name'] = 's3d'\n",
    "s3d_sparsity_df.head(2)"
   ]
  },
  {
   "cell_type": "code",
   "execution_count": 18,
   "metadata": {
    "ExecuteTime": {
     "end_time": "2018-07-23T19:29:49.733899Z",
     "start_time": "2018-07-23T19:29:49.408734Z"
    }
   },
   "outputs": [
    {
     "data": {
      "text/html": [
       "<div>\n",
       "<style scoped>\n",
       "    .dataframe tbody tr th:only-of-type {\n",
       "        vertical-align: middle;\n",
       "    }\n",
       "\n",
       "    .dataframe tbody tr th {\n",
       "        vertical-align: top;\n",
       "    }\n",
       "\n",
       "    .dataframe thead th {\n",
       "        text-align: right;\n",
       "    }\n",
       "</style>\n",
       "<table border=\"1\" class=\"dataframe\">\n",
       "  <thead>\n",
       "    <tr style=\"text-align: right;\">\n",
       "      <th></th>\n",
       "      <th>num_features</th>\n",
       "      <th>split_version</th>\n",
       "      <th>data_name</th>\n",
       "      <th>model_name</th>\n",
       "      <th>type_</th>\n",
       "    </tr>\n",
       "  </thead>\n",
       "  <tbody>\n",
       "    <tr>\n",
       "      <th>0</th>\n",
       "      <td>8</td>\n",
       "      <td>0</td>\n",
       "      <td>breastcancer</td>\n",
       "      <td>lasso</td>\n",
       "      <td>classification</td>\n",
       "    </tr>\n",
       "    <tr>\n",
       "      <th>1</th>\n",
       "      <td>8</td>\n",
       "      <td>1</td>\n",
       "      <td>breastcancer</td>\n",
       "      <td>lasso</td>\n",
       "      <td>classification</td>\n",
       "    </tr>\n",
       "  </tbody>\n",
       "</table>\n",
       "</div>"
      ],
      "text/plain": [
       "   num_features  split_version     data_name model_name           type_\n",
       "0             8              0  breastcancer      lasso  classification\n",
       "1             8              1  breastcancer      lasso  classification"
      ]
     },
     "execution_count": 18,
     "metadata": {},
     "output_type": "execute_result"
    }
   ],
   "source": [
    "bm_sparsity_df = list()\n",
    "for data_name, type_ in s3d_hyperparameter_df[['data_name', 'type_']].drop_duplicates().values:\n",
    "    for cls_ in ['lasso', 'elasticnet']:\n",
    "        df = pd.read_csv('{}/bm-performance/{}-{}-feature_rankings.csv'.format(type_, data_name, cls_),\n",
    "                          index_col=0)\n",
    "        #print(lasso_df[lasso_df.columns[:-1]])\n",
    "        ## if the coefficient is less than 10^-8?\n",
    "        #print((lasso_df[lasso_df.columns[:-1]].values).sum(axis=1))\n",
    "        zero_coef = (df[df.columns[:-1]].values!=0).sum(axis=1)\n",
    "        zero_coef_df = pd.DataFrame({'num_features': zero_coef, 'split_version': pd.np.arange(5)})\n",
    "        zero_coef_df['data_name'] = data_name\n",
    "        zero_coef_df['model_name'] = cls_\n",
    "        zero_coef_df['type_'] = type_\n",
    "        bm_sparsity_df.append(zero_coef_df)\n",
    "bm_sparsity_df = pd.concat(bm_sparsity_df, ignore_index=True)\n",
    "bm_sparsity_df.head(2)"
   ]
  },
  {
   "cell_type": "code",
   "execution_count": 52,
   "metadata": {
    "ExecuteTime": {
     "end_time": "2018-07-23T19:58:14.806509Z",
     "start_time": "2018-07-23T19:58:14.781565Z"
    }
   },
   "outputs": [
    {
     "data": {
      "text/html": [
       "<div>\n",
       "<style scoped>\n",
       "    .dataframe tbody tr th:only-of-type {\n",
       "        vertical-align: middle;\n",
       "    }\n",
       "\n",
       "    .dataframe tbody tr th {\n",
       "        vertical-align: top;\n",
       "    }\n",
       "\n",
       "    .dataframe thead th {\n",
       "        text-align: right;\n",
       "    }\n",
       "</style>\n",
       "<table border=\"1\" class=\"dataframe\">\n",
       "  <thead>\n",
       "    <tr style=\"text-align: right;\">\n",
       "      <th></th>\n",
       "      <th>data_name</th>\n",
       "      <th>model_name</th>\n",
       "      <th>num_features</th>\n",
       "      <th>split_version</th>\n",
       "      <th>type_</th>\n",
       "    </tr>\n",
       "  </thead>\n",
       "  <tbody>\n",
       "    <tr>\n",
       "      <th>0</th>\n",
       "      <td>breastcancer</td>\n",
       "      <td>s3d</td>\n",
       "      <td>2</td>\n",
       "      <td>0</td>\n",
       "      <td>classification</td>\n",
       "    </tr>\n",
       "    <tr>\n",
       "      <th>1</th>\n",
       "      <td>breastcancer</td>\n",
       "      <td>s3d</td>\n",
       "      <td>1</td>\n",
       "      <td>1</td>\n",
       "      <td>classification</td>\n",
       "    </tr>\n",
       "  </tbody>\n",
       "</table>\n",
       "</div>"
      ],
      "text/plain": [
       "      data_name model_name  num_features  split_version           type_\n",
       "0  breastcancer        s3d             2              0  classification\n",
       "1  breastcancer        s3d             1              1  classification"
      ]
     },
     "execution_count": 52,
     "metadata": {},
     "output_type": "execute_result"
    }
   ],
   "source": [
    "sparsity_df = s3d_sparsity_df.append(bm_sparsity_df, ignore_index=True, sort=True)\n",
    "sparsity_df.head(2)"
   ]
  },
  {
   "cell_type": "code",
   "execution_count": 53,
   "metadata": {
    "ExecuteTime": {
     "end_time": "2018-07-23T19:58:14.990827Z",
     "start_time": "2018-07-23T19:58:14.980428Z"
    }
   },
   "outputs": [
    {
     "data": {
      "text/plain": [
       "lasso         90\n",
       "elasticnet    90\n",
       "s3d           90\n",
       "Name: model_name, dtype: int64"
      ]
     },
     "execution_count": 53,
     "metadata": {},
     "output_type": "execute_result"
    }
   ],
   "source": [
    "sparsity_df.model_name.value_counts()"
   ]
  },
  {
   "cell_type": "markdown",
   "metadata": {},
   "source": [
    "group by data, model, type, and split version to obtain ___mean # of features___"
   ]
  },
  {
   "cell_type": "code",
   "execution_count": 54,
   "metadata": {
    "ExecuteTime": {
     "end_time": "2018-07-23T19:58:15.604912Z",
     "start_time": "2018-07-23T19:58:15.557180Z"
    }
   },
   "outputs": [
    {
     "data": {
      "text/html": [
       "<div>\n",
       "<style scoped>\n",
       "    .dataframe tbody tr th:only-of-type {\n",
       "        vertical-align: middle;\n",
       "    }\n",
       "\n",
       "    .dataframe tbody tr th {\n",
       "        vertical-align: top;\n",
       "    }\n",
       "\n",
       "    .dataframe thead th {\n",
       "        text-align: right;\n",
       "    }\n",
       "</style>\n",
       "<table border=\"1\" class=\"dataframe\">\n",
       "  <thead>\n",
       "    <tr style=\"text-align: right;\">\n",
       "      <th></th>\n",
       "      <th>level_0</th>\n",
       "      <th>type_</th>\n",
       "      <th>model_name</th>\n",
       "      <th>data_name</th>\n",
       "      <th>0</th>\n",
       "    </tr>\n",
       "  </thead>\n",
       "  <tbody>\n",
       "    <tr>\n",
       "      <th>0</th>\n",
       "      <td>num_features</td>\n",
       "      <td>classification</td>\n",
       "      <td>elasticnet</td>\n",
       "      <td>breastcancer</td>\n",
       "      <td>9.0</td>\n",
       "    </tr>\n",
       "    <tr>\n",
       "      <th>1</th>\n",
       "      <td>num_features</td>\n",
       "      <td>classification</td>\n",
       "      <td>elasticnet</td>\n",
       "      <td>digg</td>\n",
       "      <td>19.0</td>\n",
       "    </tr>\n",
       "  </tbody>\n",
       "</table>\n",
       "</div>"
      ],
      "text/plain": [
       "        level_0           type_  model_name     data_name     0\n",
       "0  num_features  classification  elasticnet  breastcancer   9.0\n",
       "1  num_features  classification  elasticnet          digg  19.0"
      ]
     },
     "execution_count": 54,
     "metadata": {},
     "output_type": "execute_result"
    }
   ],
   "source": [
    "sparsity_df = sparsity_df.pivot_table(columns=['type_', 'model_name', 'data_name'], \n",
    "                                      values=['num_features'], aggfunc=pd.np.mean)\n",
    "sparsity_df = pd.DataFrame(sparsity_df)\n",
    "sparsity_df.reset_index(inplace=True)\n",
    "sparsity_df.head(2)"
   ]
  },
  {
   "cell_type": "code",
   "execution_count": 55,
   "metadata": {
    "ExecuteTime": {
     "end_time": "2018-07-23T19:58:15.901345Z",
     "start_time": "2018-07-23T19:58:15.892818Z"
    }
   },
   "outputs": [],
   "source": [
    "sparsity_df = sparsity_df[sparsity_df.columns[1:]]\n",
    "sparsity_df.columns = ['type_', 'model_name', 'data_name', 'num_features']"
   ]
  },
  {
   "cell_type": "code",
   "execution_count": 56,
   "metadata": {
    "ExecuteTime": {
     "end_time": "2018-07-23T19:58:16.480916Z",
     "start_time": "2018-07-23T19:58:16.462403Z"
    }
   },
   "outputs": [
    {
     "data": {
      "text/html": [
       "<div>\n",
       "<style scoped>\n",
       "    .dataframe tbody tr th:only-of-type {\n",
       "        vertical-align: middle;\n",
       "    }\n",
       "\n",
       "    .dataframe tbody tr th {\n",
       "        vertical-align: top;\n",
       "    }\n",
       "\n",
       "    .dataframe thead th {\n",
       "        text-align: right;\n",
       "    }\n",
       "</style>\n",
       "<table border=\"1\" class=\"dataframe\">\n",
       "  <thead>\n",
       "    <tr style=\"text-align: right;\">\n",
       "      <th></th>\n",
       "      <th>type_</th>\n",
       "      <th>model_name</th>\n",
       "      <th>data_name</th>\n",
       "      <th>num_features</th>\n",
       "    </tr>\n",
       "  </thead>\n",
       "  <tbody>\n",
       "    <tr>\n",
       "      <th>0</th>\n",
       "      <td>classification</td>\n",
       "      <td>elasticnet</td>\n",
       "      <td>breastcancer</td>\n",
       "      <td>9.0</td>\n",
       "    </tr>\n",
       "    <tr>\n",
       "      <th>1</th>\n",
       "      <td>classification</td>\n",
       "      <td>elasticnet</td>\n",
       "      <td>digg</td>\n",
       "      <td>19.0</td>\n",
       "    </tr>\n",
       "  </tbody>\n",
       "</table>\n",
       "</div>"
      ],
      "text/plain": [
       "            type_  model_name     data_name  num_features\n",
       "0  classification  elasticnet  breastcancer           9.0\n",
       "1  classification  elasticnet          digg          19.0"
      ]
     },
     "execution_count": 56,
     "metadata": {},
     "output_type": "execute_result"
    }
   ],
   "source": [
    "sparsity_df.head(2)"
   ]
  },
  {
   "cell_type": "markdown",
   "metadata": {},
   "source": [
    "---"
   ]
  },
  {
   "cell_type": "markdown",
   "metadata": {},
   "source": [
    "#### bar chart"
   ]
  },
  {
   "cell_type": "markdown",
   "metadata": {},
   "source": [
    "##### classification"
   ]
  },
  {
   "cell_type": "code",
   "execution_count": 59,
   "metadata": {
    "ExecuteTime": {
     "end_time": "2018-07-23T20:00:39.622749Z",
     "start_time": "2018-07-23T20:00:38.464453Z"
    }
   },
   "outputs": [
    {
     "data": {
      "text/plain": [
       "<seaborn.axisgrid.FacetGrid at 0x2af6acff3780>"
      ]
     },
     "execution_count": 59,
     "metadata": {},
     "output_type": "execute_result"
    },
    {
     "data": {
      "image/png": "[encoded data removed]",
      "text/plain": [
       "<Figure size 864x864 with 9 Axes>"
      ]
     },
     "metadata": {},
     "output_type": "display_data"
    }
   ],
   "source": [
    "sns.factorplot(x='model_name', y='num_features', data=sparsity_df.query(\"type_=='classification'\"), \n",
    "               col_wrap=3, col='data_name', kind='bar', sharey=False)"
   ]
  },
  {
   "cell_type": "markdown",
   "metadata": {},
   "source": [
    "##### regression"
   ]
  },
  {
   "cell_type": "code",
   "execution_count": 60,
   "metadata": {
    "ExecuteTime": {
     "end_time": "2018-07-23T20:02:33.087579Z",
     "start_time": "2018-07-23T20:02:31.872020Z"
    }
   },
   "outputs": [
    {
     "data": {
      "text/plain": [
       "<seaborn.axisgrid.FacetGrid at 0x2af6ad8d91d0>"
      ]
     },
     "execution_count": 60,
     "metadata": {},
     "output_type": "execute_result"
    },
    {
     "data": {
      "image/png": "[encoded data removed]",
      "text/plain": [
       "<Figure size 864x864 with 9 Axes>"
      ]
     },
     "metadata": {},
     "output_type": "display_data"
    }
   ],
   "source": [
    "sns.factorplot(x='model_name', y='num_features', data=sparsity_df.query(\"type_=='regression'\"), \n",
    "               col_wrap=3, col='data_name', kind='bar', sharey=False)"
   ]
  }
 ],
 "metadata": {
  "kernelspec": {
   "display_name": "Python 3",
   "language": "python",
   "name": "python3"
  },
  "language_info": {
   "codemirror_mode": {
    "name": "ipython",
    "version": 3
   },
   "file_extension": ".py",
   "mimetype": "text/x-python",
   "name": "python",
   "nbconvert_exporter": "python",
   "pygments_lexer": "ipython3",
   "version": "3.6.4"
  },
  "toc": {
   "base_numbering": 1,
   "nav_menu": {},
   "number_sections": true,
   "sideBar": true,
   "skip_h1_title": true,
   "title_cell": "Table of Contents",
   "title_sidebar": "Contents",
   "toc_cell": false,
   "toc_position": {},
   "toc_section_display": true,
   "toc_window_display": true
  }
 },
 "nbformat": 4,
 "nbformat_minor": 2
}
