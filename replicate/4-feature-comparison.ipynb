{
 "cells": [
  {
   "cell_type": "markdown",
   "metadata": {},
   "source": [
    "compare the sparsity between s3d and logitic regression\n"
   ]
  },
  {
   "cell_type": "markdown",
   "metadata": {
    "ExecuteTime": {
     "end_time": "2018-07-23T19:17:05.577176Z",
     "start_time": "2018-07-23T19:17:05.569868Z"
    }
   },
   "source": [
    "---"
   ]
  },
  {
   "cell_type": "code",
   "execution_count": 1,
   "metadata": {
    "ExecuteTime": {
     "end_time": "2018-07-31T22:43:56.939236Z",
     "start_time": "2018-07-31T22:43:55.845563Z"
    }
   },
   "outputs": [],
   "source": [
    "import pandas as pd"
   ]
  },
  {
   "cell_type": "code",
   "execution_count": 2,
   "metadata": {
    "ExecuteTime": {
     "end_time": "2018-07-31T22:43:58.399702Z",
     "start_time": "2018-07-31T22:43:56.942549Z"
    }
   },
   "outputs": [],
   "source": [
    "import palettable\n",
    "from matplotlib import pyplot as plt\n",
    "import seaborn as sns\n",
    "%matplotlib inline"
   ]
  },
  {
   "cell_type": "code",
   "execution_count": 3,
   "metadata": {
    "ExecuteTime": {
     "end_time": "2018-07-31T22:43:58.405129Z",
     "start_time": "2018-07-31T22:43:58.402087Z"
    }
   },
   "outputs": [],
   "source": [
    "color_list = pd.np.asarray(palettable.cartocolors.qualitative.Bold_7.mpl_colors)\n",
    "color_list = color_list[[3,1,0]]"
   ]
  },
  {
   "cell_type": "code",
   "execution_count": 4,
   "metadata": {
    "ExecuteTime": {
     "end_time": "2018-07-31T22:43:58.440850Z",
     "start_time": "2018-07-31T22:43:58.407003Z"
    }
   },
   "outputs": [
    {
     "data": {
      "text/plain": [
       "dict_keys(['breastcancer', 'spambase', 'spectf', 'parkinsons', 'stackoverflow_cleaned_subset', 'khan_cleaned', 'digg', 'twitter', 'duolingo_cleaned', 'appenergy', 'building_sales', 'building_costs', 'pol', 'breastcancer_reg', 'boston_housing', 'triazines', 'parkinsons_motor', 'parkinsons_total'])"
      ]
     },
     "execution_count": 4,
     "metadata": {},
     "output_type": "execute_result"
    }
   ],
   "source": [
    "import json\n",
    "name_pair_dict = json.load(open(\"../data/name_pair.json\"))\n",
    "name_pair_dict.keys()"
   ]
  },
  {
   "cell_type": "markdown",
   "metadata": {},
   "source": [
    "---"
   ]
  },
  {
   "cell_type": "markdown",
   "metadata": {},
   "source": [
    "#### read data"
   ]
  },
  {
   "cell_type": "markdown",
   "metadata": {},
   "source": [
    "this file comes from `1-hyperparameter.ipynb`"
   ]
  },
  {
   "cell_type": "code",
   "execution_count": 5,
   "metadata": {
    "ExecuteTime": {
     "end_time": "2018-07-31T22:44:32.645075Z",
     "start_time": "2018-07-31T22:44:32.546832Z"
    }
   },
   "outputs": [
    {
     "data": {
      "text/html": [
       "<div>\n",
       "<style scoped>\n",
       "    .dataframe tbody tr th:only-of-type {\n",
       "        vertical-align: middle;\n",
       "    }\n",
       "\n",
       "    .dataframe tbody tr th {\n",
       "        vertical-align: top;\n",
       "    }\n",
       "\n",
       "    .dataframe thead th {\n",
       "        text-align: right;\n",
       "    }\n",
       "</style>\n",
       "<table border=\"1\" class=\"dataframe\">\n",
       "  <thead>\n",
       "    <tr style=\"text-align: right;\">\n",
       "      <th></th>\n",
       "      <th>data_name</th>\n",
       "      <th>type_</th>\n",
       "      <th>split_version</th>\n",
       "      <th>lambda_</th>\n",
       "      <th>num_features</th>\n",
       "    </tr>\n",
       "  </thead>\n",
       "  <tbody>\n",
       "    <tr>\n",
       "      <th>0</th>\n",
       "      <td>breastcancer</td>\n",
       "      <td>classification</td>\n",
       "      <td>0</td>\n",
       "      <td>0.0010</td>\n",
       "      <td>2</td>\n",
       "    </tr>\n",
       "    <tr>\n",
       "      <th>1</th>\n",
       "      <td>breastcancer</td>\n",
       "      <td>classification</td>\n",
       "      <td>1</td>\n",
       "      <td>0.0003</td>\n",
       "      <td>1</td>\n",
       "    </tr>\n",
       "  </tbody>\n",
       "</table>\n",
       "</div>"
      ],
      "text/plain": [
       "      data_name           type_  split_version  lambda_  num_features\n",
       "0  breastcancer  classification              0   0.0010             2\n",
       "1  breastcancer  classification              1   0.0003             1"
      ]
     },
     "execution_count": 5,
     "metadata": {},
     "output_type": "execute_result"
    }
   ],
   "source": [
    "s3d_hyperparameter_df = pd.read_csv('s3d_hyperparameter_df.csv')\n",
    "s3d_hyperparameter_df.columns = ['data_name', 'type_', 'split_version', 'lambda_', 'num_features']\n",
    "s3d_hyperparameter_df.head(2)"
   ]
  },
  {
   "cell_type": "code",
   "execution_count": 6,
   "metadata": {
    "ExecuteTime": {
     "end_time": "2018-07-31T22:44:32.843959Z",
     "start_time": "2018-07-31T22:44:32.759739Z"
    }
   },
   "outputs": [
    {
     "data": {
      "text/html": [
       "<div>\n",
       "<style scoped>\n",
       "    .dataframe tbody tr th:only-of-type {\n",
       "        vertical-align: middle;\n",
       "    }\n",
       "\n",
       "    .dataframe tbody tr th {\n",
       "        vertical-align: top;\n",
       "    }\n",
       "\n",
       "    .dataframe thead th {\n",
       "        text-align: right;\n",
       "    }\n",
       "</style>\n",
       "<table border=\"1\" class=\"dataframe\">\n",
       "  <thead>\n",
       "    <tr style=\"text-align: right;\">\n",
       "      <th></th>\n",
       "      <th>data_name</th>\n",
       "      <th>type_</th>\n",
       "      <th>num_features</th>\n",
       "      <th>split_version</th>\n",
       "      <th>model_name</th>\n",
       "    </tr>\n",
       "  </thead>\n",
       "  <tbody>\n",
       "    <tr>\n",
       "      <th>0</th>\n",
       "      <td>breastcancer</td>\n",
       "      <td>classification</td>\n",
       "      <td>2</td>\n",
       "      <td>0</td>\n",
       "      <td>s3d</td>\n",
       "    </tr>\n",
       "    <tr>\n",
       "      <th>1</th>\n",
       "      <td>breastcancer</td>\n",
       "      <td>classification</td>\n",
       "      <td>1</td>\n",
       "      <td>1</td>\n",
       "      <td>s3d</td>\n",
       "    </tr>\n",
       "  </tbody>\n",
       "</table>\n",
       "</div>"
      ],
      "text/plain": [
       "      data_name           type_  num_features  split_version model_name\n",
       "0  breastcancer  classification             2              0        s3d\n",
       "1  breastcancer  classification             1              1        s3d"
      ]
     },
     "execution_count": 6,
     "metadata": {},
     "output_type": "execute_result"
    }
   ],
   "source": [
    "s3d_sparsity_df = s3d_hyperparameter_df[['data_name', 'type_', 'num_features', 'split_version']]\n",
    "s3d_sparsity_df['model_name'] = 's3d'\n",
    "s3d_sparsity_df.head(2)"
   ]
  },
  {
   "cell_type": "code",
   "execution_count": 7,
   "metadata": {
    "ExecuteTime": {
     "end_time": "2018-07-31T22:44:32.873855Z",
     "start_time": "2018-07-31T22:44:32.865312Z"
    }
   },
   "outputs": [
    {
     "data": {
      "text/plain": [
       "(18, True)"
      ]
     },
     "execution_count": 7,
     "metadata": {},
     "output_type": "execute_result"
    }
   ],
   "source": [
    "s3d_sparsity_df.data_name.unique().size, set(s3d_sparsity_df.data_name) == set(name_pair_dict)"
   ]
  },
  {
   "cell_type": "code",
   "execution_count": 8,
   "metadata": {
    "ExecuteTime": {
     "end_time": "2018-07-31T22:44:34.360985Z",
     "start_time": "2018-07-31T22:44:33.041452Z"
    }
   },
   "outputs": [
    {
     "data": {
      "text/html": [
       "<div>\n",
       "<style scoped>\n",
       "    .dataframe tbody tr th:only-of-type {\n",
       "        vertical-align: middle;\n",
       "    }\n",
       "\n",
       "    .dataframe tbody tr th {\n",
       "        vertical-align: top;\n",
       "    }\n",
       "\n",
       "    .dataframe thead th {\n",
       "        text-align: right;\n",
       "    }\n",
       "</style>\n",
       "<table border=\"1\" class=\"dataframe\">\n",
       "  <thead>\n",
       "    <tr style=\"text-align: right;\">\n",
       "      <th></th>\n",
       "      <th>data_name</th>\n",
       "      <th>model_name</th>\n",
       "      <th>num_features</th>\n",
       "      <th>split_version</th>\n",
       "      <th>type_</th>\n",
       "    </tr>\n",
       "  </thead>\n",
       "  <tbody>\n",
       "    <tr>\n",
       "      <th>0</th>\n",
       "      <td>breastcancer</td>\n",
       "      <td>lasso</td>\n",
       "      <td>8</td>\n",
       "      <td>0</td>\n",
       "      <td>classification</td>\n",
       "    </tr>\n",
       "    <tr>\n",
       "      <th>1</th>\n",
       "      <td>breastcancer</td>\n",
       "      <td>lasso</td>\n",
       "      <td>8</td>\n",
       "      <td>1</td>\n",
       "      <td>classification</td>\n",
       "    </tr>\n",
       "  </tbody>\n",
       "</table>\n",
       "</div>"
      ],
      "text/plain": [
       "      data_name model_name  num_features  split_version           type_\n",
       "0  breastcancer      lasso             8              0  classification\n",
       "1  breastcancer      lasso             8              1  classification"
      ]
     },
     "execution_count": 8,
     "metadata": {},
     "output_type": "execute_result"
    }
   ],
   "source": [
    "bm_sparsity_df = list()\n",
    "for data_name, type_ in s3d_hyperparameter_df[['data_name', 'type_']].drop_duplicates().values:\n",
    "    for cls_ in ['lasso', 'elasticnet']:\n",
    "        df = pd.read_csv('{}/bm-performance/{}-{}-feature_rankings.csv'.format(type_, data_name, cls_),\n",
    "                          index_col=0)\n",
    "        #print(lasso_df[lasso_df.columns[:-1]])\n",
    "        ## if the coefficient is less than 10^-8?\n",
    "        #print((lasso_df[lasso_df.columns[:-1]].values).sum(axis=1))\n",
    "        zero_coef = (df[df.columns[:-1]].values!=0).sum(axis=1)\n",
    "        zero_coef_df = pd.DataFrame({'num_features': zero_coef, 'split_version': pd.np.arange(5)})\n",
    "        zero_coef_df['data_name'] = data_name\n",
    "        zero_coef_df['model_name'] = cls_\n",
    "        zero_coef_df['type_'] = type_\n",
    "        bm_sparsity_df.append(zero_coef_df)\n",
    "bm_sparsity_df = pd.concat(bm_sparsity_df, ignore_index=True, sort=True)\n",
    "bm_sparsity_df.head(2)"
   ]
  },
  {
   "cell_type": "code",
   "execution_count": 9,
   "metadata": {
    "ExecuteTime": {
     "end_time": "2018-07-31T22:44:34.368458Z",
     "start_time": "2018-07-31T22:44:34.363479Z"
    }
   },
   "outputs": [
    {
     "data": {
      "text/plain": [
       "18"
      ]
     },
     "execution_count": 9,
     "metadata": {},
     "output_type": "execute_result"
    }
   ],
   "source": [
    "bm_sparsity_df.data_name.unique().size"
   ]
  },
  {
   "cell_type": "code",
   "execution_count": 10,
   "metadata": {
    "ExecuteTime": {
     "end_time": "2018-07-31T22:44:34.389011Z",
     "start_time": "2018-07-31T22:44:34.371307Z"
    }
   },
   "outputs": [
    {
     "data": {
      "text/html": [
       "<div>\n",
       "<style scoped>\n",
       "    .dataframe tbody tr th:only-of-type {\n",
       "        vertical-align: middle;\n",
       "    }\n",
       "\n",
       "    .dataframe tbody tr th {\n",
       "        vertical-align: top;\n",
       "    }\n",
       "\n",
       "    .dataframe thead th {\n",
       "        text-align: right;\n",
       "    }\n",
       "</style>\n",
       "<table border=\"1\" class=\"dataframe\">\n",
       "  <thead>\n",
       "    <tr style=\"text-align: right;\">\n",
       "      <th></th>\n",
       "      <th>data_name</th>\n",
       "      <th>model_name</th>\n",
       "      <th>num_features</th>\n",
       "      <th>split_version</th>\n",
       "      <th>type_</th>\n",
       "    </tr>\n",
       "  </thead>\n",
       "  <tbody>\n",
       "    <tr>\n",
       "      <th>0</th>\n",
       "      <td>breastcancer</td>\n",
       "      <td>s3d</td>\n",
       "      <td>2</td>\n",
       "      <td>0</td>\n",
       "      <td>classification</td>\n",
       "    </tr>\n",
       "    <tr>\n",
       "      <th>1</th>\n",
       "      <td>breastcancer</td>\n",
       "      <td>s3d</td>\n",
       "      <td>1</td>\n",
       "      <td>1</td>\n",
       "      <td>classification</td>\n",
       "    </tr>\n",
       "  </tbody>\n",
       "</table>\n",
       "</div>"
      ],
      "text/plain": [
       "      data_name model_name  num_features  split_version           type_\n",
       "0  breastcancer        s3d             2              0  classification\n",
       "1  breastcancer        s3d             1              1  classification"
      ]
     },
     "execution_count": 10,
     "metadata": {},
     "output_type": "execute_result"
    }
   ],
   "source": [
    "sparsity_df = s3d_sparsity_df.append(bm_sparsity_df, ignore_index=True, sort=True)\n",
    "sparsity_df.head(2)"
   ]
  },
  {
   "cell_type": "code",
   "execution_count": 11,
   "metadata": {
    "ExecuteTime": {
     "end_time": "2018-07-31T22:44:34.541004Z",
     "start_time": "2018-07-31T22:44:34.535851Z"
    }
   },
   "outputs": [
    {
     "data": {
      "text/plain": [
       "18"
      ]
     },
     "execution_count": 11,
     "metadata": {},
     "output_type": "execute_result"
    }
   ],
   "source": [
    "sparsity_df.data_name.unique().size"
   ]
  },
  {
   "cell_type": "code",
   "execution_count": 12,
   "metadata": {
    "ExecuteTime": {
     "end_time": "2018-07-31T22:44:34.704750Z",
     "start_time": "2018-07-31T22:44:34.696720Z"
    }
   },
   "outputs": [
    {
     "data": {
      "text/plain": [
       "lasso         90\n",
       "s3d           90\n",
       "elasticnet    90\n",
       "Name: model_name, dtype: int64"
      ]
     },
     "execution_count": 12,
     "metadata": {},
     "output_type": "execute_result"
    }
   ],
   "source": [
    "sparsity_df.model_name.value_counts()"
   ]
  },
  {
   "cell_type": "markdown",
   "metadata": {},
   "source": [
    "---"
   ]
  },
  {
   "cell_type": "markdown",
   "metadata": {},
   "source": [
    "#### bar chart"
   ]
  },
  {
   "cell_type": "code",
   "execution_count": 13,
   "metadata": {
    "ExecuteTime": {
     "end_time": "2018-07-28T18:20:35.176520Z",
     "start_time": "2018-07-28T18:20:35.157367Z"
    }
   },
   "outputs": [
    {
     "data": {
      "text/html": [
       "<div>\n",
       "<style scoped>\n",
       "    .dataframe tbody tr th:only-of-type {\n",
       "        vertical-align: middle;\n",
       "    }\n",
       "\n",
       "    .dataframe tbody tr th {\n",
       "        vertical-align: top;\n",
       "    }\n",
       "\n",
       "    .dataframe thead th {\n",
       "        text-align: right;\n",
       "    }\n",
       "</style>\n",
       "<table border=\"1\" class=\"dataframe\">\n",
       "  <thead>\n",
       "    <tr style=\"text-align: right;\">\n",
       "      <th></th>\n",
       "      <th>data_name</th>\n",
       "      <th>model_name</th>\n",
       "      <th>num_features</th>\n",
       "      <th>split_version</th>\n",
       "      <th>type_</th>\n",
       "    </tr>\n",
       "  </thead>\n",
       "  <tbody>\n",
       "    <tr>\n",
       "      <th>0</th>\n",
       "      <td>breastcancer</td>\n",
       "      <td>s3d</td>\n",
       "      <td>2</td>\n",
       "      <td>0</td>\n",
       "      <td>classification</td>\n",
       "    </tr>\n",
       "    <tr>\n",
       "      <th>1</th>\n",
       "      <td>breastcancer</td>\n",
       "      <td>s3d</td>\n",
       "      <td>1</td>\n",
       "      <td>1</td>\n",
       "      <td>classification</td>\n",
       "    </tr>\n",
       "  </tbody>\n",
       "</table>\n",
       "</div>"
      ],
      "text/plain": [
       "      data_name model_name  num_features  split_version           type_\n",
       "0  breastcancer        s3d             2              0  classification\n",
       "1  breastcancer        s3d             1              1  classification"
      ]
     },
     "execution_count": 13,
     "metadata": {},
     "output_type": "execute_result"
    }
   ],
   "source": [
    "sparsity_df.head(2)"
   ]
  },
  {
   "cell_type": "markdown",
   "metadata": {},
   "source": [
    "##### classification"
   ]
  },
  {
   "cell_type": "code",
   "execution_count": 14,
   "metadata": {
    "ExecuteTime": {
     "end_time": "2018-07-28T18:20:35.874020Z",
     "start_time": "2018-07-28T18:20:35.868702Z"
    }
   },
   "outputs": [],
   "source": [
    "data_list = [\n",
    "             \"breastcancer\", \"spambase\", \"spectf\", \"parkinsons\",\n",
    "             \"stackoverflow_cleaned_subset\", \"khan_cleaned\",\n",
    "             \"digg\", \"twitter\", \"duolingo_cleaned\"\n",
    "            ]"
   ]
  },
  {
   "cell_type": "code",
   "execution_count": 16,
   "metadata": {
    "ExecuteTime": {
     "end_time": "2018-07-28T18:20:51.714517Z",
     "start_time": "2018-07-28T18:20:50.541082Z"
    }
   },
   "outputs": [
    {
     "data": {
      "text/plain": [
       "<seaborn.axisgrid.FacetGrid at 0x2b324e375be0>"
      ]
     },
     "execution_count": 16,
     "metadata": {},
     "output_type": "execute_result"
    },
    {
     "data": {
      "image/png": "[encoded data removed]",
      "text/plain": [
       "<Figure size 810x540 with 9 Axes>"
      ]
     },
     "metadata": {},
     "output_type": "display_data"
    }
   ],
   "source": [
    "g = sns.factorplot(x='model_name', y='num_features',\n",
    "                   col_order=data_list, aspect=1.5, size=2.5,\n",
    "                   order=['elasticnet', 'lasso', 's3d'],\n",
    "                   data=sparsity_df.query(\"type_=='classification'\"), \n",
    "                   col_wrap=3, col='data_name', \n",
    "                   #kind='bar',\n",
    "                   kind='box',\n",
    "                   palette=color_list, sharey=False,\n",
    "                  )\n",
    "for ax_i in g.axes:\n",
    "    ax_i.set_title(name_pair_dict[ax_i.get_title().split(' = ')[-1]])\n",
    "g.set_xlabels('')\n",
    "g.set_xticklabels(['Elastic Net', 'Lasso', 'S3D'], size=12)"
   ]
  },
  {
   "cell_type": "markdown",
   "metadata": {},
   "source": [
    "##### regression"
   ]
  },
  {
   "cell_type": "code",
   "execution_count": 17,
   "metadata": {
    "ExecuteTime": {
     "end_time": "2018-07-28T18:25:19.152415Z",
     "start_time": "2018-07-28T18:25:19.146271Z"
    }
   },
   "outputs": [],
   "source": [
    "data_list = [\"appenergy\", \"building_sales\", \"building_costs\",\n",
    "             \"pol\", \"breastcancer_reg\",  \n",
    "             \"boston_housing\", \"triazines\",\n",
    "             \"parkinsons_motor\", \"parkinsons_total\",\n",
    "            ]"
   ]
  },
  {
   "cell_type": "code",
   "execution_count": 18,
   "metadata": {
    "ExecuteTime": {
     "end_time": "2018-07-28T18:25:26.803616Z",
     "start_time": "2018-07-28T18:25:25.616731Z"
    }
   },
   "outputs": [
    {
     "data": {
      "text/plain": [
       "<seaborn.axisgrid.FacetGrid at 0x2b31a538a048>"
      ]
     },
     "execution_count": 18,
     "metadata": {},
     "output_type": "execute_result"
    },
    {
     "data": {
      "image/png": "[encoded data removed]",
      "text/plain": [
       "<Figure size 810x540 with 9 Axes>"
      ]
     },
     "metadata": {},
     "output_type": "display_data"
    }
   ],
   "source": [
    "g = sns.factorplot(x='model_name', y='num_features',\n",
    "                   col_order=data_list, aspect=1.5, size=2.5,\n",
    "                   order=['elasticnet', 'lasso', 's3d'],\n",
    "                   data=sparsity_df.query(\"type_!='classification'\"), \n",
    "                   col_wrap=3, col='data_name', \n",
    "                   #kind='bar',\n",
    "                   kind='box',\n",
    "                   palette=color_list, sharey=False,\n",
    "                  )\n",
    "for ax_i in g.axes:\n",
    "    ax_i.set_title(name_pair_dict[ax_i.get_title().split(' = ')[-1]])\n",
    "g.set_xlabels('')\n",
    "g.set_xticklabels(['Elastic Net', 'Lasso', 'S3D'], size=12)"
   ]
  },
  {
   "cell_type": "markdown",
   "metadata": {},
   "source": [
    "##### one bar chart"
   ]
  },
  {
   "cell_type": "code",
   "execution_count": 13,
   "metadata": {
    "ExecuteTime": {
     "end_time": "2018-07-31T22:44:37.542385Z",
     "start_time": "2018-07-31T22:44:37.537849Z"
    }
   },
   "outputs": [],
   "source": [
    "data_list = [\n",
    "             \"breastcancer\", \"spambase\", \"spectf\", \"parkinsons\",\n",
    "             \"stackoverflow_cleaned_subset\", \"khan_cleaned\",\n",
    "             \"digg\", \"twitter\", \"duolingo_cleaned\",\n",
    "             \"appenergy\", \"building_sales\", \"building_costs\",\n",
    "             \"pol\", \"breastcancer_reg\",  \n",
    "             \"boston_housing\", \"triazines\",\n",
    "             \"parkinsons_motor\", \"parkinsons_total\",\n",
    "            ]"
   ]
  },
  {
   "cell_type": "code",
   "execution_count": 14,
   "metadata": {
    "ExecuteTime": {
     "end_time": "2018-07-31T22:44:40.144988Z",
     "start_time": "2018-07-31T22:44:38.071149Z"
    }
   },
   "outputs": [
    {
     "data": {
      "text/plain": [
       "<seaborn.axisgrid.FacetGrid at 0x2ae3f7553470>"
      ]
     },
     "execution_count": 14,
     "metadata": {},
     "output_type": "execute_result"
    },
    {
     "data": {
      "image/png": "[encoded data removed]",
      "text/plain": [
       "<Figure size 1080x900 with 18 Axes>"
      ]
     },
     "metadata": {},
     "output_type": "display_data"
    }
   ],
   "source": [
    "g = sns.factorplot(x='model_name', y='num_features',\n",
    "                   col_order=data_list, aspect=1.5, size=2.5,\n",
    "                   order=['elasticnet', 'lasso', 's3d'],\n",
    "                   data=sparsity_df,\n",
    "                   width=0.8, boxprops=dict(alpha=.7),\n",
    "                   #col_wrap=4, col='data_name', kind='bar',\n",
    "                   col_wrap=4, col='data_name', kind='box',\n",
    "                   palette=color_list, sharey=False,\n",
    "                  )\n",
    "for ax_i in g.axes:\n",
    "    ax_i.set_title(name_pair_dict[ax_i.get_title().split(' = ')[-1]])\n",
    "g.set_xlabels('')\n",
    "g.set_xticklabels(['Elastic Net', 'Lasso', 'S3D'], size=12)"
   ]
  }
 ],
 "metadata": {
  "kernelspec": {
   "display_name": "Python 3",
   "language": "python",
   "name": "python3"
  },
  "language_info": {
   "codemirror_mode": {
    "name": "ipython",
    "version": 3
   },
   "file_extension": ".py",
   "mimetype": "text/x-python",
   "name": "python",
   "nbconvert_exporter": "python",
   "pygments_lexer": "ipython3",
   "version": "3.6.4"
  },
  "toc": {
   "base_numbering": 1,
   "nav_menu": {},
   "number_sections": true,
   "sideBar": true,
   "skip_h1_title": true,
   "title_cell": "Table of Contents",
   "title_sidebar": "Contents",
   "toc_cell": false,
   "toc_position": {
    "height": "calc(100% - 180px)",
    "left": "10px",
    "top": "150px",
    "width": "336px"
   },
   "toc_section_display": true,
   "toc_window_display": true
  }
 },
 "nbformat": 4,
 "nbformat_minor": 2
}
