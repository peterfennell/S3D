{
 "cells": [
  {
   "cell_type": "markdown",
   "metadata": {},
   "source": [
    "obtain the runtime for each classifier, given the best parameters"
   ]
  },
  {
   "cell_type": "markdown",
   "metadata": {},
   "source": [
    "---"
   ]
  },
  {
   "cell_type": "code",
   "execution_count": 1,
   "metadata": {
    "ExecuteTime": {
     "end_time": "2018-09-20T17:26:36.998215Z",
     "start_time": "2018-09-20T17:26:36.211818Z"
    }
   },
   "outputs": [],
   "source": [
    "import os\n",
    "import pandas as pd"
   ]
  },
  {
   "cell_type": "code",
   "execution_count": 2,
   "metadata": {
    "ExecuteTime": {
     "end_time": "2018-09-20T17:26:38.286332Z",
     "start_time": "2018-09-20T17:26:37.000983Z"
    }
   },
   "outputs": [],
   "source": [
    "import palettable\n",
    "from matplotlib import pyplot as plt\n",
    "import seaborn as sns\n",
    "%matplotlib inline"
   ]
  },
  {
   "cell_type": "code",
   "execution_count": 3,
   "metadata": {
    "ExecuteTime": {
     "end_time": "2018-09-20T17:26:38.291524Z",
     "start_time": "2018-09-20T17:26:38.288739Z"
    }
   },
   "outputs": [],
   "source": [
    "bm_base_dir = 'runtime/'\n",
    "s3d_base_dir = 's3d-runtime/'"
   ]
  },
  {
   "cell_type": "markdown",
   "metadata": {},
   "source": [
    "---"
   ]
  },
  {
   "cell_type": "markdown",
   "metadata": {},
   "source": [
    "#### benchmark algorithms"
   ]
  },
  {
   "cell_type": "code",
   "execution_count": 4,
   "metadata": {
    "ExecuteTime": {
     "end_time": "2018-09-20T17:26:38.752491Z",
     "start_time": "2018-09-20T17:26:38.746316Z"
    }
   },
   "outputs": [
    {
     "data": {
      "text/plain": [
       "18"
      ]
     },
     "execution_count": 4,
     "metadata": {},
     "output_type": "execute_result"
    }
   ],
   "source": [
    "file_list = [f for f in os.listdir(bm_base_dir)]\n",
    "len(file_list)"
   ]
  },
  {
   "cell_type": "markdown",
   "metadata": {
    "ExecuteTime": {
     "end_time": "2018-07-28T15:32:48.196998Z",
     "start_time": "2018-07-28T15:32:48.171350Z"
    }
   },
   "source": [
    "for each dataset, average over model"
   ]
  },
  {
   "cell_type": "code",
   "execution_count": 5,
   "metadata": {
    "ExecuteTime": {
     "end_time": "2018-09-20T17:26:40.379588Z",
     "start_time": "2018-09-20T17:26:39.608675Z"
    }
   },
   "outputs": [
    {
     "data": {
      "text/html": [
       "<div>\n",
       "<style scoped>\n",
       "    .dataframe tbody tr th:only-of-type {\n",
       "        vertical-align: middle;\n",
       "    }\n",
       "\n",
       "    .dataframe tbody tr th {\n",
       "        vertical-align: top;\n",
       "    }\n",
       "\n",
       "    .dataframe thead th {\n",
       "        text-align: right;\n",
       "    }\n",
       "</style>\n",
       "<table border=\"1\" class=\"dataframe\">\n",
       "  <thead>\n",
       "    <tr style=\"text-align: right;\">\n",
       "      <th></th>\n",
       "      <th>clf_name</th>\n",
       "      <th>data_name</th>\n",
       "      <th>train_time</th>\n",
       "    </tr>\n",
       "  </thead>\n",
       "  <tbody>\n",
       "    <tr>\n",
       "      <th>0</th>\n",
       "      <td>linearsvr</td>\n",
       "      <td>pol</td>\n",
       "      <td>0.256196</td>\n",
       "    </tr>\n",
       "    <tr>\n",
       "      <th>1</th>\n",
       "      <td>linearsvr</td>\n",
       "      <td>pol</td>\n",
       "      <td>0.198082</td>\n",
       "    </tr>\n",
       "  </tbody>\n",
       "</table>\n",
       "</div>"
      ],
      "text/plain": [
       "    clf_name data_name  train_time\n",
       "0  linearsvr       pol    0.256196\n",
       "1  linearsvr       pol    0.198082"
      ]
     },
     "execution_count": 5,
     "metadata": {},
     "output_type": "execute_result"
    }
   ],
   "source": [
    "runtime_df = list()\n",
    "for f in file_list:\n",
    "    data_name = f[:-4]\n",
    "    #df = pd.read_csv(base_dir+f).groupby('clf_name').mean()\n",
    "    df = pd.read_csv(bm_base_dir+f).query(\"clf_name!='s3d'\")\n",
    "    #df.reset_index(inplace=True, drop=False)\n",
    "    df['data_name'] = data_name\n",
    "    df.drop(columns=['fold_index'], inplace=True)\n",
    "    runtime_df.append(df)\n",
    "runtime_df = pd.concat(runtime_df, ignore_index=True)\n",
    "runtime_df.head(2)"
   ]
  },
  {
   "cell_type": "code",
   "execution_count": 6,
   "metadata": {
    "ExecuteTime": {
     "end_time": "2018-09-20T17:26:40.510101Z",
     "start_time": "2018-09-20T17:26:40.500543Z"
    }
   },
   "outputs": [
    {
     "data": {
      "text/plain": [
       "True"
      ]
     },
     "execution_count": 6,
     "metadata": {},
     "output_type": "execute_result"
    }
   ],
   "source": [
    "pd.np.all(runtime_df.groupby(['clf_name', 'data_name']).size().values == 50)"
   ]
  },
  {
   "cell_type": "markdown",
   "metadata": {},
   "source": [
    "---"
   ]
  },
  {
   "cell_type": "markdown",
   "metadata": {},
   "source": [
    "#### s3d"
   ]
  },
  {
   "cell_type": "code",
   "execution_count": 7,
   "metadata": {
    "ExecuteTime": {
     "end_time": "2018-09-20T17:26:42.942900Z",
     "start_time": "2018-09-20T17:26:42.934695Z"
    }
   },
   "outputs": [
    {
     "data": {
      "text/plain": [
       "18"
      ]
     },
     "execution_count": 7,
     "metadata": {},
     "output_type": "execute_result"
    }
   ],
   "source": [
    "file_list = [f for f in os.listdir(s3d_base_dir)]\n",
    "len(file_list)"
   ]
  },
  {
   "cell_type": "code",
   "execution_count": 8,
   "metadata": {
    "ExecuteTime": {
     "end_time": "2018-09-20T17:26:43.327984Z",
     "start_time": "2018-09-20T17:26:43.078048Z"
    }
   },
   "outputs": [
    {
     "data": {
      "text/html": [
       "<div>\n",
       "<style scoped>\n",
       "    .dataframe tbody tr th:only-of-type {\n",
       "        vertical-align: middle;\n",
       "    }\n",
       "\n",
       "    .dataframe tbody tr th {\n",
       "        vertical-align: top;\n",
       "    }\n",
       "\n",
       "    .dataframe thead th {\n",
       "        text-align: right;\n",
       "    }\n",
       "</style>\n",
       "<table border=\"1\" class=\"dataframe\">\n",
       "  <thead>\n",
       "    <tr style=\"text-align: right;\">\n",
       "      <th></th>\n",
       "      <th>data_name</th>\n",
       "      <th>train_time</th>\n",
       "      <th>clf_name</th>\n",
       "    </tr>\n",
       "  </thead>\n",
       "  <tbody>\n",
       "    <tr>\n",
       "      <th>0</th>\n",
       "      <td>building_sales</td>\n",
       "      <td>1.680212</td>\n",
       "      <td>s3d</td>\n",
       "    </tr>\n",
       "    <tr>\n",
       "      <th>1</th>\n",
       "      <td>building_sales</td>\n",
       "      <td>1.570625</td>\n",
       "      <td>s3d</td>\n",
       "    </tr>\n",
       "  </tbody>\n",
       "</table>\n",
       "</div>"
      ],
      "text/plain": [
       "        data_name  train_time clf_name\n",
       "0  building_sales    1.680212      s3d\n",
       "1  building_sales    1.570625      s3d"
      ]
     },
     "execution_count": 8,
     "metadata": {},
     "output_type": "execute_result"
    }
   ],
   "source": [
    "s3d_runtime_df = list()\n",
    "for f in file_list:\n",
    "    data_name = f[:-4]\n",
    "    runtime_arr = pd.np.loadtxt(s3d_base_dir+f)\n",
    "    #print(runtime_arr.size)\n",
    "    #break\n",
    "    d = {'data_name': [f[:-4]]*runtime_arr.size,\n",
    "         'train_time': runtime_arr\n",
    "        }\n",
    "    s3d_runtime_df.append(pd.DataFrame(d))\n",
    "s3d_runtime_df = pd.concat(s3d_runtime_df, ignore_index=True)\n",
    "s3d_runtime_df['clf_name'] = 's3d'\n",
    "s3d_runtime_df.head(2)"
   ]
  },
  {
   "cell_type": "markdown",
   "metadata": {},
   "source": [
    "---"
   ]
  },
  {
   "cell_type": "markdown",
   "metadata": {},
   "source": [
    "#### visualize"
   ]
  },
  {
   "cell_type": "code",
   "execution_count": 9,
   "metadata": {
    "ExecuteTime": {
     "end_time": "2018-09-20T17:26:44.465866Z",
     "start_time": "2018-09-20T17:26:44.449025Z"
    }
   },
   "outputs": [
    {
     "data": {
      "text/plain": [
       "True"
      ]
     },
     "execution_count": 9,
     "metadata": {},
     "output_type": "execute_result"
    }
   ],
   "source": [
    "df = s3d_runtime_df.append(runtime_df, ignore_index=True, sort=True)\n",
    "pd.np.all(df.groupby(['clf_name', 'data_name']).size().values == 50)"
   ]
  },
  {
   "cell_type": "code",
   "execution_count": 10,
   "metadata": {
    "ExecuteTime": {
     "end_time": "2018-09-20T17:26:44.600179Z",
     "start_time": "2018-09-20T17:26:44.595155Z"
    }
   },
   "outputs": [],
   "source": [
    "import json\n",
    "name_pair_dict = json.load(open(\"../data/name_pair.json\"))"
   ]
  },
  {
   "cell_type": "code",
   "execution_count": 11,
   "metadata": {
    "ExecuteTime": {
     "end_time": "2018-09-20T17:26:44.752562Z",
     "start_time": "2018-09-20T17:26:44.728613Z"
    }
   },
   "outputs": [],
   "source": [
    "idx_arr = df[df.clf_name.str.startswith('linearsv')].index.values\n",
    "df.loc[idx_arr, 'clf_name'] = 'linearsvm'"
   ]
  },
  {
   "cell_type": "code",
   "execution_count": 12,
   "metadata": {
    "ExecuteTime": {
     "end_time": "2018-09-20T17:26:44.873035Z",
     "start_time": "2018-09-20T17:26:44.866215Z"
    }
   },
   "outputs": [],
   "source": [
    "data_list = [\n",
    "             \"breastcancer\", \"spambase\", \"spectf\", \"parkinsons\",\n",
    "             \"stackoverflow_cleaned_subset\", \"khan_cleaned\",\n",
    "             \"digg\", \"twitter\", \"duolingo_cleaned\",\n",
    "             \"appenergy\", \"building_sales\", \"building_costs\",\n",
    "             \"pol\", \"breastcancer_reg\",  \n",
    "             \"boston_housing\", \"triazines\",\n",
    "             \"parkinsons_motor\", \"parkinsons_total\",\n",
    "            ]"
   ]
  },
  {
   "cell_type": "code",
   "execution_count": 13,
   "metadata": {
    "ExecuteTime": {
     "end_time": "2018-09-20T17:26:45.005483Z",
     "start_time": "2018-09-20T17:26:45.000619Z"
    }
   },
   "outputs": [],
   "source": [
    "order_list = ['linearsvm', 'randomforest', \n",
    "              #'randomforest_2k', 'randomforest_k',\n",
    "              'lasso', 'elasticnet', 's3d', \n",
    "             ]"
   ]
  },
  {
   "cell_type": "code",
   "execution_count": 14,
   "metadata": {
    "ExecuteTime": {
     "end_time": "2018-09-20T17:26:46.051196Z",
     "start_time": "2018-09-20T17:26:46.045746Z"
    }
   },
   "outputs": [],
   "source": [
    "color_list = pd.np.asarray(palettable.cartocolors.qualitative.Bold_7.mpl_colors)\n",
    "#color_list = color_list[[2,5,6,4,3,1,0]]\n",
    "color_list = color_list[[2,5,3,1,0]]"
   ]
  },
  {
   "cell_type": "code",
   "execution_count": 15,
   "metadata": {
    "ExecuteTime": {
     "end_time": "2018-09-20T17:26:48.997094Z",
     "start_time": "2018-09-20T17:26:46.203528Z"
    }
   },
   "outputs": [
    {
     "data": {
      "text/plain": [
       "<seaborn.axisgrid.FacetGrid at 0x2b2d23bb05c0>"
      ]
     },
     "execution_count": 15,
     "metadata": {},
     "output_type": "execute_result"
    },
    {
     "data": {
      "image/png": "[encoded data removed]",
      "text/plain": [
       "<Figure size 1080x900 with 18 Axes>"
      ]
     },
     "metadata": {},
     "output_type": "display_data"
    }
   ],
   "source": [
    "g = sns.factorplot(x='clf_name', y='train_time', data=df,\n",
    "                   col='data_name', col_wrap=4, col_order=data_list,\n",
    "                   order=order_list, aspect=1.5, size=2.5,\n",
    "                   width=0.8, boxprops=dict(alpha=.75),\n",
    "                   palette=color_list,\n",
    "                   sharey=False, kind='box')\n",
    "for ax_i in g.axes:\n",
    "    ax_i.set_title(name_pair_dict[ax_i.get_title().split(' = ')[-1]])\n",
    "g.set_xlabels('')\n",
    "g.set_xticklabels(['Linear SVM', 'RF', 'Lasso', 'Elastic Net' ,'S3D', ], size=12, rotation=-45)"
   ]
  },
  {
   "cell_type": "code",
   "execution_count": 16,
   "metadata": {
    "ExecuteTime": {
     "end_time": "2018-09-20T17:27:04.654595Z",
     "start_time": "2018-09-20T17:27:02.991064Z"
    }
   },
   "outputs": [],
   "source": [
    "g.savefig('figures/runtime.pdf', format='pdf', dpi=1000)"
   ]
  }
 ],
 "metadata": {
  "kernelspec": {
   "display_name": "Python 3",
   "language": "python",
   "name": "python3"
  },
  "language_info": {
   "codemirror_mode": {
    "name": "ipython",
    "version": 3
   },
   "file_extension": ".py",
   "mimetype": "text/x-python",
   "name": "python",
   "nbconvert_exporter": "python",
   "pygments_lexer": "ipython3",
   "version": "3.6.4"
  },
  "toc": {
   "base_numbering": 1,
   "nav_menu": {},
   "number_sections": true,
   "sideBar": true,
   "skip_h1_title": true,
   "title_cell": "Table of Contents",
   "title_sidebar": "Contents",
   "toc_cell": false,
   "toc_position": {},
   "toc_section_display": true,
   "toc_window_display": true
  }
 },
 "nbformat": 4,
 "nbformat_minor": 2
}
