{
 "cells": [
  {
   "cell_type": "markdown",
   "metadata": {},
   "source": [
    "visualize nested cross validation"
   ]
  },
  {
   "cell_type": "markdown",
   "metadata": {},
   "source": [
    "---"
   ]
  },
  {
   "cell_type": "code",
   "execution_count": 1,
   "metadata": {
    "ExecuteTime": {
     "end_time": "2018-09-20T16:48:52.063738Z",
     "start_time": "2018-09-20T16:48:41.805341Z"
    }
   },
   "outputs": [],
   "source": [
    "import pandas as pd\n",
    "import palettable\n",
    "import seaborn as sns\n",
    "from matplotlib import patches\n",
    "from matplotlib import pyplot as plt\n",
    "%matplotlib inline"
   ]
  },
  {
   "cell_type": "code",
   "execution_count": 2,
   "metadata": {
    "ExecuteTime": {
     "end_time": "2018-09-20T16:48:52.069363Z",
     "start_time": "2018-09-20T16:48:52.066158Z"
    }
   },
   "outputs": [],
   "source": [
    "purple_color = '#A575B0'\n",
    "blue_color = '#3181BD'\n",
    "orange_color = 'orange'"
   ]
  },
  {
   "cell_type": "markdown",
   "metadata": {},
   "source": [
    "---"
   ]
  },
  {
   "cell_type": "code",
   "execution_count": 3,
   "metadata": {
    "ExecuteTime": {
     "end_time": "2018-09-20T16:48:52.081772Z",
     "start_time": "2018-09-20T16:48:52.072029Z"
    }
   },
   "outputs": [
    {
     "data": {
      "text/plain": [
       "array(['1', '2', '3', '4', '5'], \n",
       "      dtype='<U21')"
      ]
     },
     "execution_count": 3,
     "metadata": {},
     "output_type": "execute_result"
    }
   ],
   "source": [
    "text_list = pd.np.arange(1, 6).astype(str)\n",
    "text_list"
   ]
  },
  {
   "cell_type": "code",
   "execution_count": 4,
   "metadata": {
    "ExecuteTime": {
     "end_time": "2018-09-20T16:48:52.088053Z",
     "start_time": "2018-09-20T16:48:52.084014Z"
    }
   },
   "outputs": [],
   "source": [
    "base = 0.5\n",
    "width = 0.2\n",
    "adj = 0.01\n",
    "fs = 15"
   ]
  },
  {
   "cell_type": "code",
   "execution_count": 5,
   "metadata": {
    "ExecuteTime": {
     "end_time": "2018-09-20T16:48:52.418287Z",
     "start_time": "2018-09-20T16:48:52.090183Z"
    }
   },
   "outputs": [
    {
     "data": {
      "image/png": "[encoded data removed]",
      "text/plain": [
       "<Figure size 576x576 with 1 Axes>"
      ]
     },
     "metadata": {},
     "output_type": "display_data"
    }
   ],
   "source": [
    "fig, ax = plt.subplots(figsize=(8,8))\n",
    "for i, left in enumerate(pd.np.linspace(0, 0.8, 5)):\n",
    "    ax.add_patch(patches.Rectangle((left, base), width, width,\n",
    "                                   facecolor=blue_color, edgecolor='k',\n",
    "                                   linewidth=4))\n",
    "    right = left + width\n",
    "    ax.text(x=(left+right)/2-adj, y=base+width/2-adj, s=text_list[i], color='white', fontsize=fs+3)\n",
    "ax.set_frame_on(False)\n",
    "ax.xaxis.set_visible(False)\n",
    "ax.yaxis.set_visible(False)\n",
    "\n",
    "ax.annotate('Test', xy=(0.1, base-0.05), xytext=(0.1, base-0.15), \n",
    "            xycoords='axes fraction', \n",
    "            textcoords='axes fraction', \n",
    "            fontsize=fs, ha='center', va='bottom',\n",
    "            bbox=dict(boxstyle='square', fc='white', ec='black'),\n",
    "            arrowprops=dict(arrowstyle='-[, widthB=2.5, lengthB=0.7', lw=2.0, color='black'))\n",
    "\n",
    "ax.annotate('Train\\n(inner)', xy=(0.7, base+0.24), xytext=(0.7, base+0.3), \n",
    "            xycoords='axes fraction',\n",
    "            textcoords='axes fraction', \n",
    "            fontsize=fs, ha='center', va='bottom',\n",
    "            bbox=dict(boxstyle='square', fc='white', ec='black'),\n",
    "            arrowprops=dict(arrowstyle='-[, widthB=8.7, lengthB=0.7', lw=2.0, color='black'))\n",
    "\n",
    "ax.annotate('Validation\\n(inner)', xy=(0.3, base+0.24), xytext=(0.3, base+0.3), \n",
    "            xycoords='axes fraction',\n",
    "            textcoords='axes fraction', \n",
    "            fontsize=fs, ha='center', va='bottom',\n",
    "            bbox=dict(boxstyle='square', fc='white', ec='black'),\n",
    "            arrowprops=dict(arrowstyle='-[, widthB=2.5, lengthB=0.7', lw=2.0, color='black'))\n",
    "\n",
    "_ = ax.annotate('Train', xy=(0.6, base-0.05), xytext=(0.6, base-0.15), \n",
    "                xycoords='axes fraction', \n",
    "                textcoords='axes fraction', \n",
    "                fontsize=fs, ha='center', va='bottom',\n",
    "                bbox=dict(boxstyle='square', fc='white', ec='black'),\n",
    "                arrowprops=dict(arrowstyle='-[, widthB=11.7, lengthB=0.7', lw=2.0, color='black'))"
   ]
  },
  {
   "cell_type": "code",
   "execution_count": 12,
   "metadata": {
    "ExecuteTime": {
     "end_time": "2018-09-20T16:57:16.444831Z",
     "start_time": "2018-09-20T16:57:16.388474Z"
    }
   },
   "outputs": [],
   "source": [
    "fig.savefig(fname='figures/sup_crossval.pdf', dpi=3000, format='pdf')"
   ]
  }
 ],
 "metadata": {
  "kernelspec": {
   "display_name": "Python 3",
   "language": "python",
   "name": "python3"
  },
  "language_info": {
   "codemirror_mode": {
    "name": "ipython",
    "version": 3
   },
   "file_extension": ".py",
   "mimetype": "text/x-python",
   "name": "python",
   "nbconvert_exporter": "python",
   "pygments_lexer": "ipython3",
   "version": "3.6.4"
  },
  "toc": {
   "base_numbering": 1,
   "nav_menu": {},
   "number_sections": true,
   "sideBar": true,
   "skip_h1_title": true,
   "title_cell": "Table of Contents",
   "title_sidebar": "Contents",
   "toc_cell": false,
   "toc_position": {},
   "toc_section_display": true,
   "toc_window_display": true
  }
 },
 "nbformat": 4,
 "nbformat_minor": 2
}
