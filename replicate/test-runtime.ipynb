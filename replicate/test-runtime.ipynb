{
 "cells": [
  {
   "cell_type": "markdown",
   "metadata": {},
   "source": [
    "come up with a wrapper to count the run time"
   ]
  },
  {
   "cell_type": "markdown",
   "metadata": {},
   "source": [
    "---"
   ]
  },
  {
   "cell_type": "code",
   "execution_count": 18,
   "metadata": {
    "ExecuteTime": {
     "end_time": "2018-07-27T22:45:57.730138Z",
     "start_time": "2018-07-27T22:45:57.725336Z"
    }
   },
   "outputs": [],
   "source": [
    "import time, os\n",
    "import pandas as pd\n",
    "from pys3d import PYS3D"
   ]
  },
  {
   "cell_type": "code",
   "execution_count": 2,
   "metadata": {
    "ExecuteTime": {
     "end_time": "2018-07-27T22:18:54.645253Z",
     "start_time": "2018-07-27T22:18:54.173836Z"
    }
   },
   "outputs": [],
   "source": [
    "from sklearn.svm import LinearSVC\n",
    "from sklearn.linear_model import SGDClassifier\n",
    "from sklearn.ensemble import RandomForestClassifier\n",
    "from sklearn.preprocessing import StandardScaler\n",
    "\n",
    "def get_linearsvc(random_state=100, **kwargs):\n",
    "    return LinearSVC(random_state=random_state)\n",
    "\n",
    "def get_lasso(max_iter=1000, random_state=100, **kwargs):\n",
    "    return SGDClassifier(loss='log', penalty='l1',\n",
    "                         max_iter=max_iter, class_weight='balanced',\n",
    "                         random_state=random_state, **kwargs)\n",
    "\n",
    "def get_elasticnet(max_iter=1000, random_state=100, **kwargs):\n",
    "    return SGDClassifier(loss='log', penalty='elasticnet',\n",
    "                         max_iter=max_iter, class_weight='balanced',\n",
    "                         random_state=random_state, **kwargs)\n",
    "\n",
    "def get_randomforest(random_state=100, **kwargs):\n",
    "    return RandomForestClassifier(random_state=random_state,\n",
    "                                  class_weight='balanced',\n",
    "                                  n_estimators=50, **kwargs)"
   ]
  },
  {
   "cell_type": "markdown",
   "metadata": {},
   "source": [
    "---"
   ]
  },
  {
   "cell_type": "markdown",
   "metadata": {},
   "source": [
    "#### bm"
   ]
  },
  {
   "cell_type": "code",
   "execution_count": 3,
   "metadata": {
    "ExecuteTime": {
     "end_time": "2018-07-27T22:18:55.988215Z",
     "start_time": "2018-07-27T22:18:55.983577Z"
    }
   },
   "outputs": [],
   "source": [
    "data_name = 'spambase'\n",
    "clf_name = 'linearsvc'\n",
    "type_ = 'classification'"
   ]
  },
  {
   "cell_type": "code",
   "execution_count": 41,
   "metadata": {
    "ExecuteTime": {
     "end_time": "2018-07-27T22:11:45.903490Z",
     "start_time": "2018-07-27T22:11:45.866669Z"
    }
   },
   "outputs": [
    {
     "data": {
      "text/html": [
       "<div>\n",
       "<style scoped>\n",
       "    .dataframe tbody tr th:only-of-type {\n",
       "        vertical-align: middle;\n",
       "    }\n",
       "\n",
       "    .dataframe tbody tr th {\n",
       "        vertical-align: top;\n",
       "    }\n",
       "\n",
       "    .dataframe thead th {\n",
       "        text-align: right;\n",
       "    }\n",
       "</style>\n",
       "<table border=\"1\" class=\"dataframe\">\n",
       "  <thead>\n",
       "    <tr style=\"text-align: right;\">\n",
       "      <th></th>\n",
       "      <th>accuracy</th>\n",
       "      <th>auc_macro</th>\n",
       "      <th>auc_micro</th>\n",
       "      <th>best_params</th>\n",
       "      <th>f1_binary</th>\n",
       "      <th>f1_macro</th>\n",
       "      <th>f1_micro</th>\n",
       "      <th>fold_index</th>\n",
       "      <th>r2</th>\n",
       "      <th>threshold</th>\n",
       "    </tr>\n",
       "  </thead>\n",
       "  <tbody>\n",
       "    <tr>\n",
       "      <th>0</th>\n",
       "      <td>0.872964</td>\n",
       "      <td>0.966903</td>\n",
       "      <td>0.966903</td>\n",
       "      <td>{'C': 0.5}</td>\n",
       "      <td>0.856793</td>\n",
       "      <td>0.871323</td>\n",
       "      <td>0.872964</td>\n",
       "      <td>0</td>\n",
       "      <td>0.468009</td>\n",
       "      <td>-0.274318</td>\n",
       "    </tr>\n",
       "    <tr>\n",
       "      <th>1</th>\n",
       "      <td>0.875136</td>\n",
       "      <td>0.963847</td>\n",
       "      <td>0.963847</td>\n",
       "      <td>{'C': 0.5}</td>\n",
       "      <td>0.859241</td>\n",
       "      <td>0.873523</td>\n",
       "      <td>0.875136</td>\n",
       "      <td>1</td>\n",
       "      <td>0.477102</td>\n",
       "      <td>-0.262789</td>\n",
       "    </tr>\n",
       "  </tbody>\n",
       "</table>\n",
       "</div>"
      ],
      "text/plain": [
       "   accuracy  auc_macro  auc_micro best_params  f1_binary  f1_macro  f1_micro  \\\n",
       "0  0.872964   0.966903   0.966903  {'C': 0.5}   0.856793  0.871323  0.872964   \n",
       "1  0.875136   0.963847   0.963847  {'C': 0.5}   0.859241  0.873523  0.875136   \n",
       "\n",
       "   fold_index        r2  threshold  \n",
       "0           0  0.468009  -0.274318  \n",
       "1           1  0.477102  -0.262789  "
      ]
     },
     "execution_count": 41,
     "metadata": {},
     "output_type": "execute_result"
    }
   ],
   "source": [
    "performance_df = pd.read_csv('{}/bm-performance/{}-{}.csv'.format(type_, data_name, clf_name),\n",
    "                             index_col=0)\n",
    "performance_df.head(2)"
   ]
  },
  {
   "cell_type": "code",
   "execution_count": 42,
   "metadata": {
    "ExecuteTime": {
     "end_time": "2018-07-27T22:12:04.201979Z",
     "start_time": "2018-07-27T22:11:46.349229Z"
    }
   },
   "outputs": [],
   "source": [
    "runtime_df = list()\n",
    "for i, series in performance_df.iterrows():\n",
    "    fold_index, best_params_str = series[['fold_index', 'best_params']]\n",
    "    best_params = eval(best_params_str)\n",
    "    ## obtain data\n",
    "    df = pd.read_csv('../splitted_data/%s/%s/train.csv'%(data_name, fold_index))\n",
    "    X = df[df.columns[df.columns!='target']].values\n",
    "    y = df['target'].values.astype(int)\n",
    "\n",
    "    df_test = pd.read_csv('../splitted_data/%s/%s/test.csv'%(data_name, fold_index))\n",
    "    X_test = df_test[df_test.columns[df_test.columns!='target']].values\n",
    "    y_test = df_test['target'].values.astype(int)\n",
    "\n",
    "    if 'forest' not in clf_name:\n",
    "        # if not random forest, standardize data\n",
    "        #print('standardize data for', clf_name)\n",
    "        scaler = StandardScaler()\n",
    "        X = scaler.fit_transform(X)\n",
    "        X_test = scaler.transform(X_test)\n",
    "\n",
    "    for _ in range(10):\n",
    "        clf = eval(\"get_{}(**best_params)\".format(clf_name))\n",
    "        start_time = time.time()\n",
    "        clf.fit(X_train, y_train)\n",
    "        train_end_time = time.time()\n",
    "        clf.predict(X_test)\n",
    "        end_time = time.time()\n",
    "        runtime_df.append({'data_name': data_name, 'clf_name': clf_name, \n",
    "                           'fold_index': fold_index,\n",
    "                           'train_time': train_end_time-start_time,\n",
    "                           'total_time': end_time-start_time})\n",
    "runtime_df = pd.DataFrame(runtime_df)"
   ]
  },
  {
   "cell_type": "markdown",
   "metadata": {},
   "source": [
    "##### wrapper"
   ]
  },
  {
   "cell_type": "code",
   "execution_count": 26,
   "metadata": {
    "ExecuteTime": {
     "end_time": "2018-07-27T23:21:44.596310Z",
     "start_time": "2018-07-27T23:21:44.581031Z"
    }
   },
   "outputs": [],
   "source": [
    "def get_runtime(data_name, clf_name, type_):\n",
    "    performance_df = pd.read_csv('{}/bm-performance/{}-{}.csv'.format(type_, data_name, clf_name),\n",
    "                                 index_col=0)\n",
    "    runtime_df = list()\n",
    "    for i, series in performance_df.iterrows():\n",
    "        fold_index, best_params_str = series[['fold_index', 'best_params']]\n",
    "        best_params = eval(best_params_str)\n",
    "        ## obtain data\n",
    "        df = pd.read_csv('../splitted_data/%s/%s/train.csv'%(data_name, fold_index))\n",
    "        X = df[df.columns[df.columns!='target']].values\n",
    "        y = df['target'].values.astype(int)\n",
    "\n",
    "        df_test = pd.read_csv('../splitted_data/%s/%s/test.csv'%(data_name, fold_index))\n",
    "        X_test = df_test[df_test.columns[df_test.columns!='target']].values\n",
    "        y_test = df_test['target'].values.astype(int)\n",
    "\n",
    "        if 'forest' not in clf_name:\n",
    "            # if not random forest, standardize data\n",
    "            #print('standardize data for', clf_name)\n",
    "            scaler = StandardScaler()\n",
    "            X = scaler.fit_transform(X)\n",
    "            X_test = scaler.transform(X_test)\n",
    "\n",
    "        for _ in range(10):\n",
    "            clf = eval(\"get_{}(**best_params)\".format(clf_name))\n",
    "            start_time = time.time()\n",
    "            clf.fit(X, y)\n",
    "            #train_end_time = time.time()\n",
    "            #clf.predict(X_test)\n",
    "            end_time = time.time()\n",
    "            runtime_df.append({'data_name': data_name, 'clf_name': clf_name, \n",
    "                               'fold_index': fold_index,\n",
    "                               #'train_time': train_end_time-start_time,\n",
    "                               'train_time': end_time-start_time,\n",
    "                              })\n",
    "                               #'total_time': end_time-start_time})\n",
    "    return pd.DataFrame(runtime_df)"
   ]
  },
  {
   "cell_type": "code",
   "execution_count": 49,
   "metadata": {
    "ExecuteTime": {
     "end_time": "2018-07-27T23:51:58.268152Z",
     "start_time": "2018-07-27T23:51:58.261152Z"
    }
   },
   "outputs": [],
   "source": [
    "data_name = 'breastcancer'\n",
    "clf_name = 'randomforest'\n",
    "type_ = 'classification'"
   ]
  },
  {
   "cell_type": "code",
   "execution_count": 50,
   "metadata": {
    "ExecuteTime": {
     "end_time": "2018-07-27T23:52:02.004204Z",
     "start_time": "2018-07-27T23:51:58.769320Z"
    }
   },
   "outputs": [
    {
     "data": {
      "text/html": [
       "<div>\n",
       "<style scoped>\n",
       "    .dataframe tbody tr th:only-of-type {\n",
       "        vertical-align: middle;\n",
       "    }\n",
       "\n",
       "    .dataframe tbody tr th {\n",
       "        vertical-align: top;\n",
       "    }\n",
       "\n",
       "    .dataframe thead th {\n",
       "        text-align: right;\n",
       "    }\n",
       "</style>\n",
       "<table border=\"1\" class=\"dataframe\">\n",
       "  <thead>\n",
       "    <tr style=\"text-align: right;\">\n",
       "      <th></th>\n",
       "      <th>clf_name</th>\n",
       "      <th>data_name</th>\n",
       "      <th>fold_index</th>\n",
       "      <th>train_time</th>\n",
       "    </tr>\n",
       "  </thead>\n",
       "  <tbody>\n",
       "    <tr>\n",
       "      <th>0</th>\n",
       "      <td>randomforest</td>\n",
       "      <td>breastcancer</td>\n",
       "      <td>0</td>\n",
       "      <td>0.159778</td>\n",
       "    </tr>\n",
       "    <tr>\n",
       "      <th>1</th>\n",
       "      <td>randomforest</td>\n",
       "      <td>breastcancer</td>\n",
       "      <td>0</td>\n",
       "      <td>0.084936</td>\n",
       "    </tr>\n",
       "  </tbody>\n",
       "</table>\n",
       "</div>"
      ],
      "text/plain": [
       "       clf_name     data_name  fold_index  train_time\n",
       "0  randomforest  breastcancer           0    0.159778\n",
       "1  randomforest  breastcancer           0    0.084936"
      ]
     },
     "execution_count": 50,
     "metadata": {},
     "output_type": "execute_result"
    }
   ],
   "source": [
    "runtime_df = get_runtime(data_name, clf_name, type_)\n",
    "runtime_df.head(2)"
   ]
  },
  {
   "cell_type": "markdown",
   "metadata": {},
   "source": [
    "---"
   ]
  },
  {
   "cell_type": "markdown",
   "metadata": {},
   "source": [
    "#### s3d"
   ]
  },
  {
   "cell_type": "markdown",
   "metadata": {},
   "source": [
    "create temporary folders for this task"
   ]
  },
  {
   "cell_type": "code",
   "execution_count": 29,
   "metadata": {
    "ExecuteTime": {
     "end_time": "2018-07-27T23:22:38.570134Z",
     "start_time": "2018-07-27T23:22:38.562251Z"
    }
   },
   "outputs": [],
   "source": [
    "data_name = 'spambase'\n",
    "type_ = 'classification'"
   ]
  },
  {
   "cell_type": "code",
   "execution_count": 30,
   "metadata": {
    "ExecuteTime": {
     "end_time": "2018-07-27T23:22:39.323728Z",
     "start_time": "2018-07-27T23:22:39.319035Z"
    }
   },
   "outputs": [],
   "source": [
    "model_base_path = 'tmp-models/'\n",
    "pred_base_path = 'tmp-predictions/'"
   ]
  },
  {
   "cell_type": "code",
   "execution_count": 31,
   "metadata": {
    "ExecuteTime": {
     "end_time": "2018-07-27T23:22:40.769936Z",
     "start_time": "2018-07-27T23:22:40.728992Z"
    }
   },
   "outputs": [
    {
     "data": {
      "text/html": [
       "<div>\n",
       "<style scoped>\n",
       "    .dataframe tbody tr th:only-of-type {\n",
       "        vertical-align: middle;\n",
       "    }\n",
       "\n",
       "    .dataframe tbody tr th {\n",
       "        vertical-align: top;\n",
       "    }\n",
       "\n",
       "    .dataframe thead th {\n",
       "        text-align: right;\n",
       "    }\n",
       "</style>\n",
       "<table border=\"1\" class=\"dataframe\">\n",
       "  <thead>\n",
       "    <tr style=\"text-align: right;\">\n",
       "      <th></th>\n",
       "      <th>num_features</th>\n",
       "      <th>accuracy</th>\n",
       "      <th>auc_macro</th>\n",
       "      <th>auc_micro</th>\n",
       "      <th>f1_binary</th>\n",
       "      <th>f1_macro</th>\n",
       "      <th>f1_micro</th>\n",
       "      <th>r2</th>\n",
       "      <th>threshold</th>\n",
       "      <th>lambda_</th>\n",
       "      <th>split_version</th>\n",
       "    </tr>\n",
       "  </thead>\n",
       "  <tbody>\n",
       "    <tr>\n",
       "      <th>0</th>\n",
       "      <td>3</td>\n",
       "      <td>0.844734</td>\n",
       "      <td>0.946641</td>\n",
       "      <td>0.946641</td>\n",
       "      <td>0.821026</td>\n",
       "      <td>0.841961</td>\n",
       "      <td>0.844734</td>\n",
       "      <td>0.349788</td>\n",
       "      <td>0.495327</td>\n",
       "      <td>0.003</td>\n",
       "      <td>0.0</td>\n",
       "    </tr>\n",
       "    <tr>\n",
       "      <th>1</th>\n",
       "      <td>3</td>\n",
       "      <td>0.853420</td>\n",
       "      <td>0.946387</td>\n",
       "      <td>0.946387</td>\n",
       "      <td>0.832298</td>\n",
       "      <td>0.851057</td>\n",
       "      <td>0.853420</td>\n",
       "      <td>0.386164</td>\n",
       "      <td>0.495327</td>\n",
       "      <td>0.003</td>\n",
       "      <td>1.0</td>\n",
       "    </tr>\n",
       "  </tbody>\n",
       "</table>\n",
       "</div>"
      ],
      "text/plain": [
       "   num_features  accuracy  auc_macro  auc_micro  f1_binary  f1_macro  \\\n",
       "0             3  0.844734   0.946641   0.946641   0.821026  0.841961   \n",
       "1             3  0.853420   0.946387   0.946387   0.832298  0.851057   \n",
       "\n",
       "   f1_micro        r2  threshold  lambda_  split_version  \n",
       "0  0.844734  0.349788   0.495327    0.003            0.0  \n",
       "1  0.853420  0.386164   0.495327    0.003            1.0  "
      ]
     },
     "execution_count": 31,
     "metadata": {},
     "output_type": "execute_result"
    }
   ],
   "source": [
    "performance_df = pd.read_csv('{}/performance/{}-test-performance.csv'.format(type_, data_name),\n",
    "                             index_col=0)\n",
    "performance_df.head(2)"
   ]
  },
  {
   "cell_type": "code",
   "execution_count": 32,
   "metadata": {
    "ExecuteTime": {
     "end_time": "2018-07-27T23:24:13.283768Z",
     "start_time": "2018-07-27T23:22:56.216696Z"
    }
   },
   "outputs": [
    {
     "name": "stdout",
     "output_type": "stream",
     "text": [
      "...s3d initializing...\n",
      "s3d with spambase data, splitted into 5 folds\n",
      "data will be loaded from ../splitted_data/spambase/\n",
      "built models will be saved to tmp-models/spambase/\n",
      "predictions will be saved to tmp-predictions/spambase/\n",
      "temporary subfolders in  ./tmp/spambase\n",
      "...done initializing...\n",
      "\n"
     ]
    },
    {
     "name": "stderr",
     "output_type": "stream",
     "text": [
      "/Users/zhiyzuo/2018summer/S3D/replicate/pys3d.py:135: UserWarning: 100 features requested by only 7 selected\n",
      "  UserWarning)\n"
     ]
    }
   ],
   "source": [
    "runtime_df = list()\n",
    "for i, series in performance_df.iterrows():\n",
    "    fold_index, n_f, lambda_ = series[['split_version', 'num_features', 'lambda_']]\n",
    "    fold_index = int(fold_index)\n",
    "    ## obtain data\n",
    "    train_data = '../splitted_data/{}/{}/train.csv'.format(data_name, fold_index)\n",
    "    test_data = '../splitted_data/{}/{}/test.csv'.format(data_name, fold_index)\n",
    "    ## model and prediction paths\n",
    "    train_model = model_base_path+data_name+'/'\n",
    "    pred_path = pred_base_path+data_name+'/'\n",
    "    #if not os.path.exists(train_model):\n",
    "    #    os.mkdir(train_model)\n",
    "    #if not os.path.exists(pred_path):\n",
    "    #    os.mkdir(pred_path)\n",
    "\n",
    "    for _ in range(10):\n",
    "        s3d = PYS3D(data_name, model_path=model_base_path,\n",
    "                    prediction_path=pred_base_path)\n",
    "        start_time = time.time()\n",
    "        s3d.fit(train_data, train_model, lambda_=lambda_, max_features=100)\n",
    "        #train_end_time = time.time()\n",
    "        #s3d.predict(test_data, train_model, pred_path)\n",
    "        end_time = time.time()\n",
    "        runtime_df.append({'data_name': data_name, 'clf_name': clf_name, \n",
    "                           'fold_index': fold_index,\n",
    "                               #'train_time': train_end_time-start_time,\n",
    "                               'train_time': end_time-start_time,\n",
    "                              })\n",
    "        break\n",
    "    break\n",
    "runtime_df = pd.DataFrame(runtime_df)"
   ]
  },
  {
   "cell_type": "code",
   "execution_count": 33,
   "metadata": {
    "ExecuteTime": {
     "end_time": "2018-07-27T23:24:13.307248Z",
     "start_time": "2018-07-27T23:24:13.288402Z"
    }
   },
   "outputs": [
    {
     "data": {
      "text/html": [
       "<div>\n",
       "<style scoped>\n",
       "    .dataframe tbody tr th:only-of-type {\n",
       "        vertical-align: middle;\n",
       "    }\n",
       "\n",
       "    .dataframe tbody tr th {\n",
       "        vertical-align: top;\n",
       "    }\n",
       "\n",
       "    .dataframe thead th {\n",
       "        text-align: right;\n",
       "    }\n",
       "</style>\n",
       "<table border=\"1\" class=\"dataframe\">\n",
       "  <thead>\n",
       "    <tr style=\"text-align: right;\">\n",
       "      <th></th>\n",
       "      <th>clf_name</th>\n",
       "      <th>data_name</th>\n",
       "      <th>fold_index</th>\n",
       "      <th>train_time</th>\n",
       "    </tr>\n",
       "  </thead>\n",
       "  <tbody>\n",
       "    <tr>\n",
       "      <th>0</th>\n",
       "      <td>linearsvc</td>\n",
       "      <td>spambase</td>\n",
       "      <td>0</td>\n",
       "      <td>77.036372</td>\n",
       "    </tr>\n",
       "  </tbody>\n",
       "</table>\n",
       "</div>"
      ],
      "text/plain": [
       "    clf_name data_name  fold_index  train_time\n",
       "0  linearsvc  spambase           0   77.036372"
      ]
     },
     "execution_count": 33,
     "metadata": {},
     "output_type": "execute_result"
    }
   ],
   "source": [
    "runtime_df"
   ]
  },
  {
   "cell_type": "markdown",
   "metadata": {},
   "source": [
    "##### wrapper"
   ]
  },
  {
   "cell_type": "code",
   "execution_count": 43,
   "metadata": {
    "ExecuteTime": {
     "end_time": "2018-07-27T23:49:45.359065Z",
     "start_time": "2018-07-27T23:49:45.344141Z"
    }
   },
   "outputs": [],
   "source": [
    "def get_runtime_s3d(data_name, type_):\n",
    "    model_base_path = 'tmp-models/'\n",
    "    pred_base_path = 'tmp-predictions/'\n",
    "    performance_df = pd.read_csv('{}/performance/{}-test-performance.csv'.format(type_, data_name),\n",
    "                                 index_col=0)\n",
    "    runtime_df = list()\n",
    "    for i, series in performance_df.iterrows():\n",
    "        fold_index, n_f, lambda_ = series[['split_version', 'num_features', 'lambda_']]\n",
    "        fold_index = int(fold_index)\n",
    "        ## obtain data\n",
    "        train_data = '../splitted_data/{}/{}/train.csv'.format(data_name, fold_index)\n",
    "        test_data = '../splitted_data/{}/{}/test.csv'.format(data_name, fold_index)\n",
    "        ## model and prediction paths\n",
    "        train_model = model_base_path+data_name+'/'\n",
    "        pred_path = pred_base_path+data_name+'/'\n",
    "        for _ in range(10):\n",
    "            s3d = PYS3D(data_name, model_path=model_base_path,\n",
    "                        prediction_path=pred_base_path)\n",
    "            start_time = time.time()\n",
    "            s3d.fit(train_data, train_model, lambda_=lambda_, max_features=100)\n",
    "            #train_end_time = time.time()\n",
    "            #s3d.predict(test_data, train_model, pred_path)\n",
    "            end_time = time.time()\n",
    "            runtime_df.append({'data_name': data_name, 'clf_name': clf_name, \n",
    "                               'fold_index': fold_index,\n",
    "                               #'train_time': train_end_time-start_time,\n",
    "                               'train_time': end_time-start_time,\n",
    "                              })\n",
    "    return pd.DataFrame(runtime_df)"
   ]
  },
  {
   "cell_type": "code",
   "execution_count": 44,
   "metadata": {
    "ExecuteTime": {
     "end_time": "2018-07-27T23:49:45.653802Z",
     "start_time": "2018-07-27T23:49:45.649195Z"
    }
   },
   "outputs": [],
   "source": [
    "data_name = 'breastcancer'\n",
    "type_ = 'classification'"
   ]
  },
  {
   "cell_type": "code",
   "execution_count": 48,
   "metadata": {
    "ExecuteTime": {
     "end_time": "2018-07-27T23:51:56.045365Z",
     "start_time": "2018-07-27T23:51:49.687156Z"
    }
   },
   "outputs": [],
   "source": [
    "%%capture\n",
    "runtime_df = get_runtime_s3d(data_name, type_)"
   ]
  },
  {
   "cell_type": "code",
   "execution_count": 51,
   "metadata": {
    "ExecuteTime": {
     "end_time": "2018-07-27T23:52:07.131959Z",
     "start_time": "2018-07-27T23:52:07.112305Z"
    }
   },
   "outputs": [
    {
     "data": {
      "text/html": [
       "<div>\n",
       "<style scoped>\n",
       "    .dataframe tbody tr th:only-of-type {\n",
       "        vertical-align: middle;\n",
       "    }\n",
       "\n",
       "    .dataframe tbody tr th {\n",
       "        vertical-align: top;\n",
       "    }\n",
       "\n",
       "    .dataframe thead th {\n",
       "        text-align: right;\n",
       "    }\n",
       "</style>\n",
       "<table border=\"1\" class=\"dataframe\">\n",
       "  <thead>\n",
       "    <tr style=\"text-align: right;\">\n",
       "      <th></th>\n",
       "      <th>clf_name</th>\n",
       "      <th>data_name</th>\n",
       "      <th>fold_index</th>\n",
       "      <th>train_time</th>\n",
       "    </tr>\n",
       "  </thead>\n",
       "  <tbody>\n",
       "    <tr>\n",
       "      <th>0</th>\n",
       "      <td>randomforest</td>\n",
       "      <td>breastcancer</td>\n",
       "      <td>0</td>\n",
       "      <td>0.159778</td>\n",
       "    </tr>\n",
       "    <tr>\n",
       "      <th>1</th>\n",
       "      <td>randomforest</td>\n",
       "      <td>breastcancer</td>\n",
       "      <td>0</td>\n",
       "      <td>0.084936</td>\n",
       "    </tr>\n",
       "    <tr>\n",
       "      <th>2</th>\n",
       "      <td>randomforest</td>\n",
       "      <td>breastcancer</td>\n",
       "      <td>0</td>\n",
       "      <td>0.079276</td>\n",
       "    </tr>\n",
       "    <tr>\n",
       "      <th>3</th>\n",
       "      <td>randomforest</td>\n",
       "      <td>breastcancer</td>\n",
       "      <td>0</td>\n",
       "      <td>0.078965</td>\n",
       "    </tr>\n",
       "    <tr>\n",
       "      <th>4</th>\n",
       "      <td>randomforest</td>\n",
       "      <td>breastcancer</td>\n",
       "      <td>0</td>\n",
       "      <td>0.079193</td>\n",
       "    </tr>\n",
       "    <tr>\n",
       "      <th>5</th>\n",
       "      <td>randomforest</td>\n",
       "      <td>breastcancer</td>\n",
       "      <td>0</td>\n",
       "      <td>0.078996</td>\n",
       "    </tr>\n",
       "    <tr>\n",
       "      <th>6</th>\n",
       "      <td>randomforest</td>\n",
       "      <td>breastcancer</td>\n",
       "      <td>0</td>\n",
       "      <td>0.063142</td>\n",
       "    </tr>\n",
       "    <tr>\n",
       "      <th>7</th>\n",
       "      <td>randomforest</td>\n",
       "      <td>breastcancer</td>\n",
       "      <td>0</td>\n",
       "      <td>0.060930</td>\n",
       "    </tr>\n",
       "    <tr>\n",
       "      <th>8</th>\n",
       "      <td>randomforest</td>\n",
       "      <td>breastcancer</td>\n",
       "      <td>0</td>\n",
       "      <td>0.058330</td>\n",
       "    </tr>\n",
       "    <tr>\n",
       "      <th>9</th>\n",
       "      <td>randomforest</td>\n",
       "      <td>breastcancer</td>\n",
       "      <td>0</td>\n",
       "      <td>0.057890</td>\n",
       "    </tr>\n",
       "    <tr>\n",
       "      <th>10</th>\n",
       "      <td>randomforest</td>\n",
       "      <td>breastcancer</td>\n",
       "      <td>1</td>\n",
       "      <td>0.058525</td>\n",
       "    </tr>\n",
       "    <tr>\n",
       "      <th>11</th>\n",
       "      <td>randomforest</td>\n",
       "      <td>breastcancer</td>\n",
       "      <td>1</td>\n",
       "      <td>0.058290</td>\n",
       "    </tr>\n",
       "    <tr>\n",
       "      <th>12</th>\n",
       "      <td>randomforest</td>\n",
       "      <td>breastcancer</td>\n",
       "      <td>1</td>\n",
       "      <td>0.058259</td>\n",
       "    </tr>\n",
       "    <tr>\n",
       "      <th>13</th>\n",
       "      <td>randomforest</td>\n",
       "      <td>breastcancer</td>\n",
       "      <td>1</td>\n",
       "      <td>0.058296</td>\n",
       "    </tr>\n",
       "    <tr>\n",
       "      <th>14</th>\n",
       "      <td>randomforest</td>\n",
       "      <td>breastcancer</td>\n",
       "      <td>1</td>\n",
       "      <td>0.058311</td>\n",
       "    </tr>\n",
       "    <tr>\n",
       "      <th>15</th>\n",
       "      <td>randomforest</td>\n",
       "      <td>breastcancer</td>\n",
       "      <td>1</td>\n",
       "      <td>0.058332</td>\n",
       "    </tr>\n",
       "    <tr>\n",
       "      <th>16</th>\n",
       "      <td>randomforest</td>\n",
       "      <td>breastcancer</td>\n",
       "      <td>1</td>\n",
       "      <td>0.058277</td>\n",
       "    </tr>\n",
       "    <tr>\n",
       "      <th>17</th>\n",
       "      <td>randomforest</td>\n",
       "      <td>breastcancer</td>\n",
       "      <td>1</td>\n",
       "      <td>0.058399</td>\n",
       "    </tr>\n",
       "    <tr>\n",
       "      <th>18</th>\n",
       "      <td>randomforest</td>\n",
       "      <td>breastcancer</td>\n",
       "      <td>1</td>\n",
       "      <td>0.060053</td>\n",
       "    </tr>\n",
       "    <tr>\n",
       "      <th>19</th>\n",
       "      <td>randomforest</td>\n",
       "      <td>breastcancer</td>\n",
       "      <td>1</td>\n",
       "      <td>0.058758</td>\n",
       "    </tr>\n",
       "    <tr>\n",
       "      <th>20</th>\n",
       "      <td>randomforest</td>\n",
       "      <td>breastcancer</td>\n",
       "      <td>2</td>\n",
       "      <td>0.055098</td>\n",
       "    </tr>\n",
       "    <tr>\n",
       "      <th>21</th>\n",
       "      <td>randomforest</td>\n",
       "      <td>breastcancer</td>\n",
       "      <td>2</td>\n",
       "      <td>0.055078</td>\n",
       "    </tr>\n",
       "    <tr>\n",
       "      <th>22</th>\n",
       "      <td>randomforest</td>\n",
       "      <td>breastcancer</td>\n",
       "      <td>2</td>\n",
       "      <td>0.054888</td>\n",
       "    </tr>\n",
       "    <tr>\n",
       "      <th>23</th>\n",
       "      <td>randomforest</td>\n",
       "      <td>breastcancer</td>\n",
       "      <td>2</td>\n",
       "      <td>0.055086</td>\n",
       "    </tr>\n",
       "    <tr>\n",
       "      <th>24</th>\n",
       "      <td>randomforest</td>\n",
       "      <td>breastcancer</td>\n",
       "      <td>2</td>\n",
       "      <td>0.054969</td>\n",
       "    </tr>\n",
       "    <tr>\n",
       "      <th>25</th>\n",
       "      <td>randomforest</td>\n",
       "      <td>breastcancer</td>\n",
       "      <td>2</td>\n",
       "      <td>0.054959</td>\n",
       "    </tr>\n",
       "    <tr>\n",
       "      <th>26</th>\n",
       "      <td>randomforest</td>\n",
       "      <td>breastcancer</td>\n",
       "      <td>2</td>\n",
       "      <td>0.054922</td>\n",
       "    </tr>\n",
       "    <tr>\n",
       "      <th>27</th>\n",
       "      <td>randomforest</td>\n",
       "      <td>breastcancer</td>\n",
       "      <td>2</td>\n",
       "      <td>0.055038</td>\n",
       "    </tr>\n",
       "    <tr>\n",
       "      <th>28</th>\n",
       "      <td>randomforest</td>\n",
       "      <td>breastcancer</td>\n",
       "      <td>2</td>\n",
       "      <td>0.054865</td>\n",
       "    </tr>\n",
       "    <tr>\n",
       "      <th>29</th>\n",
       "      <td>randomforest</td>\n",
       "      <td>breastcancer</td>\n",
       "      <td>2</td>\n",
       "      <td>0.054969</td>\n",
       "    </tr>\n",
       "    <tr>\n",
       "      <th>30</th>\n",
       "      <td>randomforest</td>\n",
       "      <td>breastcancer</td>\n",
       "      <td>3</td>\n",
       "      <td>0.057155</td>\n",
       "    </tr>\n",
       "    <tr>\n",
       "      <th>31</th>\n",
       "      <td>randomforest</td>\n",
       "      <td>breastcancer</td>\n",
       "      <td>3</td>\n",
       "      <td>0.060131</td>\n",
       "    </tr>\n",
       "    <tr>\n",
       "      <th>32</th>\n",
       "      <td>randomforest</td>\n",
       "      <td>breastcancer</td>\n",
       "      <td>3</td>\n",
       "      <td>0.057237</td>\n",
       "    </tr>\n",
       "    <tr>\n",
       "      <th>33</th>\n",
       "      <td>randomforest</td>\n",
       "      <td>breastcancer</td>\n",
       "      <td>3</td>\n",
       "      <td>0.057048</td>\n",
       "    </tr>\n",
       "    <tr>\n",
       "      <th>34</th>\n",
       "      <td>randomforest</td>\n",
       "      <td>breastcancer</td>\n",
       "      <td>3</td>\n",
       "      <td>0.057011</td>\n",
       "    </tr>\n",
       "    <tr>\n",
       "      <th>35</th>\n",
       "      <td>randomforest</td>\n",
       "      <td>breastcancer</td>\n",
       "      <td>3</td>\n",
       "      <td>0.058339</td>\n",
       "    </tr>\n",
       "    <tr>\n",
       "      <th>36</th>\n",
       "      <td>randomforest</td>\n",
       "      <td>breastcancer</td>\n",
       "      <td>3</td>\n",
       "      <td>0.056908</td>\n",
       "    </tr>\n",
       "    <tr>\n",
       "      <th>37</th>\n",
       "      <td>randomforest</td>\n",
       "      <td>breastcancer</td>\n",
       "      <td>3</td>\n",
       "      <td>0.056983</td>\n",
       "    </tr>\n",
       "    <tr>\n",
       "      <th>38</th>\n",
       "      <td>randomforest</td>\n",
       "      <td>breastcancer</td>\n",
       "      <td>3</td>\n",
       "      <td>0.056977</td>\n",
       "    </tr>\n",
       "    <tr>\n",
       "      <th>39</th>\n",
       "      <td>randomforest</td>\n",
       "      <td>breastcancer</td>\n",
       "      <td>3</td>\n",
       "      <td>0.057112</td>\n",
       "    </tr>\n",
       "    <tr>\n",
       "      <th>40</th>\n",
       "      <td>randomforest</td>\n",
       "      <td>breastcancer</td>\n",
       "      <td>4</td>\n",
       "      <td>0.055372</td>\n",
       "    </tr>\n",
       "    <tr>\n",
       "      <th>41</th>\n",
       "      <td>randomforest</td>\n",
       "      <td>breastcancer</td>\n",
       "      <td>4</td>\n",
       "      <td>0.055368</td>\n",
       "    </tr>\n",
       "    <tr>\n",
       "      <th>42</th>\n",
       "      <td>randomforest</td>\n",
       "      <td>breastcancer</td>\n",
       "      <td>4</td>\n",
       "      <td>0.055301</td>\n",
       "    </tr>\n",
       "    <tr>\n",
       "      <th>43</th>\n",
       "      <td>randomforest</td>\n",
       "      <td>breastcancer</td>\n",
       "      <td>4</td>\n",
       "      <td>0.055442</td>\n",
       "    </tr>\n",
       "    <tr>\n",
       "      <th>44</th>\n",
       "      <td>randomforest</td>\n",
       "      <td>breastcancer</td>\n",
       "      <td>4</td>\n",
       "      <td>0.057457</td>\n",
       "    </tr>\n",
       "    <tr>\n",
       "      <th>45</th>\n",
       "      <td>randomforest</td>\n",
       "      <td>breastcancer</td>\n",
       "      <td>4</td>\n",
       "      <td>0.056390</td>\n",
       "    </tr>\n",
       "    <tr>\n",
       "      <th>46</th>\n",
       "      <td>randomforest</td>\n",
       "      <td>breastcancer</td>\n",
       "      <td>4</td>\n",
       "      <td>0.055499</td>\n",
       "    </tr>\n",
       "    <tr>\n",
       "      <th>47</th>\n",
       "      <td>randomforest</td>\n",
       "      <td>breastcancer</td>\n",
       "      <td>4</td>\n",
       "      <td>0.057096</td>\n",
       "    </tr>\n",
       "    <tr>\n",
       "      <th>48</th>\n",
       "      <td>randomforest</td>\n",
       "      <td>breastcancer</td>\n",
       "      <td>4</td>\n",
       "      <td>0.055446</td>\n",
       "    </tr>\n",
       "    <tr>\n",
       "      <th>49</th>\n",
       "      <td>randomforest</td>\n",
       "      <td>breastcancer</td>\n",
       "      <td>4</td>\n",
       "      <td>0.056557</td>\n",
       "    </tr>\n",
       "  </tbody>\n",
       "</table>\n",
       "</div>"
      ],
      "text/plain": [
       "        clf_name     data_name  fold_index  train_time\n",
       "0   randomforest  breastcancer           0    0.159778\n",
       "1   randomforest  breastcancer           0    0.084936\n",
       "2   randomforest  breastcancer           0    0.079276\n",
       "3   randomforest  breastcancer           0    0.078965\n",
       "4   randomforest  breastcancer           0    0.079193\n",
       "5   randomforest  breastcancer           0    0.078996\n",
       "6   randomforest  breastcancer           0    0.063142\n",
       "7   randomforest  breastcancer           0    0.060930\n",
       "8   randomforest  breastcancer           0    0.058330\n",
       "9   randomforest  breastcancer           0    0.057890\n",
       "10  randomforest  breastcancer           1    0.058525\n",
       "11  randomforest  breastcancer           1    0.058290\n",
       "12  randomforest  breastcancer           1    0.058259\n",
       "13  randomforest  breastcancer           1    0.058296\n",
       "14  randomforest  breastcancer           1    0.058311\n",
       "15  randomforest  breastcancer           1    0.058332\n",
       "16  randomforest  breastcancer           1    0.058277\n",
       "17  randomforest  breastcancer           1    0.058399\n",
       "18  randomforest  breastcancer           1    0.060053\n",
       "19  randomforest  breastcancer           1    0.058758\n",
       "20  randomforest  breastcancer           2    0.055098\n",
       "21  randomforest  breastcancer           2    0.055078\n",
       "22  randomforest  breastcancer           2    0.054888\n",
       "23  randomforest  breastcancer           2    0.055086\n",
       "24  randomforest  breastcancer           2    0.054969\n",
       "25  randomforest  breastcancer           2    0.054959\n",
       "26  randomforest  breastcancer           2    0.054922\n",
       "27  randomforest  breastcancer           2    0.055038\n",
       "28  randomforest  breastcancer           2    0.054865\n",
       "29  randomforest  breastcancer           2    0.054969\n",
       "30  randomforest  breastcancer           3    0.057155\n",
       "31  randomforest  breastcancer           3    0.060131\n",
       "32  randomforest  breastcancer           3    0.057237\n",
       "33  randomforest  breastcancer           3    0.057048\n",
       "34  randomforest  breastcancer           3    0.057011\n",
       "35  randomforest  breastcancer           3    0.058339\n",
       "36  randomforest  breastcancer           3    0.056908\n",
       "37  randomforest  breastcancer           3    0.056983\n",
       "38  randomforest  breastcancer           3    0.056977\n",
       "39  randomforest  breastcancer           3    0.057112\n",
       "40  randomforest  breastcancer           4    0.055372\n",
       "41  randomforest  breastcancer           4    0.055368\n",
       "42  randomforest  breastcancer           4    0.055301\n",
       "43  randomforest  breastcancer           4    0.055442\n",
       "44  randomforest  breastcancer           4    0.057457\n",
       "45  randomforest  breastcancer           4    0.056390\n",
       "46  randomforest  breastcancer           4    0.055499\n",
       "47  randomforest  breastcancer           4    0.057096\n",
       "48  randomforest  breastcancer           4    0.055446\n",
       "49  randomforest  breastcancer           4    0.056557"
      ]
     },
     "execution_count": 51,
     "metadata": {},
     "output_type": "execute_result"
    }
   ],
   "source": [
    "runtime_df"
   ]
  },
  {
   "cell_type": "code",
   "execution_count": null,
   "metadata": {},
   "outputs": [],
   "source": []
  }
 ],
 "metadata": {
  "kernelspec": {
   "display_name": "Python 3",
   "language": "python",
   "name": "python3"
  },
  "language_info": {
   "codemirror_mode": {
    "name": "ipython",
    "version": 3
   },
   "file_extension": ".py",
   "mimetype": "text/x-python",
   "name": "python",
   "nbconvert_exporter": "python",
   "pygments_lexer": "ipython3",
   "version": "3.6.4"
  },
  "toc": {
   "base_numbering": 1,
   "nav_menu": {},
   "number_sections": true,
   "sideBar": true,
   "skip_h1_title": true,
   "title_cell": "Table of Contents",
   "title_sidebar": "Contents",
   "toc_cell": false,
   "toc_position": {},
   "toc_section_display": true,
   "toc_window_display": true
  }
 },
 "nbformat": 4,
 "nbformat_minor": 2
}
