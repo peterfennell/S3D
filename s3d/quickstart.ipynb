{
 "cells": [
  {
   "cell_type": "markdown",
   "metadata": {},
   "source": [
    "a quickstart on using python apis for `s3d` model\n",
    "\n",
    "original c code: https://github.com/peterfennell/S3D"
   ]
  },
  {
   "cell_type": "markdown",
   "metadata": {},
   "source": [
    "---"
   ]
  },
  {
   "cell_type": "code",
   "execution_count": 61,
   "metadata": {
    "ExecuteTime": {
     "end_time": "2018-07-02T19:01:28.217416Z",
     "start_time": "2018-07-02T19:01:28.211634Z"
    },
    "init_cell": true
   },
   "outputs": [],
   "source": [
    "import utils\n",
    "import pandas as pd"
   ]
  },
  {
   "cell_type": "code",
   "execution_count": 62,
   "metadata": {
    "ExecuteTime": {
     "end_time": "2018-07-02T19:01:28.223930Z",
     "start_time": "2018-07-02T19:01:28.220065Z"
    },
    "init_cell": true
   },
   "outputs": [],
   "source": [
    "from pys3d import PYS3D"
   ]
  },
  {
   "cell_type": "code",
   "execution_count": 63,
   "metadata": {
    "ExecuteTime": {
     "end_time": "2018-07-02T19:01:28.234460Z",
     "start_time": "2018-07-02T19:01:28.226556Z"
    },
    "init_cell": true
   },
   "outputs": [],
   "source": [
    "import matplotlib.colors as mc\n",
    "from matplotlib import pyplot as plt\n",
    "%matplotlib inline"
   ]
  },
  {
   "cell_type": "markdown",
   "metadata": {},
   "source": [
    "---"
   ]
  },
  {
   "cell_type": "markdown",
   "metadata": {},
   "source": [
    "#### clarification"
   ]
  },
  {
   "cell_type": "markdown",
   "metadata": {},
   "source": [
    "the design of the constructor is meant to be easy for hyperparameter tuning by cross validation. therefore, the methods `fit` and `predict` may be a little weird to use as standalone functions."
   ]
  },
  {
   "cell_type": "markdown",
   "metadata": {},
   "source": [
    "##### python dependencies"
   ]
  },
  {
   "cell_type": "markdown",
   "metadata": {},
   "source": [
    "- `pandas`\n",
    "- `joblib`\n",
    "- `networkx` (the latest version has the edge arrow fixed!)\n",
    "- `matplotlib`\n",
    "- `scikit-learn`\n",
    "- `seaborn`\n",
    "- `palettable`"
   ]
  },
  {
   "cell_type": "markdown",
   "metadata": {},
   "source": [
    "these can be installed by:\n",
    "```bash\n",
    "pip install -r requirements.txt\n",
    "```"
   ]
  },
  {
   "cell_type": "markdown",
   "metadata": {},
   "source": [
    "##### compiling `s3d`"
   ]
  },
  {
   "cell_type": "markdown",
   "metadata": {},
   "source": [
    "compiling is simple and straight forward, do:\n",
    "```bash\n",
    "make all\n",
    "```\n",
    "or \n",
    "```bash\n",
    "make clean && make all\n",
    "```\n",
    "to remove previous compiled files."
   ]
  },
  {
   "cell_type": "markdown",
   "metadata": {},
   "source": [
    "##### data for cross val"
   ]
  },
  {
   "cell_type": "markdown",
   "metadata": {},
   "source": [
    "for cross validation processes, datasets should be splitted first. the script `split_data.py` can be used to do so. the script can be run as the following:\n",
    "```python\n",
    "python split_data.py data_name num_folds\n",
    "```"
   ]
  },
  {
   "cell_type": "markdown",
   "metadata": {},
   "source": [
    "this will read in `data_name.csv` from `data/` folder; split data and store the train/test sets into `splitted_data/data_name/` folder. for example, if there is a dataset called `breastcancer.csv` in `data/`, we can do:\n",
    "```bash\n",
    "python split_data.py breastcancer 5\n",
    "```"
   ]
  },
  {
   "cell_type": "markdown",
   "metadata": {},
   "source": [
    "if we do `ls splitted_data/breastcancer/`, we will see:\n",
    "```bash\n",
    "0  1  2  3  4\n",
    "```\n",
    "which are fold indices named folder, each of which there will be:\n",
    "```bash\n",
    "num_rows.csv  test.csv  train.csv\n",
    "```"
   ]
  },
  {
   "cell_type": "markdown",
   "metadata": {},
   "source": [
    "`train.csv` is the training set; `test.csv` is the testing set; `num_rows.csv` store the number of rows in train/test respectively."
   ]
  },
  {
   "cell_type": "markdown",
   "metadata": {},
   "source": [
    "finally, you can parallelize the data partitioning with more cores:\n",
    "```bash\n",
    "ptyhon split_data.py data_name num_folds num_jobs\n",
    "```\n",
    "\n",
    "where `num_jobs` is 1 by default."
   ]
  },
  {
   "cell_type": "markdown",
   "metadata": {},
   "source": [
    "##### data format"
   ]
  },
  {
   "cell_type": "markdown",
   "metadata": {},
   "source": [
    "data format: in `data_name.csv`, the first column is the target column named `target`, followed by features:\n",
    "> `target,feature_1,feature_2,...,feature_p`"
   ]
  },
  {
   "cell_type": "markdown",
   "metadata": {},
   "source": [
    "##### file structure"
   ]
  },
  {
   "cell_type": "markdown",
   "metadata": {},
   "source": [
    "file directory setup: `PYS3D` class will by default create subfodlers `data_name` in:\n",
    "```bash\n",
    "tmp/ predictions/ models/ cv/\n",
    "```\n",
    "\n",
    "where:\n",
    "- `tmp` will store the \"inner cross validation\" temporary files\n",
    "- `predictions` will store the prediction results\n",
    "- `models` will store the trained models\n",
    "- `cv` will store the cross validation performance (on the validation set)\n",
    "\n",
    "therefore, the first step is to create all these 4 for your convenience. you can do:\n",
    "```bash\n",
    "./init\n",
    "```\n",
    "which will cleanup and create these folders\n",
    "\n",
    "reversely, run `./cleanup` to remove these folders"
   ]
  },
  {
   "cell_type": "markdown",
   "metadata": {},
   "source": [
    "##### example datasets"
   ]
  },
  {
   "cell_type": "markdown",
   "metadata": {},
   "source": [
    "the two datasets both come from [uci machine learning repository](https://archive.ics.uci.edu/ml/index.php)\n",
    "- breacancer: [link](https://archive.ics.uci.edu/ml/datasets/breast+cancer+wisconsin+%28original%29)\n",
    "- bike sharing: hourly [link](https://archive.ics.uci.edu/ml/datasets/bike+sharing+dataset)"
   ]
  },
  {
   "cell_type": "markdown",
   "metadata": {},
   "source": [
    "---"
   ]
  },
  {
   "cell_type": "markdown",
   "metadata": {},
   "source": [
    "#### create `s3d` model"
   ]
  },
  {
   "cell_type": "markdown",
   "metadata": {},
   "source": [
    "suppose the dataset is stored at `../splitted_data/`, all we need for the model is the name of the dataset of interest"
   ]
  },
  {
   "cell_type": "code",
   "execution_count": 8,
   "metadata": {
    "ExecuteTime": {
     "end_time": "2018-07-02T19:00:08.231733Z",
     "start_time": "2018-07-02T19:00:08.222652Z"
    }
   },
   "outputs": [
    {
     "name": "stdout",
     "output_type": "stream",
     "text": [
      "Help on function __init__ in module pys3d:\n",
      "\n",
      "__init__(self, data_name, data_path='../splitted_data/', model_path='models/', prediction_path='predictions/', classification_flag=True)\n",
      "    initializer\n",
      "    \n",
      "    parameters\n",
      "    ----------\n",
      "    data_name : str\n",
      "        intput data name\n",
      "    data_path : str\n",
      "        input data base path\n",
      "    model_path : str\n",
      "        base path for output of built models\n",
      "    prediction_path : str\n",
      "        base path for predicted expectations\n",
      "    classification_flag : bool\n",
      "        whether this is classification or regression. tihis is used for determining evaluation metrics\n",
      "    \n",
      "    for each path, we assume that there are sub folders for each test fold\n",
      "\n"
     ]
    }
   ],
   "source": [
    "help(PYS3D.__init__)"
   ]
  },
  {
   "cell_type": "code",
   "execution_count": 9,
   "metadata": {
    "ExecuteTime": {
     "end_time": "2018-07-02T19:00:08.241112Z",
     "start_time": "2018-07-02T19:00:08.235560Z"
    }
   },
   "outputs": [],
   "source": [
    "data_name = 'breastcancer'\n",
    "fold_index = 1"
   ]
  },
  {
   "cell_type": "code",
   "execution_count": 10,
   "metadata": {
    "ExecuteTime": {
     "end_time": "2018-07-02T19:00:08.385124Z",
     "start_time": "2018-07-02T19:00:08.243469Z"
    }
   },
   "outputs": [
    {
     "name": "stdout",
     "output_type": "stream",
     "text": [
      "tmp not exist, create\n",
      "models not exist, create\n",
      "predictions not exist, create\n",
      "cv not exist, create\n"
     ]
    }
   ],
   "source": [
    "%%bash\n",
    "./cleanup\n",
    "./init"
   ]
  },
  {
   "cell_type": "code",
   "execution_count": 11,
   "metadata": {
    "ExecuteTime": {
     "end_time": "2018-07-02T19:00:08.397846Z",
     "start_time": "2018-07-02T19:00:08.389275Z"
    }
   },
   "outputs": [
    {
     "name": "stdout",
     "output_type": "stream",
     "text": [
      "...s3d initializing...\n",
      "s3d with breastcancer data, splitted into 5 folds\n",
      "data will be loaded from ../splitted_data/breastcancer/\n",
      "built models will be saved to models/breastcancer/\n",
      "predictions will be saved to predictions/breastcancer/\n",
      "temporary subfolders in  ./tmp/breastcancer\n",
      "...done initializing...\n",
      "\n"
     ]
    }
   ],
   "source": [
    "s3d = PYS3D(data_name)"
   ]
  },
  {
   "cell_type": "markdown",
   "metadata": {},
   "source": [
    "section 3 and 4 describes the typical training/testing process for one of the folds\n",
    "\n",
    "section 5 starts to "
   ]
  },
  {
   "cell_type": "markdown",
   "metadata": {},
   "source": [
    "---"
   ]
  },
  {
   "cell_type": "markdown",
   "metadata": {},
   "source": [
    "#### train"
   ]
  },
  {
   "cell_type": "markdown",
   "metadata": {},
   "source": [
    "there are two required input arg:\n",
    "- `train_data_path`: the path to the dataset. assume that the target is in the first column \n",
    "- `train_model_path`: the path to save the model"
   ]
  },
  {
   "cell_type": "code",
   "execution_count": 12,
   "metadata": {
    "ExecuteTime": {
     "end_time": "2018-07-02T19:00:08.405918Z",
     "start_time": "2018-07-02T19:00:08.400407Z"
    }
   },
   "outputs": [],
   "source": [
    "train_data = '../splitted_data/{}/{}/train.csv'.format(data_name, fold_index)\n",
    "train_model = 'test-folder/'"
   ]
  },
  {
   "cell_type": "code",
   "execution_count": 13,
   "metadata": {
    "ExecuteTime": {
     "end_time": "2018-07-02T19:00:08.480588Z",
     "start_time": "2018-07-02T19:00:08.408910Z"
    }
   },
   "outputs": [],
   "source": [
    "s3d.fit(train_data, train_model, lambda_=0.001, max_features=5)"
   ]
  },
  {
   "cell_type": "markdown",
   "metadata": {},
   "source": [
    "the outputs will be saved to `test-folder/` in our case"
   ]
  },
  {
   "cell_type": "markdown",
   "metadata": {},
   "source": [
    "---"
   ]
  },
  {
   "cell_type": "markdown",
   "metadata": {},
   "source": [
    "#### visualize the trained model"
   ]
  },
  {
   "cell_type": "markdown",
   "metadata": {},
   "source": [
    "##### steps"
   ]
  },
  {
   "cell_type": "markdown",
   "metadata": {},
   "source": [
    "we can visualize chosen features at each step and the unique contribution of $r^2$"
   ]
  },
  {
   "cell_type": "code",
   "execution_count": 14,
   "metadata": {
    "ExecuteTime": {
     "end_time": "2018-07-02T19:00:09.284578Z",
     "start_time": "2018-07-02T19:00:08.486312Z"
    }
   },
   "outputs": [
    {
     "data": {
      "image/png": "[encoded data removed]",
      "text/plain": [
       "<matplotlib.figure.Figure at 0x10d96f240>"
      ]
     },
     "metadata": {},
     "output_type": "display_data"
    }
   ],
   "source": [
    "fig, ax = utils.visualize_s3d_steps(train_model, figsize=(10,6))"
   ]
  },
  {
   "cell_type": "markdown",
   "metadata": {},
   "source": [
    "##### feature binning"
   ]
  },
  {
   "cell_type": "markdown",
   "metadata": {},
   "source": [
    "sometimes customization needed to improve the overall quality"
   ]
  },
  {
   "cell_type": "code",
   "execution_count": 64,
   "metadata": {
    "ExecuteTime": {
     "end_time": "2018-07-02T19:01:28.241033Z",
     "start_time": "2018-07-02T19:01:28.236998Z"
    },
    "init_cell": true
   },
   "outputs": [],
   "source": [
    "pink_color = '#FBB4AE'\n",
    "my_cmap = mc.LinearSegmentedColormap.from_list('custom_pink', ['#ffffff', pink_color], N=256)"
   ]
  },
  {
   "cell_type": "markdown",
   "metadata": {},
   "source": [
    "first calll `utils.visualize_s3d_model_reader` to obtain _bins_. 3 required inputs:\n",
    "- `model_folder`: `train_model` in our case\n",
    "- `dim`: how many feature to use (2, 3, or 4)\n",
    "- `thres`: classification threhold"
   ]
  },
  {
   "cell_type": "code",
   "execution_count": 16,
   "metadata": {
    "ExecuteTime": {
     "end_time": "2018-07-02T19:00:09.298693Z",
     "start_time": "2018-07-02T19:00:09.295436Z"
    }
   },
   "outputs": [],
   "source": [
    "dim = 3\n",
    "thres = 0.33"
   ]
  },
  {
   "cell_type": "code",
   "execution_count": 17,
   "metadata": {
    "ExecuteTime": {
     "end_time": "2018-07-02T19:00:09.313288Z",
     "start_time": "2018-07-02T19:00:09.301038Z"
    }
   },
   "outputs": [],
   "source": [
    "splits_at_dim, N_dim, intensity_dim, pred_dim, chosen_f_dim = utils.visualize_s3d_model_reader(train_model, dim, thres)"
   ]
  },
  {
   "cell_type": "markdown",
   "metadata": {},
   "source": [
    "we can plot the heatmap for 3 types of data:\n",
    "- frequency: the frequency of data points - use `N_dim`\n",
    "- y bar: $E[y]$, the expected targat values - use `intensity_dim`\n",
    "- prediction: predicted class/label - use `pred_dim`"
   ]
  },
  {
   "cell_type": "markdown",
   "metadata": {},
   "source": [
    "###### frequency"
   ]
  },
  {
   "cell_type": "code",
   "execution_count": 18,
   "metadata": {
    "ExecuteTime": {
     "end_time": "2018-07-02T19:00:10.188399Z",
     "start_time": "2018-07-02T19:00:09.316855Z"
    }
   },
   "outputs": [
    {
     "data": {
      "image/png": "[encoded data removed]",
      "text/plain": [
       "<matplotlib.figure.Figure at 0x115824fd0>"
      ]
     },
     "metadata": {},
     "output_type": "display_data"
    }
   ],
   "source": [
    "fig, ax_arr = utils.visualize_s3d_model(dim, splits_at_dim, my_cmap, \n",
    "                                        N_dim, 'Freq', chosen_f_dim, \n",
    "                                        xscale='linear', yscale='linear',\n",
    "                                        norm_func=mc.LogNorm\n",
    "                                       )\n",
    "ax_arr[0,0].set_xticks([1,3,6,10])\n",
    "ax_arr[0,0].set_yticks([1,3,6,10])\n",
    "ax_arr[0,0].minorticks_off()"
   ]
  },
  {
   "cell_type": "markdown",
   "metadata": {},
   "source": [
    "###### expected value"
   ]
  },
  {
   "cell_type": "code",
   "execution_count": 19,
   "metadata": {
    "ExecuteTime": {
     "end_time": "2018-07-02T19:00:10.900096Z",
     "start_time": "2018-07-02T19:00:10.190960Z"
    }
   },
   "outputs": [
    {
     "data": {
      "image/png": "[encoded data removed]",
      "text/plain": [
       "<matplotlib.figure.Figure at 0x116ada860>"
      ]
     },
     "metadata": {},
     "output_type": "display_data"
    }
   ],
   "source": [
    "fig, ax_arr = utils.visualize_s3d_model(dim, splits_at_dim, my_cmap, \n",
    "                                        intensity_dim, '$E[y]$', chosen_f_dim, \n",
    "                                        xscale='linear', yscale='linear',\n",
    "                                       )\n",
    "ax_arr[0,0].set_xticks([1,3,6,10])\n",
    "ax_arr[0,0].set_yticks([1,3,6,10])\n",
    "ax_arr[0,0].minorticks_off()"
   ]
  },
  {
   "cell_type": "markdown",
   "metadata": {},
   "source": [
    "###### predictions"
   ]
  },
  {
   "cell_type": "markdown",
   "metadata": {},
   "source": [
    "for this, a more customized discrete colormap is recommended"
   ]
  },
  {
   "cell_type": "code",
   "execution_count": 20,
   "metadata": {
    "ExecuteTime": {
     "end_time": "2018-07-02T19:00:11.549407Z",
     "start_time": "2018-07-02T19:00:10.903596Z"
    }
   },
   "outputs": [
    {
     "data": {
      "image/png": "[encoded data removed]",
      "text/plain": [
       "<matplotlib.figure.Figure at 0x116da4470>"
      ]
     },
     "metadata": {},
     "output_type": "display_data"
    }
   ],
   "source": [
    "fig, ax_arr = utils.visualize_s3d_model(dim, splits_at_dim, \n",
    "                                        mc.ListedColormap(['white'] + [pink_color]*int(round(1/thres-1))), \n",
    "                                        pred_dim, 'Predictions', chosen_f_dim, \n",
    "                                        xscale='linear', yscale='linear', \n",
    "                                        cb_kwargs={'aspect':30, 'ticks': [0, thres, 1]}\n",
    "                                       )\n",
    "ax_arr[0,0].set_xticks([1,3,6,10])\n",
    "ax_arr[0,0].set_yticks([1,3,6,10])\n",
    "ax_arr[0,0].minorticks_off()"
   ]
  },
  {
   "cell_type": "markdown",
   "metadata": {},
   "source": [
    "##### feature network"
   ]
  },
  {
   "cell_type": "markdown",
   "metadata": {},
   "source": [
    "we can also visualize the redundancy between features:\n",
    "- node: features\n",
    "- edge\n",
    "    - direction: from thee unselected feature ($X_j$) to the selected one ($X_l$)\n",
    "    - width: \"variation redundancies\" of $X_j$ made by selecting $X_l$:\n",
    "        $$a_{X_j,X_l^S}=\\Delta R^2(P_{X_j}|\\mathcal{P}^{S(l-1)}) - \\Delta R^2(P_{X_j}|\\mathcal{P}^{S(l-1)}\\times P_{X_l^S})$$\n",
    "- color: distinguish selected/unselected (and maybe isolated those w/o much contribution to the target)"
   ]
  },
  {
   "cell_type": "code",
   "execution_count": 21,
   "metadata": {
    "ExecuteTime": {
     "end_time": "2018-07-02T19:00:12.093023Z",
     "start_time": "2018-07-02T19:00:11.554064Z"
    }
   },
   "outputs": [
    {
     "data": {
      "image/png": "[encoded data removed]",
      "text/plain": [
       "<matplotlib.figure.Figure at 0x1170f2710>"
      ]
     },
     "metadata": {},
     "output_type": "display_data"
    }
   ],
   "source": [
    "net, (fig, ax) = utils.visualize_feature_network(model_folder=train_model, w_scale=5)"
   ]
  },
  {
   "cell_type": "markdown",
   "metadata": {},
   "source": [
    "---"
   ]
  },
  {
   "cell_type": "markdown",
   "metadata": {},
   "source": [
    "#### hyperparameter tuning"
   ]
  },
  {
   "cell_type": "markdown",
   "metadata": {},
   "source": [
    "it is convenient to tune the hyperparameters: \n",
    "- $\\lambda$: regularization strength\n",
    "- number of features: number of features to use (we like parsimonious models!)"
   ]
  },
  {
   "cell_type": "markdown",
   "metadata": {},
   "source": [
    "the function to call is `pys3d.cross_val`:"
   ]
  },
  {
   "cell_type": "code",
   "execution_count": 22,
   "metadata": {
    "ExecuteTime": {
     "end_time": "2018-07-02T19:00:12.100063Z",
     "start_time": "2018-07-02T19:00:12.095290Z"
    }
   },
   "outputs": [
    {
     "name": "stdout",
     "output_type": "stream",
     "text": [
      "Help on method cross_val in module pys3d:\n",
      "\n",
      "cross_val(lambda_list, max_features, thres=0.5, calc_threshold=True) method of pys3d.PYS3D instance\n",
      "    grid search for hyperparameters for each fold\n",
      "\n"
     ]
    }
   ],
   "source": [
    "help(s3d.cross_val)"
   ]
  },
  {
   "cell_type": "markdown",
   "metadata": {},
   "source": [
    "the required input are $\\lambda$'s and numbers of features\n",
    "\n",
    "from the above figure, we see the 5th feature really contributes very little, so let's set the maximum features to be 4"
   ]
  },
  {
   "cell_type": "code",
   "execution_count": 23,
   "metadata": {
    "ExecuteTime": {
     "end_time": "2018-07-02T19:00:12.108821Z",
     "start_time": "2018-07-02T19:00:12.102310Z"
    }
   },
   "outputs": [
    {
     "data": {
      "text/plain": [
       "'breastcancer'"
      ]
     },
     "execution_count": 23,
     "metadata": {},
     "output_type": "execute_result"
    }
   ],
   "source": [
    "lambda_list = [0.001, 0.003, 0.0001, 0.0003]\n",
    "num_features = 4\n",
    "data_name"
   ]
  },
  {
   "cell_type": "code",
   "execution_count": 24,
   "metadata": {
    "ExecuteTime": {
     "end_time": "2018-07-02T19:00:12.120899Z",
     "start_time": "2018-07-02T19:00:12.111618Z"
    }
   },
   "outputs": [
    {
     "name": "stdout",
     "output_type": "stream",
     "text": [
      "...s3d initializing...\n",
      "s3d with breastcancer data, splitted into 5 folds\n",
      "data will be loaded from ../splitted_data/breastcancer/\n",
      "built models will be saved to models/breastcancer/\n",
      "predictions will be saved to predictions/breastcancer/\n",
      "temporary subfolders in  ./tmp/breastcancer\n",
      "...done initializing...\n",
      "\n"
     ]
    }
   ],
   "source": [
    "s3d = PYS3D(data_name)"
   ]
  },
  {
   "cell_type": "code",
   "execution_count": 25,
   "metadata": {
    "ExecuteTime": {
     "end_time": "2018-07-02T19:00:21.076015Z",
     "start_time": "2018-07-02T19:00:12.125362Z"
    }
   },
   "outputs": [
    {
     "name": "stdout",
     "output_type": "stream",
     "text": [
      "--- cross validation on breastcancer data ---\n",
      "starting on fold 0\n"
     ]
    },
    {
     "name": "stderr",
     "output_type": "stream",
     "text": [
      "/Users/zhiyzuo/.virtualenvs/py3/lib/python3.6/site-packages/sklearn/metrics/classification.py:1135: UndefinedMetricWarning: F-score is ill-defined and being set to 0.0 in labels with no predicted samples.\n",
      "  'precision', 'predicted', average, warn_for)\n"
     ]
    },
    {
     "name": "stdout",
     "output_type": "stream",
     "text": [
      "finish after 1.86 seconds\n",
      "starting on fold 1\n",
      "finish after 1.74 seconds\n",
      "starting on fold 2\n",
      "finish after 1.89 seconds\n",
      "starting on fold 3\n",
      "finish after 1.75 seconds\n",
      "starting on fold 4\n",
      "finish after 1.68 seconds\n",
      "--- done cv; total elapsed time 8.94 seconds\n"
     ]
    }
   ],
   "source": [
    "s3d.cross_val(lambda_list, num_features, calc_threshold=True)"
   ]
  },
  {
   "cell_type": "markdown",
   "metadata": {},
   "source": [
    "the resulting file will be at `cv/data_name/performance.csv`"
   ]
  },
  {
   "cell_type": "code",
   "execution_count": 26,
   "metadata": {
    "ExecuteTime": {
     "end_time": "2018-07-02T19:00:21.108984Z",
     "start_time": "2018-07-02T19:00:21.079827Z"
    }
   },
   "outputs": [
    {
     "data": {
      "text/html": [
       "<div>\n",
       "<style scoped>\n",
       "    .dataframe tbody tr th:only-of-type {\n",
       "        vertical-align: middle;\n",
       "    }\n",
       "\n",
       "    .dataframe tbody tr th {\n",
       "        vertical-align: top;\n",
       "    }\n",
       "\n",
       "    .dataframe thead th {\n",
       "        text-align: right;\n",
       "    }\n",
       "</style>\n",
       "<table border=\"1\" class=\"dataframe\">\n",
       "  <thead>\n",
       "    <tr style=\"text-align: right;\">\n",
       "      <th></th>\n",
       "      <th>accuracy</th>\n",
       "      <th>auc_macro</th>\n",
       "      <th>auc_micro</th>\n",
       "      <th>f1_binary</th>\n",
       "      <th>f1_macro</th>\n",
       "      <th>f1_micro</th>\n",
       "      <th>r2</th>\n",
       "      <th>threshold</th>\n",
       "      <th>num_features</th>\n",
       "      <th>test_fold_i</th>\n",
       "      <th>train_r2</th>\n",
       "      <th>lambda_</th>\n",
       "      <th>max_features</th>\n",
       "      <th>split_version</th>\n",
       "    </tr>\n",
       "  </thead>\n",
       "  <tbody>\n",
       "    <tr>\n",
       "      <th>0</th>\n",
       "      <td>0.948529</td>\n",
       "      <td>0.982812</td>\n",
       "      <td>0.982812</td>\n",
       "      <td>0.940171</td>\n",
       "      <td>0.947505</td>\n",
       "      <td>0.948529</td>\n",
       "      <td>0.787500</td>\n",
       "      <td>0.382353</td>\n",
       "      <td>1</td>\n",
       "      <td>0</td>\n",
       "      <td>0.755441</td>\n",
       "      <td>0.001</td>\n",
       "      <td>4</td>\n",
       "      <td>0</td>\n",
       "    </tr>\n",
       "    <tr>\n",
       "      <th>1</th>\n",
       "      <td>0.963235</td>\n",
       "      <td>0.966853</td>\n",
       "      <td>0.966853</td>\n",
       "      <td>0.956522</td>\n",
       "      <td>0.962337</td>\n",
       "      <td>0.963235</td>\n",
       "      <td>0.848214</td>\n",
       "      <td>0.571429</td>\n",
       "      <td>2</td>\n",
       "      <td>0</td>\n",
       "      <td>0.889637</td>\n",
       "      <td>0.001</td>\n",
       "      <td>4</td>\n",
       "      <td>0</td>\n",
       "    </tr>\n",
       "  </tbody>\n",
       "</table>\n",
       "</div>"
      ],
      "text/plain": [
       "   accuracy  auc_macro  auc_micro  f1_binary  f1_macro  f1_micro        r2  \\\n",
       "0  0.948529   0.982812   0.982812   0.940171  0.947505  0.948529  0.787500   \n",
       "1  0.963235   0.966853   0.966853   0.956522  0.962337  0.963235  0.848214   \n",
       "\n",
       "   threshold  num_features  test_fold_i  train_r2  lambda_  max_features  \\\n",
       "0   0.382353             1            0  0.755441    0.001             4   \n",
       "1   0.571429             2            0  0.889637    0.001             4   \n",
       "\n",
       "   split_version  \n",
       "0              0  \n",
       "1              0  "
      ]
     },
     "execution_count": 26,
     "metadata": {},
     "output_type": "execute_result"
    }
   ],
   "source": [
    "cv_df = pd.read_csv('cv/{}/performance.csv'.format(data_name))\n",
    "cv_df.head(2)"
   ]
  },
  {
   "cell_type": "markdown",
   "metadata": {},
   "source": [
    "we can further visualize the train/validation performance, which also returns:\n",
    "- the best number of features and $\\lambda$\n",
    "- as well as the value of the given metric (by default it uses [`auc micro`](http://scikit-learn.org/stable/modules/generated/sklearn.metrics.roc_auc_score.html#sklearn.metrics.roc_auc_score))"
   ]
  },
  {
   "cell_type": "markdown",
   "metadata": {
    "ExecuteTime": {
     "end_time": "2018-06-22T23:51:49.065670Z",
     "start_time": "2018-06-22T23:51:49.059465Z"
    }
   },
   "source": [
    "__note that we need to specify which split to be analyzed - different splits may have slightly different hyperparams__"
   ]
  },
  {
   "cell_type": "code",
   "execution_count": 27,
   "metadata": {
    "ExecuteTime": {
     "end_time": "2018-07-02T19:00:21.892780Z",
     "start_time": "2018-07-02T19:00:21.111978Z"
    }
   },
   "outputs": [
    {
     "data": {
      "image/png": "[encoded data removed]",
      "text/plain": [
       "<matplotlib.figure.Figure at 0x1173c6ef0>"
      ]
     },
     "metadata": {},
     "output_type": "display_data"
    }
   ],
   "source": [
    "fp, best_n_f, best_val, best_lambda_, split_version = utils.visualize_cv('cv/{}/performance.csv'.format(data_name), \n",
    "                                                                         split_version=0)"
   ]
  },
  {
   "cell_type": "code",
   "execution_count": 28,
   "metadata": {
    "ExecuteTime": {
     "end_time": "2018-07-02T19:00:21.900476Z",
     "start_time": "2018-07-02T19:00:21.895704Z"
    }
   },
   "outputs": [
    {
     "name": "stdout",
     "output_type": "stream",
     "text": [
      "for split version 0...\n",
      "best number of features: 3.0\n",
      "best lambda: 0.003\n"
     ]
    }
   ],
   "source": [
    "print('for split version {}...\\nbest number of features: {}\\nbest lambda: {}'.format(split_version, best_n_f, best_lambda_))"
   ]
  },
  {
   "cell_type": "markdown",
   "metadata": {},
   "source": [
    "change the metric to accuracy; check out a different fold"
   ]
  },
  {
   "cell_type": "code",
   "execution_count": 29,
   "metadata": {
    "ExecuteTime": {
     "end_time": "2018-07-02T19:00:22.505525Z",
     "start_time": "2018-07-02T19:00:21.903108Z"
    }
   },
   "outputs": [
    {
     "data": {
      "image/png": "[encoded data removed]",
      "text/plain": [
       "<matplotlib.figure.Figure at 0x116fffac8>"
      ]
     },
     "metadata": {},
     "output_type": "display_data"
    }
   ],
   "source": [
    "fp, best_n_f, best_val, best_lambda_, split_version = utils.visualize_cv('cv/{}/performance.csv'.format(data_name), \n",
    "                                                                         validation_metric='accuracy',\n",
    "                                                                         split_version=0,\n",
    "                                                                        )"
   ]
  },
  {
   "cell_type": "code",
   "execution_count": 30,
   "metadata": {
    "ExecuteTime": {
     "end_time": "2018-07-02T19:00:22.515492Z",
     "start_time": "2018-07-02T19:00:22.510204Z"
    }
   },
   "outputs": [
    {
     "name": "stdout",
     "output_type": "stream",
     "text": [
      "for split version 0...\n",
      "best number of features: 4.0\n",
      "best lambda: 0.003\n"
     ]
    }
   ],
   "source": [
    "print('for split version {}...\\nbest number of features: {}\\nbest lambda: {}'.format(split_version, best_n_f, best_lambda_))"
   ]
  },
  {
   "cell_type": "markdown",
   "metadata": {},
   "source": [
    "---"
   ]
  },
  {
   "cell_type": "markdown",
   "metadata": {},
   "source": [
    "#### multi core hyperparam tuning"
   ]
  },
  {
   "cell_type": "markdown",
   "metadata": {},
   "source": [
    "if more computing resources are available, we can parallelize different folds"
   ]
  },
  {
   "cell_type": "code",
   "execution_count": 31,
   "metadata": {
    "ExecuteTime": {
     "end_time": "2018-07-02T19:00:26.742153Z",
     "start_time": "2018-07-02T19:00:22.518302Z"
    }
   },
   "outputs": [
    {
     "name": "stdout",
     "output_type": "stream",
     "text": [
      "--- cross validation (5 cores) on breastcancer data ---\n"
     ]
    },
    {
     "name": "stderr",
     "output_type": "stream",
     "text": [
      "/Users/zhiyzuo/.virtualenvs/py3/lib/python3.6/site-packages/sklearn/metrics/classification.py:1135: UndefinedMetricWarning: F-score is ill-defined and being set to 0.0 in labels with no predicted samples.\n",
      "  'precision', 'predicted', average, warn_for)\n",
      "/Users/zhiyzuo/.virtualenvs/py3/lib/python3.6/site-packages/sklearn/metrics/classification.py:1135: UndefinedMetricWarning: F-score is ill-defined and being set to 0.0 in labels with no predicted samples.\n",
      "  'precision', 'predicted', average, warn_for)\n",
      "/Users/zhiyzuo/.virtualenvs/py3/lib/python3.6/site-packages/sklearn/metrics/classification.py:1135: UndefinedMetricWarning: F-score is ill-defined and being set to 0.0 in labels with no predicted samples.\n",
      "  'precision', 'predicted', average, warn_for)\n",
      "/Users/zhiyzuo/.virtualenvs/py3/lib/python3.6/site-packages/sklearn/metrics/classification.py:1135: UndefinedMetricWarning: F-score is ill-defined and being set to 0.0 in labels with no predicted samples.\n",
      "  'precision', 'predicted', average, warn_for)\n",
      "/Users/zhiyzuo/.virtualenvs/py3/lib/python3.6/site-packages/sklearn/metrics/classification.py:1135: UndefinedMetricWarning: F-score is ill-defined and being set to 0.0 in labels with no predicted samples.\n",
      "  'precision', 'predicted', average, warn_for)\n"
     ]
    },
    {
     "name": "stdout",
     "output_type": "stream",
     "text": [
      "--- done multi-core cv; total elapsed time 4.19 seconds\n"
     ]
    }
   ],
   "source": [
    "s3d.cross_val_multicore(lambda_list, num_features, calc_threshold=True, num_cores=5)"
   ]
  },
  {
   "cell_type": "markdown",
   "metadata": {},
   "source": [
    "checkout the cross val for `fold_index`"
   ]
  },
  {
   "cell_type": "code",
   "execution_count": 32,
   "metadata": {
    "ExecuteTime": {
     "end_time": "2018-07-02T19:00:26.750587Z",
     "start_time": "2018-07-02T19:00:26.745020Z"
    }
   },
   "outputs": [
    {
     "data": {
      "text/plain": [
       "1"
      ]
     },
     "execution_count": 32,
     "metadata": {},
     "output_type": "execute_result"
    }
   ],
   "source": [
    "fold_index"
   ]
  },
  {
   "cell_type": "code",
   "execution_count": 33,
   "metadata": {
    "ExecuteTime": {
     "end_time": "2018-07-02T19:00:27.501420Z",
     "start_time": "2018-07-02T19:00:26.753082Z"
    }
   },
   "outputs": [
    {
     "data": {
      "image/png": "[encoded data removed]",
      "text/plain": [
       "<matplotlib.figure.Figure at 0x117cda668>"
      ]
     },
     "metadata": {},
     "output_type": "display_data"
    }
   ],
   "source": [
    "fp, best_n_f, best_val, best_lambda_, split_version = utils.visualize_cv('cv/{}/performance.csv'.format(data_name), \n",
    "                                                                         split_version=fold_index,\n",
    "                                                                         validation_metric='accuracy')"
   ]
  },
  {
   "cell_type": "code",
   "execution_count": 34,
   "metadata": {
    "ExecuteTime": {
     "end_time": "2018-07-02T19:00:27.510027Z",
     "start_time": "2018-07-02T19:00:27.505259Z"
    }
   },
   "outputs": [
    {
     "name": "stdout",
     "output_type": "stream",
     "text": [
      "for split version 1...\n",
      "best number of features: 2.0\n",
      "best lambda: 0.003\n"
     ]
    }
   ],
   "source": [
    "print('for split version {}...\\nbest number of features: {}\\nbest lambda: {}'.format(split_version, best_n_f, best_lambda_))"
   ]
  },
  {
   "cell_type": "markdown",
   "metadata": {},
   "source": [
    "---"
   ]
  },
  {
   "cell_type": "markdown",
   "metadata": {},
   "source": [
    "#### predict (for one fold)"
   ]
  },
  {
   "cell_type": "markdown",
   "metadata": {},
   "source": [
    "we can then use the trained model to predict for the held-out set; let's pick\n",
    "- $\\lambda=0.03$\n",
    "- $num\\_features=2$"
   ]
  },
  {
   "cell_type": "markdown",
   "metadata": {},
   "source": [
    "train the model again with \"the best hyperparameters\""
   ]
  },
  {
   "cell_type": "code",
   "execution_count": 35,
   "metadata": {
    "ExecuteTime": {
     "end_time": "2018-07-02T19:00:27.576220Z",
     "start_time": "2018-07-02T19:00:27.512807Z"
    }
   },
   "outputs": [
    {
     "name": "stdout",
     "output_type": "stream",
     "text": [
      "...s3d initializing...\n",
      "s3d with breastcancer data, splitted into 5 folds\n",
      "data will be loaded from ../splitted_data/breastcancer/\n",
      "built models will be saved to models/breastcancer/\n",
      "predictions will be saved to predictions/breastcancer/\n",
      "temporary subfolders in  ./tmp/breastcancer\n",
      "...done initializing...\n",
      "\n"
     ]
    }
   ],
   "source": [
    "s3d = PYS3D(data_name)\n",
    "s3d.fit(train_data, train_model, lambda_=best_lambda_, max_features=best_n_f)"
   ]
  },
  {
   "cell_type": "markdown",
   "metadata": {},
   "source": [
    "check out the feature binning"
   ]
  },
  {
   "cell_type": "code",
   "execution_count": 36,
   "metadata": {
    "ExecuteTime": {
     "end_time": "2018-07-02T19:00:27.600720Z",
     "start_time": "2018-07-02T19:00:27.584901Z"
    }
   },
   "outputs": [
    {
     "data": {
      "text/plain": [
       "0.75"
      ]
     },
     "execution_count": 36,
     "metadata": {},
     "output_type": "execute_result"
    }
   ],
   "source": [
    "thres = s3d.calculate_disc_threshold(train_model, best_n_f)\n",
    "thres"
   ]
  },
  {
   "cell_type": "code",
   "execution_count": 37,
   "metadata": {
    "ExecuteTime": {
     "end_time": "2018-07-02T19:00:27.616097Z",
     "start_time": "2018-07-02T19:00:27.605377Z"
    }
   },
   "outputs": [
    {
     "data": {
      "text/plain": [
       "(2.0, 0.75)"
      ]
     },
     "execution_count": 37,
     "metadata": {},
     "output_type": "execute_result"
    }
   ],
   "source": [
    "dim = best_n_f\n",
    "dim, thres"
   ]
  },
  {
   "cell_type": "code",
   "execution_count": 38,
   "metadata": {
    "ExecuteTime": {
     "end_time": "2018-07-02T19:00:27.636893Z",
     "start_time": "2018-07-02T19:00:27.622558Z"
    }
   },
   "outputs": [],
   "source": [
    "splits_at_dim, N_dim, intensity_dim, pred_dim, chosen_f_dim = utils.visualize_s3d_model_reader(train_model, int(dim), thres)"
   ]
  },
  {
   "cell_type": "code",
   "execution_count": 39,
   "metadata": {
    "ExecuteTime": {
     "end_time": "2018-07-02T19:00:28.069026Z",
     "start_time": "2018-07-02T19:00:27.639397Z"
    }
   },
   "outputs": [
    {
     "data": {
      "image/png": "[encoded data removed]",
      "text/plain": [
       "<matplotlib.figure.Figure at 0x116a4b048>"
      ]
     },
     "metadata": {},
     "output_type": "display_data"
    }
   ],
   "source": [
    "fig, ax_arr = utils.visualize_s3d_model(int(dim), splits_at_dim, my_cmap, \n",
    "                                        intensity_dim, '$E[y]$', chosen_f_dim, \n",
    "                                        xscale='linear', yscale='linear',\n",
    "                                       )\n",
    "ax_arr[0,0].set_xticks([1,3,6,10])\n",
    "ax_arr[0,0].set_yticks([1,3,6,10])\n",
    "ax_arr[0,0].minorticks_off()"
   ]
  },
  {
   "cell_type": "code",
   "execution_count": 40,
   "metadata": {
    "ExecuteTime": {
     "end_time": "2018-07-02T19:00:28.288245Z",
     "start_time": "2018-07-02T19:00:28.071634Z"
    }
   },
   "outputs": [
    {
     "data": {
      "image/png": "[encoded data removed]",
      "text/plain": [
       "<matplotlib.figure.Figure at 0x115268908>"
      ]
     },
     "metadata": {},
     "output_type": "display_data"
    }
   ],
   "source": [
    "fig, ax_arr = utils.visualize_s3d_model(int(dim), splits_at_dim, \n",
    "                                        mc.ListedColormap(['white']*3 + [pink_color]), \n",
    "                                        pred_dim, 'Predictions', chosen_f_dim, \n",
    "                                        xscale='linear', yscale='linear', \n",
    "                                        cb_kwargs={'aspect':30, 'ticks': [0, thres, 1]}\n",
    "                                       )\n",
    "ax_arr[0,0].set_xticks([1,3,6,10])\n",
    "ax_arr[0,0].set_yticks([1,3,6,10])\n",
    "ax_arr[0,0].minorticks_off()"
   ]
  },
  {
   "cell_type": "markdown",
   "metadata": {},
   "source": [
    "prediction"
   ]
  },
  {
   "cell_type": "code",
   "execution_count": 41,
   "metadata": {
    "ExecuteTime": {
     "end_time": "2018-07-02T19:00:28.332864Z",
     "start_time": "2018-07-02T19:00:28.290615Z"
    }
   },
   "outputs": [],
   "source": [
    "test_data = '../splitted_data/{}/{}/test.csv'.format(data_name, fold_index)\n",
    "prediction_path = 'test-folder/'\n",
    "s3d.predict(test_data, train_model, prediction_path)"
   ]
  },
  {
   "cell_type": "markdown",
   "metadata": {
    "ExecuteTime": {
     "end_time": "2018-06-22T00:23:12.271489Z",
     "start_time": "2018-06-22T00:23:12.261727Z"
    }
   },
   "source": [
    "note that this will be done when the number of features used for prediction vary from 1 to `k`, which is the largest number of features found by the training process"
   ]
  },
  {
   "cell_type": "code",
   "execution_count": 42,
   "metadata": {
    "ExecuteTime": {
     "end_time": "2018-07-02T19:00:28.474400Z",
     "start_time": "2018-07-02T19:00:28.336874Z"
    }
   },
   "outputs": [
    {
     "name": "stdout",
     "output_type": "stream",
     "text": [
      "N_tree.csv                       predict_MF_2.log\r\n",
      "R2improvements.csv               predicted_expectations_MF_1.csv\r\n",
      "fit.log                          predicted_expectations_MF_2.csv\r\n",
      "levels.csv                       splits.csv\r\n",
      "predict_MF_1.log                 ybar_tree.csv\r\n"
     ]
    }
   ],
   "source": [
    "ls test-folder/"
   ]
  },
  {
   "cell_type": "markdown",
   "metadata": {},
   "source": [
    "---"
   ]
  },
  {
   "cell_type": "markdown",
   "metadata": {},
   "source": [
    "#### score (for one fold)"
   ]
  },
  {
   "cell_type": "markdown",
   "metadata": {},
   "source": [
    "or we can directly obtain the performance scores by `score` function"
   ]
  },
  {
   "cell_type": "code",
   "execution_count": 43,
   "metadata": {
    "ExecuteTime": {
     "end_time": "2018-07-02T19:00:28.495031Z",
     "start_time": "2018-07-02T19:00:28.478140Z"
    }
   },
   "outputs": [
    {
     "data": {
      "text/plain": [
       "'../splitted_data/breastcancer/1/train.csv'"
      ]
     },
     "execution_count": 43,
     "metadata": {},
     "output_type": "execute_result"
    }
   ],
   "source": [
    "train_data"
   ]
  },
  {
   "cell_type": "code",
   "execution_count": 44,
   "metadata": {
    "ExecuteTime": {
     "end_time": "2018-07-02T19:00:28.509222Z",
     "start_time": "2018-07-02T19:00:28.502891Z"
    }
   },
   "outputs": [
    {
     "data": {
      "text/plain": [
       "'../splitted_data/breastcancer/1/test.csv'"
      ]
     },
     "execution_count": 44,
     "metadata": {},
     "output_type": "execute_result"
    }
   ],
   "source": [
    "test_data"
   ]
  },
  {
   "cell_type": "code",
   "execution_count": 45,
   "metadata": {
    "ExecuteTime": {
     "end_time": "2018-07-02T19:00:28.580645Z",
     "start_time": "2018-07-02T19:00:28.514252Z"
    }
   },
   "outputs": [
    {
     "data": {
      "text/html": [
       "<div>\n",
       "<style scoped>\n",
       "    .dataframe tbody tr th:only-of-type {\n",
       "        vertical-align: middle;\n",
       "    }\n",
       "\n",
       "    .dataframe tbody tr th {\n",
       "        vertical-align: top;\n",
       "    }\n",
       "\n",
       "    .dataframe thead th {\n",
       "        text-align: right;\n",
       "    }\n",
       "</style>\n",
       "<table border=\"1\" class=\"dataframe\">\n",
       "  <thead>\n",
       "    <tr style=\"text-align: right;\">\n",
       "      <th></th>\n",
       "      <th>accuracy</th>\n",
       "      <th>auc_macro</th>\n",
       "      <th>auc_micro</th>\n",
       "      <th>f1_binary</th>\n",
       "      <th>f1_macro</th>\n",
       "      <th>f1_micro</th>\n",
       "      <th>r2</th>\n",
       "      <th>threshold</th>\n",
       "      <th>num_features</th>\n",
       "    </tr>\n",
       "  </thead>\n",
       "  <tbody>\n",
       "    <tr>\n",
       "      <th>0</th>\n",
       "      <td>0.927007</td>\n",
       "      <td>0.983146</td>\n",
       "      <td>0.983146</td>\n",
       "      <td>0.891304</td>\n",
       "      <td>0.918180</td>\n",
       "      <td>0.927007</td>\n",
       "      <td>0.679307</td>\n",
       "      <td>0.5</td>\n",
       "      <td>1</td>\n",
       "    </tr>\n",
       "    <tr>\n",
       "      <th>1</th>\n",
       "      <td>0.978102</td>\n",
       "      <td>0.999532</td>\n",
       "      <td>0.999532</td>\n",
       "      <td>0.969697</td>\n",
       "      <td>0.976277</td>\n",
       "      <td>0.978102</td>\n",
       "      <td>0.903792</td>\n",
       "      <td>0.5</td>\n",
       "      <td>2</td>\n",
       "    </tr>\n",
       "  </tbody>\n",
       "</table>\n",
       "</div>"
      ],
      "text/plain": [
       "   accuracy  auc_macro  auc_micro  f1_binary  f1_macro  f1_micro        r2  \\\n",
       "0  0.927007   0.983146   0.983146   0.891304  0.918180  0.927007  0.679307   \n",
       "1  0.978102   0.999532   0.999532   0.969697  0.976277  0.978102  0.903792   \n",
       "\n",
       "   threshold  num_features  \n",
       "0        0.5             1  \n",
       "1        0.5             2  "
      ]
     },
     "execution_count": 45,
     "metadata": {},
     "output_type": "execute_result"
    }
   ],
   "source": [
    "s3d.score(test_data, train_model, prediction_path)"
   ]
  },
  {
   "cell_type": "markdown",
   "metadata": {},
   "source": [
    "by default, the threshold is 0.5. we can change it"
   ]
  },
  {
   "cell_type": "code",
   "execution_count": 46,
   "metadata": {
    "ExecuteTime": {
     "end_time": "2018-07-02T19:00:28.659173Z",
     "start_time": "2018-07-02T19:00:28.583593Z"
    }
   },
   "outputs": [
    {
     "data": {
      "text/html": [
       "<div>\n",
       "<style scoped>\n",
       "    .dataframe tbody tr th:only-of-type {\n",
       "        vertical-align: middle;\n",
       "    }\n",
       "\n",
       "    .dataframe tbody tr th {\n",
       "        vertical-align: top;\n",
       "    }\n",
       "\n",
       "    .dataframe thead th {\n",
       "        text-align: right;\n",
       "    }\n",
       "</style>\n",
       "<table border=\"1\" class=\"dataframe\">\n",
       "  <thead>\n",
       "    <tr style=\"text-align: right;\">\n",
       "      <th></th>\n",
       "      <th>accuracy</th>\n",
       "      <th>auc_macro</th>\n",
       "      <th>auc_micro</th>\n",
       "      <th>f1_binary</th>\n",
       "      <th>f1_macro</th>\n",
       "      <th>f1_micro</th>\n",
       "      <th>r2</th>\n",
       "      <th>threshold</th>\n",
       "      <th>num_features</th>\n",
       "    </tr>\n",
       "  </thead>\n",
       "  <tbody>\n",
       "    <tr>\n",
       "      <th>0</th>\n",
       "      <td>0.927007</td>\n",
       "      <td>0.983146</td>\n",
       "      <td>0.983146</td>\n",
       "      <td>0.90566</td>\n",
       "      <td>0.923068</td>\n",
       "      <td>0.927007</td>\n",
       "      <td>0.679307</td>\n",
       "      <td>0.4</td>\n",
       "      <td>1</td>\n",
       "    </tr>\n",
       "    <tr>\n",
       "      <th>1</th>\n",
       "      <td>0.970803</td>\n",
       "      <td>0.999532</td>\n",
       "      <td>0.999532</td>\n",
       "      <td>0.96000</td>\n",
       "      <td>0.968506</td>\n",
       "      <td>0.970803</td>\n",
       "      <td>0.871723</td>\n",
       "      <td>0.4</td>\n",
       "      <td>2</td>\n",
       "    </tr>\n",
       "  </tbody>\n",
       "</table>\n",
       "</div>"
      ],
      "text/plain": [
       "   accuracy  auc_macro  auc_micro  f1_binary  f1_macro  f1_micro        r2  \\\n",
       "0  0.927007   0.983146   0.983146    0.90566  0.923068  0.927007  0.679307   \n",
       "1  0.970803   0.999532   0.999532    0.96000  0.968506  0.970803  0.871723   \n",
       "\n",
       "   threshold  num_features  \n",
       "0        0.4             1  \n",
       "1        0.4             2  "
      ]
     },
     "execution_count": 46,
     "metadata": {},
     "output_type": "execute_result"
    }
   ],
   "source": [
    "s3d.score(test_data, train_model, prediction_path, thres=0.4)"
   ]
  },
  {
   "cell_type": "markdown",
   "metadata": {},
   "source": [
    "given `train_data_path` and `calc_threshold`, the prediction threshold will be determined by the class distribution in training set"
   ]
  },
  {
   "cell_type": "code",
   "execution_count": 47,
   "metadata": {
    "ExecuteTime": {
     "end_time": "2018-07-02T19:00:28.729588Z",
     "start_time": "2018-07-02T19:00:28.661642Z"
    }
   },
   "outputs": [
    {
     "name": "stdout",
     "output_type": "stream",
     "text": [
      "threshold based on trianing set: 0.488889 for 1 features\n",
      "threshold based on trianing set: 0.75 for 2 features\n"
     ]
    },
    {
     "data": {
      "text/html": [
       "<div>\n",
       "<style scoped>\n",
       "    .dataframe tbody tr th:only-of-type {\n",
       "        vertical-align: middle;\n",
       "    }\n",
       "\n",
       "    .dataframe tbody tr th {\n",
       "        vertical-align: top;\n",
       "    }\n",
       "\n",
       "    .dataframe thead th {\n",
       "        text-align: right;\n",
       "    }\n",
       "</style>\n",
       "<table border=\"1\" class=\"dataframe\">\n",
       "  <thead>\n",
       "    <tr style=\"text-align: right;\">\n",
       "      <th></th>\n",
       "      <th>accuracy</th>\n",
       "      <th>auc_macro</th>\n",
       "      <th>auc_micro</th>\n",
       "      <th>f1_binary</th>\n",
       "      <th>f1_macro</th>\n",
       "      <th>f1_micro</th>\n",
       "      <th>r2</th>\n",
       "      <th>threshold</th>\n",
       "      <th>num_features</th>\n",
       "    </tr>\n",
       "  </thead>\n",
       "  <tbody>\n",
       "    <tr>\n",
       "      <th>0</th>\n",
       "      <td>0.927007</td>\n",
       "      <td>0.983146</td>\n",
       "      <td>0.983146</td>\n",
       "      <td>0.905660</td>\n",
       "      <td>0.923068</td>\n",
       "      <td>0.927007</td>\n",
       "      <td>0.679307</td>\n",
       "      <td>0.488889</td>\n",
       "      <td>1</td>\n",
       "    </tr>\n",
       "    <tr>\n",
       "      <th>1</th>\n",
       "      <td>0.992701</td>\n",
       "      <td>0.999532</td>\n",
       "      <td>0.999532</td>\n",
       "      <td>0.989691</td>\n",
       "      <td>0.992021</td>\n",
       "      <td>0.992701</td>\n",
       "      <td>0.967931</td>\n",
       "      <td>0.750000</td>\n",
       "      <td>2</td>\n",
       "    </tr>\n",
       "  </tbody>\n",
       "</table>\n",
       "</div>"
      ],
      "text/plain": [
       "   accuracy  auc_macro  auc_micro  f1_binary  f1_macro  f1_micro        r2  \\\n",
       "0  0.927007   0.983146   0.983146   0.905660  0.923068  0.927007  0.679307   \n",
       "1  0.992701   0.999532   0.999532   0.989691  0.992021  0.992701  0.967931   \n",
       "\n",
       "   threshold  num_features  \n",
       "0   0.488889             1  \n",
       "1   0.750000             2  "
      ]
     },
     "execution_count": 47,
     "metadata": {},
     "output_type": "execute_result"
    }
   ],
   "source": [
    "s3d.score(test_data, train_model, prediction_path, \n",
    "          train_data_path=train_data, calc_threshold=True)"
   ]
  },
  {
   "cell_type": "markdown",
   "metadata": {},
   "source": [
    "---"
   ]
  },
  {
   "cell_type": "markdown",
   "metadata": {},
   "source": [
    "#### test for each fold"
   ]
  },
  {
   "cell_type": "markdown",
   "metadata": {},
   "source": [
    "finally, we can find the best parameter sets for individual (outer) folds. The trained (best) model will be applied to each of the test folds."
   ]
  },
  {
   "cell_type": "markdown",
   "metadata": {},
   "source": [
    "##### best params for each fold"
   ]
  },
  {
   "cell_type": "markdown",
   "metadata": {},
   "source": [
    "we can see the best parameter sets using `utils.find_best_param()`, given different evaluation metric"
   ]
  },
  {
   "cell_type": "code",
   "execution_count": 48,
   "metadata": {
    "ExecuteTime": {
     "end_time": "2018-07-02T19:00:28.812404Z",
     "start_time": "2018-07-02T19:00:28.732146Z"
    }
   },
   "outputs": [
    {
     "data": {
      "text/html": [
       "<div>\n",
       "<style scoped>\n",
       "    .dataframe tbody tr th:only-of-type {\n",
       "        vertical-align: middle;\n",
       "    }\n",
       "\n",
       "    .dataframe tbody tr th {\n",
       "        vertical-align: top;\n",
       "    }\n",
       "\n",
       "    .dataframe thead th {\n",
       "        text-align: right;\n",
       "    }\n",
       "</style>\n",
       "<table border=\"1\" class=\"dataframe\">\n",
       "  <thead>\n",
       "    <tr style=\"text-align: right;\">\n",
       "      <th></th>\n",
       "      <th>split_version</th>\n",
       "      <th>lambda_</th>\n",
       "      <th>num_features</th>\n",
       "      <th>best_value</th>\n",
       "      <th>metric</th>\n",
       "    </tr>\n",
       "  </thead>\n",
       "  <tbody>\n",
       "    <tr>\n",
       "      <th>0</th>\n",
       "      <td>0</td>\n",
       "      <td>0.003</td>\n",
       "      <td>4</td>\n",
       "      <td>0.945081</td>\n",
       "      <td>accuracy</td>\n",
       "    </tr>\n",
       "    <tr>\n",
       "      <th>1</th>\n",
       "      <td>1</td>\n",
       "      <td>0.003</td>\n",
       "      <td>2</td>\n",
       "      <td>0.945054</td>\n",
       "      <td>accuracy</td>\n",
       "    </tr>\n",
       "    <tr>\n",
       "      <th>2</th>\n",
       "      <td>2</td>\n",
       "      <td>0.003</td>\n",
       "      <td>2</td>\n",
       "      <td>0.948717</td>\n",
       "      <td>accuracy</td>\n",
       "    </tr>\n",
       "    <tr>\n",
       "      <th>3</th>\n",
       "      <td>3</td>\n",
       "      <td>0.003</td>\n",
       "      <td>2</td>\n",
       "      <td>0.935863</td>\n",
       "      <td>accuracy</td>\n",
       "    </tr>\n",
       "    <tr>\n",
       "      <th>4</th>\n",
       "      <td>4</td>\n",
       "      <td>0.003</td>\n",
       "      <td>2</td>\n",
       "      <td>0.954380</td>\n",
       "      <td>accuracy</td>\n",
       "    </tr>\n",
       "  </tbody>\n",
       "</table>\n",
       "</div>"
      ],
      "text/plain": [
       "   split_version  lambda_  num_features  best_value    metric\n",
       "0              0    0.003             4    0.945081  accuracy\n",
       "1              1    0.003             2    0.945054  accuracy\n",
       "2              2    0.003             2    0.948717  accuracy\n",
       "3              3    0.003             2    0.935863  accuracy\n",
       "4              4    0.003             2    0.954380  accuracy"
      ]
     },
     "execution_count": 48,
     "metadata": {},
     "output_type": "execute_result"
    }
   ],
   "source": [
    "utils.find_best_param(performance_file='cv/{}/performance.csv'.format(data_name),  \n",
    "                      validation_metric='accuracy')"
   ]
  },
  {
   "cell_type": "code",
   "execution_count": 49,
   "metadata": {
    "ExecuteTime": {
     "end_time": "2018-07-02T19:00:28.875118Z",
     "start_time": "2018-07-02T19:00:28.815690Z"
    }
   },
   "outputs": [
    {
     "data": {
      "text/html": [
       "<div>\n",
       "<style scoped>\n",
       "    .dataframe tbody tr th:only-of-type {\n",
       "        vertical-align: middle;\n",
       "    }\n",
       "\n",
       "    .dataframe tbody tr th {\n",
       "        vertical-align: top;\n",
       "    }\n",
       "\n",
       "    .dataframe thead th {\n",
       "        text-align: right;\n",
       "    }\n",
       "</style>\n",
       "<table border=\"1\" class=\"dataframe\">\n",
       "  <thead>\n",
       "    <tr style=\"text-align: right;\">\n",
       "      <th></th>\n",
       "      <th>split_version</th>\n",
       "      <th>lambda_</th>\n",
       "      <th>num_features</th>\n",
       "      <th>best_value</th>\n",
       "      <th>metric</th>\n",
       "    </tr>\n",
       "  </thead>\n",
       "  <tbody>\n",
       "    <tr>\n",
       "      <th>0</th>\n",
       "      <td>0</td>\n",
       "      <td>0.0030</td>\n",
       "      <td>3</td>\n",
       "      <td>0.969664</td>\n",
       "      <td>auc_micro</td>\n",
       "    </tr>\n",
       "    <tr>\n",
       "      <th>1</th>\n",
       "      <td>1</td>\n",
       "      <td>0.0030</td>\n",
       "      <td>1</td>\n",
       "      <td>0.967763</td>\n",
       "      <td>auc_micro</td>\n",
       "    </tr>\n",
       "    <tr>\n",
       "      <th>2</th>\n",
       "      <td>2</td>\n",
       "      <td>0.0030</td>\n",
       "      <td>1</td>\n",
       "      <td>0.967646</td>\n",
       "      <td>auc_micro</td>\n",
       "    </tr>\n",
       "    <tr>\n",
       "      <th>3</th>\n",
       "      <td>3</td>\n",
       "      <td>0.0010</td>\n",
       "      <td>1</td>\n",
       "      <td>0.967278</td>\n",
       "      <td>auc_micro</td>\n",
       "    </tr>\n",
       "    <tr>\n",
       "      <th>4</th>\n",
       "      <td>4</td>\n",
       "      <td>0.0003</td>\n",
       "      <td>1</td>\n",
       "      <td>0.969818</td>\n",
       "      <td>auc_micro</td>\n",
       "    </tr>\n",
       "  </tbody>\n",
       "</table>\n",
       "</div>"
      ],
      "text/plain": [
       "   split_version  lambda_  num_features  best_value     metric\n",
       "0              0   0.0030             3    0.969664  auc_micro\n",
       "1              1   0.0030             1    0.967763  auc_micro\n",
       "2              2   0.0030             1    0.967646  auc_micro\n",
       "3              3   0.0010             1    0.967278  auc_micro\n",
       "4              4   0.0003             1    0.969818  auc_micro"
      ]
     },
     "execution_count": 49,
     "metadata": {},
     "output_type": "execute_result"
    }
   ],
   "source": [
    "utils.find_best_param(performance_file='cv/{}/performance.csv'.format(data_name),  \n",
    "                      validation_metric='auc_micro')"
   ]
  },
  {
   "cell_type": "markdown",
   "metadata": {},
   "source": [
    "##### evaluation of s3d"
   ]
  },
  {
   "cell_type": "markdown",
   "metadata": {},
   "source": [
    "instead of running evaluation for each fold seperately, we can actually evaluate s3d on the test hold with 2 api calls:\n",
    "1. use `s3d.cross_val()` or `s3d.cross_val_multicore()` to obtain performance on validation sets. this will export `cv/data_name/performance.csv` that can be used for parameter tuninig\n",
    "2. then we can run `s3d.evaluate()` to obtain ___test performance___, given a `cv_metric` that determines the \"best parameters\". if multiple cores are available, we can set `num_jobs` to speed up the whole process."
   ]
  },
  {
   "cell_type": "code",
   "execution_count": 50,
   "metadata": {
    "ExecuteTime": {
     "end_time": "2018-07-02T19:00:29.380460Z",
     "start_time": "2018-07-02T19:00:28.877323Z"
    }
   },
   "outputs": [
    {
     "name": "stdout",
     "output_type": "stream",
     "text": [
      "evaluating s3d model using 2 cores...\n",
      "threshold based on trianing set: 0.488889 for 1 features\n",
      "threshold based on trianing set: 0.488889 for 1 features\n",
      "threshold based on trianing set: 0.75 for 2 features\n",
      "threshold based on trianing set: 0.5 for 3 features\n",
      "threshold based on trianing set: 0.488889 for 1 features\n",
      "threshold based on trianing set: 0.488889 for 1 features\n",
      "threshold based on trianing set: 0.488889 for 1 features\n"
     ]
    },
    {
     "data": {
      "text/html": [
       "<div>\n",
       "<style scoped>\n",
       "    .dataframe tbody tr th:only-of-type {\n",
       "        vertical-align: middle;\n",
       "    }\n",
       "\n",
       "    .dataframe tbody tr th {\n",
       "        vertical-align: top;\n",
       "    }\n",
       "\n",
       "    .dataframe thead th {\n",
       "        text-align: right;\n",
       "    }\n",
       "</style>\n",
       "<table border=\"1\" class=\"dataframe\">\n",
       "  <thead>\n",
       "    <tr style=\"text-align: right;\">\n",
       "      <th></th>\n",
       "      <th>num_features</th>\n",
       "      <th>accuracy</th>\n",
       "      <th>auc_macro</th>\n",
       "      <th>auc_micro</th>\n",
       "      <th>f1_binary</th>\n",
       "      <th>f1_macro</th>\n",
       "      <th>f1_micro</th>\n",
       "      <th>r2</th>\n",
       "      <th>threshold</th>\n",
       "      <th>lambda_</th>\n",
       "      <th>split_version</th>\n",
       "    </tr>\n",
       "  </thead>\n",
       "  <tbody>\n",
       "    <tr>\n",
       "      <th>0</th>\n",
       "      <td>3</td>\n",
       "      <td>0.992701</td>\n",
       "      <td>0.989583</td>\n",
       "      <td>0.989583</td>\n",
       "      <td>0.989474</td>\n",
       "      <td>0.991944</td>\n",
       "      <td>0.992701</td>\n",
       "      <td>0.967931</td>\n",
       "      <td>0.500000</td>\n",
       "      <td>0.0030</td>\n",
       "      <td>0.0</td>\n",
       "    </tr>\n",
       "    <tr>\n",
       "      <th>1</th>\n",
       "      <td>1</td>\n",
       "      <td>0.927007</td>\n",
       "      <td>0.983146</td>\n",
       "      <td>0.983146</td>\n",
       "      <td>0.905660</td>\n",
       "      <td>0.923068</td>\n",
       "      <td>0.927007</td>\n",
       "      <td>0.679307</td>\n",
       "      <td>0.488889</td>\n",
       "      <td>0.0030</td>\n",
       "      <td>1.0</td>\n",
       "    </tr>\n",
       "    <tr>\n",
       "      <th>2</th>\n",
       "      <td>1</td>\n",
       "      <td>0.868613</td>\n",
       "      <td>0.976826</td>\n",
       "      <td>0.976826</td>\n",
       "      <td>0.839286</td>\n",
       "      <td>0.864087</td>\n",
       "      <td>0.868613</td>\n",
       "      <td>0.422753</td>\n",
       "      <td>0.488889</td>\n",
       "      <td>0.0030</td>\n",
       "      <td>2.0</td>\n",
       "    </tr>\n",
       "    <tr>\n",
       "      <th>3</th>\n",
       "      <td>1</td>\n",
       "      <td>0.941606</td>\n",
       "      <td>0.960323</td>\n",
       "      <td>0.960323</td>\n",
       "      <td>0.916667</td>\n",
       "      <td>0.935861</td>\n",
       "      <td>0.941606</td>\n",
       "      <td>0.743446</td>\n",
       "      <td>0.488889</td>\n",
       "      <td>0.0010</td>\n",
       "      <td>3.0</td>\n",
       "    </tr>\n",
       "    <tr>\n",
       "      <th>4</th>\n",
       "      <td>1</td>\n",
       "      <td>0.925926</td>\n",
       "      <td>0.980174</td>\n",
       "      <td>0.980174</td>\n",
       "      <td>0.900000</td>\n",
       "      <td>0.920588</td>\n",
       "      <td>0.925926</td>\n",
       "      <td>0.673598</td>\n",
       "      <td>0.488889</td>\n",
       "      <td>0.0003</td>\n",
       "      <td>4.0</td>\n",
       "    </tr>\n",
       "  </tbody>\n",
       "</table>\n",
       "</div>"
      ],
      "text/plain": [
       "   num_features  accuracy  auc_macro  auc_micro  f1_binary  f1_macro  \\\n",
       "0             3  0.992701   0.989583   0.989583   0.989474  0.991944   \n",
       "1             1  0.927007   0.983146   0.983146   0.905660  0.923068   \n",
       "2             1  0.868613   0.976826   0.976826   0.839286  0.864087   \n",
       "3             1  0.941606   0.960323   0.960323   0.916667  0.935861   \n",
       "4             1  0.925926   0.980174   0.980174   0.900000  0.920588   \n",
       "\n",
       "   f1_micro        r2  threshold  lambda_  split_version  \n",
       "0  0.992701  0.967931   0.500000   0.0030            0.0  \n",
       "1  0.927007  0.679307   0.488889   0.0030            1.0  \n",
       "2  0.868613  0.422753   0.488889   0.0030            2.0  \n",
       "3  0.941606  0.743446   0.488889   0.0010            3.0  \n",
       "4  0.925926  0.673598   0.488889   0.0003            4.0  "
      ]
     },
     "execution_count": 50,
     "metadata": {},
     "output_type": "execute_result"
    }
   ],
   "source": [
    "s3d.evaluate(num_jobs=2)"
   ]
  },
  {
   "cell_type": "code",
   "execution_count": 51,
   "metadata": {
    "ExecuteTime": {
     "end_time": "2018-07-02T19:00:29.997174Z",
     "start_time": "2018-07-02T19:00:29.384132Z"
    }
   },
   "outputs": [
    {
     "name": "stdout",
     "output_type": "stream",
     "text": [
      "evaluating s3d model using 2 cores...\n",
      "threshold based on trianing set: 0.488889 for 1 features\n",
      "threshold based on trianing set: 0.75 for 2 features\n",
      "threshold based on trianing set: 0.488889 for 1 features\n",
      "threshold based on trianing set: 0.75 for 2 features\n",
      "threshold based on trianing set: 0.5 for 3 features\n",
      "threshold based on trianing set: 0.666667 for 4 features\n",
      "threshold based on trianing set: 0.488889 for 1 features\n",
      "threshold based on trianing set: 0.75 for 2 features\n",
      "threshold based on trianing set: 0.488889 for 1 features\n",
      "threshold based on trianing set: 0.75 for 2 features\n",
      "threshold based on trianing set: 0.488889 for 1 features\n",
      "threshold based on trianing set: 0.5 for 2 features\n"
     ]
    },
    {
     "data": {
      "text/html": [
       "<div>\n",
       "<style scoped>\n",
       "    .dataframe tbody tr th:only-of-type {\n",
       "        vertical-align: middle;\n",
       "    }\n",
       "\n",
       "    .dataframe tbody tr th {\n",
       "        vertical-align: top;\n",
       "    }\n",
       "\n",
       "    .dataframe thead th {\n",
       "        text-align: right;\n",
       "    }\n",
       "</style>\n",
       "<table border=\"1\" class=\"dataframe\">\n",
       "  <thead>\n",
       "    <tr style=\"text-align: right;\">\n",
       "      <th></th>\n",
       "      <th>num_features</th>\n",
       "      <th>accuracy</th>\n",
       "      <th>auc_macro</th>\n",
       "      <th>auc_micro</th>\n",
       "      <th>f1_binary</th>\n",
       "      <th>f1_macro</th>\n",
       "      <th>f1_micro</th>\n",
       "      <th>r2</th>\n",
       "      <th>threshold</th>\n",
       "      <th>lambda_</th>\n",
       "      <th>split_version</th>\n",
       "    </tr>\n",
       "  </thead>\n",
       "  <tbody>\n",
       "    <tr>\n",
       "      <th>0</th>\n",
       "      <td>4</td>\n",
       "      <td>0.992701</td>\n",
       "      <td>0.989583</td>\n",
       "      <td>0.989583</td>\n",
       "      <td>0.989474</td>\n",
       "      <td>0.991944</td>\n",
       "      <td>0.992701</td>\n",
       "      <td>0.967931</td>\n",
       "      <td>0.666667</td>\n",
       "      <td>0.003</td>\n",
       "      <td>0.0</td>\n",
       "    </tr>\n",
       "    <tr>\n",
       "      <th>1</th>\n",
       "      <td>2</td>\n",
       "      <td>0.992701</td>\n",
       "      <td>0.999532</td>\n",
       "      <td>0.999532</td>\n",
       "      <td>0.989691</td>\n",
       "      <td>0.992021</td>\n",
       "      <td>0.992701</td>\n",
       "      <td>0.967931</td>\n",
       "      <td>0.750000</td>\n",
       "      <td>0.003</td>\n",
       "      <td>1.0</td>\n",
       "    </tr>\n",
       "    <tr>\n",
       "      <th>2</th>\n",
       "      <td>2</td>\n",
       "      <td>0.970803</td>\n",
       "      <td>0.996255</td>\n",
       "      <td>0.996255</td>\n",
       "      <td>0.958333</td>\n",
       "      <td>0.967931</td>\n",
       "      <td>0.970803</td>\n",
       "      <td>0.871723</td>\n",
       "      <td>0.750000</td>\n",
       "      <td>0.003</td>\n",
       "      <td>2.0</td>\n",
       "    </tr>\n",
       "    <tr>\n",
       "      <th>3</th>\n",
       "      <td>2</td>\n",
       "      <td>0.948905</td>\n",
       "      <td>0.987711</td>\n",
       "      <td>0.987711</td>\n",
       "      <td>0.926316</td>\n",
       "      <td>0.943605</td>\n",
       "      <td>0.948905</td>\n",
       "      <td>0.775515</td>\n",
       "      <td>0.750000</td>\n",
       "      <td>0.003</td>\n",
       "      <td>3.0</td>\n",
       "    </tr>\n",
       "    <tr>\n",
       "      <th>4</th>\n",
       "      <td>2</td>\n",
       "      <td>0.955556</td>\n",
       "      <td>0.986098</td>\n",
       "      <td>0.986098</td>\n",
       "      <td>0.938776</td>\n",
       "      <td>0.951946</td>\n",
       "      <td>0.955556</td>\n",
       "      <td>0.804159</td>\n",
       "      <td>0.500000</td>\n",
       "      <td>0.003</td>\n",
       "      <td>4.0</td>\n",
       "    </tr>\n",
       "  </tbody>\n",
       "</table>\n",
       "</div>"
      ],
      "text/plain": [
       "   num_features  accuracy  auc_macro  auc_micro  f1_binary  f1_macro  \\\n",
       "0             4  0.992701   0.989583   0.989583   0.989474  0.991944   \n",
       "1             2  0.992701   0.999532   0.999532   0.989691  0.992021   \n",
       "2             2  0.970803   0.996255   0.996255   0.958333  0.967931   \n",
       "3             2  0.948905   0.987711   0.987711   0.926316  0.943605   \n",
       "4             2  0.955556   0.986098   0.986098   0.938776  0.951946   \n",
       "\n",
       "   f1_micro        r2  threshold  lambda_  split_version  \n",
       "0  0.992701  0.967931   0.666667    0.003            0.0  \n",
       "1  0.992701  0.967931   0.750000    0.003            1.0  \n",
       "2  0.970803  0.871723   0.750000    0.003            2.0  \n",
       "3  0.948905  0.775515   0.750000    0.003            3.0  \n",
       "4  0.955556  0.804159   0.500000    0.003            4.0  "
      ]
     },
     "execution_count": 51,
     "metadata": {},
     "output_type": "execute_result"
    }
   ],
   "source": [
    "s3d.evaluate(num_jobs=2, cv_metric='accuracy')"
   ]
  },
  {
   "cell_type": "markdown",
   "metadata": {},
   "source": [
    "---"
   ]
  },
  {
   "cell_type": "markdown",
   "metadata": {},
   "source": [
    "#### regression"
   ]
  },
  {
   "cell_type": "markdown",
   "metadata": {},
   "source": [
    "finally, it is noteworthy that we can do regression. the only change we need to do is to set `classification_flag` in the constructor as `False`"
   ]
  },
  {
   "cell_type": "code",
   "execution_count": 52,
   "metadata": {
    "ExecuteTime": {
     "end_time": "2018-07-02T19:00:30.011062Z",
     "start_time": "2018-07-02T19:00:30.001157Z"
    }
   },
   "outputs": [
    {
     "name": "stdout",
     "output_type": "stream",
     "text": [
      "...s3d initializing...\n",
      "s3d with bike data, splitted into 5 folds\n",
      "data will be loaded from ../splitted_data/bike/\n",
      "built models will be saved to models/bike/\n",
      "predictions will be saved to predictions/bike/\n",
      "temporary subfolders in  ./tmp/bike\n",
      "...done initializing...\n",
      "\n"
     ]
    }
   ],
   "source": [
    "reg_s3d = PYS3D('bike', classification_flag=False)"
   ]
  },
  {
   "cell_type": "markdown",
   "metadata": {},
   "source": [
    "##### cross validation"
   ]
  },
  {
   "cell_type": "markdown",
   "metadata": {},
   "source": [
    "just as classifications, we will \n",
    "- first call `s3d.cross_val()` to get validation performance; \n",
    "- then `s3d.evaluate()` to get the performance on the test fold"
   ]
  },
  {
   "cell_type": "code",
   "execution_count": 53,
   "metadata": {
    "ExecuteTime": {
     "end_time": "2018-07-02T19:01:22.646775Z",
     "start_time": "2018-07-02T19:00:30.013825Z"
    }
   },
   "outputs": [
    {
     "name": "stdout",
     "output_type": "stream",
     "text": [
      "--- cross validation (4 cores) on bike data ---\n",
      "--- done multi-core cv; total elapsed time 52.59 seconds\n"
     ]
    }
   ],
   "source": [
    "lambda_list = [0.001, 0.003, 0.0001, 0.0003]\n",
    "num_features = 4\n",
    "reg_s3d.cross_val_multicore(lambda_list, num_features, \n",
    "                            num_cores=4,\n",
    "                            calc_threshold=False)"
   ]
  },
  {
   "cell_type": "markdown",
   "metadata": {},
   "source": [
    "note that the error values are manually set to negative for consistency of code - max values $\\rightarrow$ best parameters"
   ]
  },
  {
   "cell_type": "code",
   "execution_count": 54,
   "metadata": {
    "ExecuteTime": {
     "end_time": "2018-07-02T19:01:22.812776Z",
     "start_time": "2018-07-02T19:01:22.650934Z"
    }
   },
   "outputs": [
    {
     "data": {
      "text/html": [
       "<div>\n",
       "<style scoped>\n",
       "    .dataframe tbody tr th:only-of-type {\n",
       "        vertical-align: middle;\n",
       "    }\n",
       "\n",
       "    .dataframe tbody tr th {\n",
       "        vertical-align: top;\n",
       "    }\n",
       "\n",
       "    .dataframe thead th {\n",
       "        text-align: right;\n",
       "    }\n",
       "</style>\n",
       "<table border=\"1\" class=\"dataframe\">\n",
       "  <thead>\n",
       "    <tr style=\"text-align: right;\">\n",
       "      <th></th>\n",
       "      <th>split_version</th>\n",
       "      <th>lambda_</th>\n",
       "      <th>num_features</th>\n",
       "      <th>best_value</th>\n",
       "      <th>metric</th>\n",
       "    </tr>\n",
       "  </thead>\n",
       "  <tbody>\n",
       "    <tr>\n",
       "      <th>0</th>\n",
       "      <td>0</td>\n",
       "      <td>0.0030</td>\n",
       "      <td>4</td>\n",
       "      <td>0.839033</td>\n",
       "      <td>r2</td>\n",
       "    </tr>\n",
       "    <tr>\n",
       "      <th>1</th>\n",
       "      <td>1</td>\n",
       "      <td>0.0003</td>\n",
       "      <td>4</td>\n",
       "      <td>0.837515</td>\n",
       "      <td>r2</td>\n",
       "    </tr>\n",
       "    <tr>\n",
       "      <th>2</th>\n",
       "      <td>2</td>\n",
       "      <td>0.0030</td>\n",
       "      <td>4</td>\n",
       "      <td>0.843817</td>\n",
       "      <td>r2</td>\n",
       "    </tr>\n",
       "    <tr>\n",
       "      <th>3</th>\n",
       "      <td>3</td>\n",
       "      <td>0.0030</td>\n",
       "      <td>4</td>\n",
       "      <td>0.839848</td>\n",
       "      <td>r2</td>\n",
       "    </tr>\n",
       "    <tr>\n",
       "      <th>4</th>\n",
       "      <td>4</td>\n",
       "      <td>0.0030</td>\n",
       "      <td>4</td>\n",
       "      <td>0.850611</td>\n",
       "      <td>r2</td>\n",
       "    </tr>\n",
       "  </tbody>\n",
       "</table>\n",
       "</div>"
      ],
      "text/plain": [
       "   split_version  lambda_  num_features  best_value metric\n",
       "0              0   0.0030             4    0.839033     r2\n",
       "1              1   0.0003             4    0.837515     r2\n",
       "2              2   0.0030             4    0.843817     r2\n",
       "3              3   0.0030             4    0.839848     r2\n",
       "4              4   0.0030             4    0.850611     r2"
      ]
     },
     "execution_count": 54,
     "metadata": {},
     "output_type": "execute_result"
    }
   ],
   "source": [
    "utils.find_best_param('cv/bike/performance.csv', 'r2')"
   ]
  },
  {
   "cell_type": "code",
   "execution_count": 55,
   "metadata": {
    "ExecuteTime": {
     "end_time": "2018-07-02T19:01:26.895843Z",
     "start_time": "2018-07-02T19:01:22.818422Z"
    }
   },
   "outputs": [
    {
     "name": "stdout",
     "output_type": "stream",
     "text": [
      "evaluating s3d model using 4 cores...\n"
     ]
    },
    {
     "data": {
      "text/html": [
       "<div>\n",
       "<style scoped>\n",
       "    .dataframe tbody tr th:only-of-type {\n",
       "        vertical-align: middle;\n",
       "    }\n",
       "\n",
       "    .dataframe tbody tr th {\n",
       "        vertical-align: top;\n",
       "    }\n",
       "\n",
       "    .dataframe thead th {\n",
       "        text-align: right;\n",
       "    }\n",
       "</style>\n",
       "<table border=\"1\" class=\"dataframe\">\n",
       "  <thead>\n",
       "    <tr style=\"text-align: right;\">\n",
       "      <th></th>\n",
       "      <th>num_features</th>\n",
       "      <th>mae</th>\n",
       "      <th>mae_median</th>\n",
       "      <th>mse</th>\n",
       "      <th>r2</th>\n",
       "      <th>lambda_</th>\n",
       "      <th>split_version</th>\n",
       "    </tr>\n",
       "  </thead>\n",
       "  <tbody>\n",
       "    <tr>\n",
       "      <th>0</th>\n",
       "      <td>4</td>\n",
       "      <td>-44.533529</td>\n",
       "      <td>-27.8180</td>\n",
       "      <td>-4350.769730</td>\n",
       "      <td>0.859799</td>\n",
       "      <td>0.0030</td>\n",
       "      <td>0.0</td>\n",
       "    </tr>\n",
       "    <tr>\n",
       "      <th>1</th>\n",
       "      <td>4</td>\n",
       "      <td>-36.504276</td>\n",
       "      <td>-20.1333</td>\n",
       "      <td>-3606.165727</td>\n",
       "      <td>0.867493</td>\n",
       "      <td>0.0003</td>\n",
       "      <td>1.0</td>\n",
       "    </tr>\n",
       "    <tr>\n",
       "      <th>2</th>\n",
       "      <td>4</td>\n",
       "      <td>-48.087811</td>\n",
       "      <td>-29.4072</td>\n",
       "      <td>-5062.786120</td>\n",
       "      <td>0.888158</td>\n",
       "      <td>0.0030</td>\n",
       "      <td>2.0</td>\n",
       "    </tr>\n",
       "    <tr>\n",
       "      <th>3</th>\n",
       "      <td>4</td>\n",
       "      <td>-45.438856</td>\n",
       "      <td>-27.9630</td>\n",
       "      <td>-4488.802853</td>\n",
       "      <td>0.804949</td>\n",
       "      <td>0.0030</td>\n",
       "      <td>3.0</td>\n",
       "    </tr>\n",
       "    <tr>\n",
       "      <th>4</th>\n",
       "      <td>4</td>\n",
       "      <td>-46.214040</td>\n",
       "      <td>-29.1550</td>\n",
       "      <td>-4708.371360</td>\n",
       "      <td>0.869059</td>\n",
       "      <td>0.0030</td>\n",
       "      <td>4.0</td>\n",
       "    </tr>\n",
       "  </tbody>\n",
       "</table>\n",
       "</div>"
      ],
      "text/plain": [
       "   num_features        mae  mae_median          mse        r2  lambda_  \\\n",
       "0             4 -44.533529    -27.8180 -4350.769730  0.859799   0.0030   \n",
       "1             4 -36.504276    -20.1333 -3606.165727  0.867493   0.0003   \n",
       "2             4 -48.087811    -29.4072 -5062.786120  0.888158   0.0030   \n",
       "3             4 -45.438856    -27.9630 -4488.802853  0.804949   0.0030   \n",
       "4             4 -46.214040    -29.1550 -4708.371360  0.869059   0.0030   \n",
       "\n",
       "   split_version  \n",
       "0            0.0  \n",
       "1            1.0  \n",
       "2            2.0  \n",
       "3            3.0  \n",
       "4            4.0  "
      ]
     },
     "execution_count": 55,
     "metadata": {},
     "output_type": "execute_result"
    }
   ],
   "source": [
    "reg_s3d.evaluate(num_jobs=4)"
   ]
  },
  {
   "cell_type": "markdown",
   "metadata": {},
   "source": [
    "##### visualization"
   ]
  },
  {
   "cell_type": "markdown",
   "metadata": {},
   "source": [
    "similar visualization as previous ones"
   ]
  },
  {
   "cell_type": "code",
   "execution_count": 56,
   "metadata": {
    "ExecuteTime": {
     "end_time": "2018-07-02T19:01:26.903594Z",
     "start_time": "2018-07-02T19:01:26.899019Z"
    }
   },
   "outputs": [],
   "source": [
    "train_model = 'models/bike/0/'\n",
    "dim = 2"
   ]
  },
  {
   "cell_type": "code",
   "execution_count": 57,
   "metadata": {
    "ExecuteTime": {
     "end_time": "2018-07-02T19:01:27.597249Z",
     "start_time": "2018-07-02T19:01:26.907022Z"
    }
   },
   "outputs": [
    {
     "data": {
      "image/png": "[encoded data removed]",
      "text/plain": [
       "<matplotlib.figure.Figure at 0x116c0f208>"
      ]
     },
     "metadata": {},
     "output_type": "display_data"
    }
   ],
   "source": [
    "fig, ax = utils.visualize_s3d_steps(train_model, figsize=(10,6))"
   ]
  },
  {
   "cell_type": "code",
   "execution_count": 58,
   "metadata": {
    "ExecuteTime": {
     "end_time": "2018-07-02T19:01:27.619987Z",
     "start_time": "2018-07-02T19:01:27.608230Z"
    }
   },
   "outputs": [],
   "source": [
    "splits_at_dim, N_dim, intensity_dim, pred_dim, chosen_f_dim = utils.visualize_s3d_model_reader(train_model, dim, 0)"
   ]
  },
  {
   "cell_type": "code",
   "execution_count": 59,
   "metadata": {
    "ExecuteTime": {
     "end_time": "2018-07-02T19:01:27.949839Z",
     "start_time": "2018-07-02T19:01:27.630356Z"
    }
   },
   "outputs": [
    {
     "name": "stderr",
     "output_type": "stream",
     "text": [
      "/Users/zhiyzuo/.virtualenvs/py3/lib/python3.6/site-packages/matplotlib/axes/_base.py:3285: UserWarning: Attempting to set identical bottom==top results\n",
      "in singular transformations; automatically expanding.\n",
      "bottom=1, top=1.0\n",
      "  'bottom=%s, top=%s') % (bottom, top))\n"
     ]
    },
    {
     "data": {
      "image/png": "[encoded data removed]",
      "text/plain": [
       "<matplotlib.figure.Figure at 0x1170b34e0>"
      ]
     },
     "metadata": {},
     "output_type": "display_data"
    }
   ],
   "source": [
    "fig, ax_arr = utils.visualize_s3d_model(dim, splits_at_dim, my_cmap,\n",
    "                                        intensity_dim, '$E[y]$', chosen_f_dim, \n",
    "                                        xscale='linear', yscale='linear',\n",
    "                                       )\n",
    "#ax_arr[0,0].set_xticks([1,3,6,10])\n",
    "#ax_arr[0,0].set_yticks([1,3,6,10])\n",
    "#ax_arr[0,0].minorticks_off()"
   ]
  },
  {
   "cell_type": "code",
   "execution_count": 60,
   "metadata": {
    "ExecuteTime": {
     "end_time": "2018-07-02T19:01:28.207638Z",
     "start_time": "2018-07-02T19:01:27.953727Z"
    }
   },
   "outputs": [
    {
     "data": {
      "text/plain": [
       "<matplotlib.collections.PathCollection at 0x117256e48>"
      ]
     },
     "execution_count": 60,
     "metadata": {},
     "output_type": "execute_result"
    },
    {
     "data": {
      "image/png": "[encoded data removed]",
      "text/plain": [
       "<matplotlib.figure.Figure at 0x11723d198>"
      ]
     },
     "metadata": {},
     "output_type": "display_data"
    }
   ],
   "source": [
    "y_pred = pd.np.loadtxt('predictions/bike/3/predicted_expectations_MF_4.csv')\n",
    "y_true = pd.read_csv('../splitted_data/bike/3/test.csv')['target'].values\n",
    "\n",
    "plt.scatter(y_true, y_pred, color=pink_color)"
   ]
  },
  {
   "cell_type": "markdown",
   "metadata": {},
   "source": [
    "---"
   ]
  }
 ],
 "metadata": {
  "kernelspec": {
   "display_name": "Python 3",
   "language": "python",
   "name": "python3"
  },
  "language_info": {
   "codemirror_mode": {
    "name": "ipython",
    "version": 3
   },
   "file_extension": ".py",
   "mimetype": "text/x-python",
   "name": "python",
   "nbconvert_exporter": "python",
   "pygments_lexer": "ipython3",
   "version": "3.6.4"
  },
  "toc": {
   "nav_menu": {},
   "number_sections": true,
   "sideBar": true,
   "skip_h1_title": true,
   "toc_cell": false,
   "toc_position": {
    "height": "761px",
    "left": "0px",
    "right": "1456px",
    "top": "126px",
    "width": "224px"
   },
   "toc_section_display": true,
   "toc_window_display": true
  }
 },
 "nbformat": 4,
 "nbformat_minor": 2
}
