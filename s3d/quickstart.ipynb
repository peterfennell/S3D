{
 "cells": [
  {
   "cell_type": "markdown",
   "metadata": {},
   "source": [
    "a quickstart on using python apis for `s3d` model\n",
    "\n",
    "original c code: https://github.com/peterfennell/S3D"
   ]
  },
  {
   "cell_type": "markdown",
   "metadata": {},
   "source": [
    "---"
   ]
  },
  {
   "cell_type": "code",
   "execution_count": 1,
   "metadata": {
    "ExecuteTime": {
     "end_time": "2018-06-23T07:53:13.760955Z",
     "start_time": "2018-06-23T07:53:11.595332Z"
    }
   },
   "outputs": [],
   "source": [
    "import utils\n",
    "import pandas as pd"
   ]
  },
  {
   "cell_type": "code",
   "execution_count": 2,
   "metadata": {
    "ExecuteTime": {
     "end_time": "2018-06-23T07:53:13.769215Z",
     "start_time": "2018-06-23T07:53:13.764198Z"
    }
   },
   "outputs": [],
   "source": [
    "from pys3d import PYS3D"
   ]
  },
  {
   "cell_type": "code",
   "execution_count": 3,
   "metadata": {
    "ExecuteTime": {
     "end_time": "2018-06-23T07:53:13.786265Z",
     "start_time": "2018-06-23T07:53:13.771528Z"
    }
   },
   "outputs": [],
   "source": [
    "import matplotlib.colors as mc\n",
    "%matplotlib inline"
   ]
  },
  {
   "cell_type": "markdown",
   "metadata": {},
   "source": [
    "---"
   ]
  },
  {
   "cell_type": "markdown",
   "metadata": {},
   "source": [
    "#### clarification"
   ]
  },
  {
   "cell_type": "markdown",
   "metadata": {},
   "source": [
    "the design of the constructor is meant to be easy for hyperparameter tuning by cross validation. therefore, the methods `fit` and `predict` may be a little weird to use as standalone functions."
   ]
  },
  {
   "cell_type": "markdown",
   "metadata": {},
   "source": [
    "##### python dependencies"
   ]
  },
  {
   "cell_type": "markdown",
   "metadata": {},
   "source": [
    "- `pandas`\n",
    "- `joblib`\n",
    "- `networkx` (the latest version has the edge arrow fixed!)\n",
    "- `matplotlib`\n",
    "- `scikit-learn`\n",
    "- `seaborn`\n",
    "- `palettable`"
   ]
  },
  {
   "cell_type": "markdown",
   "metadata": {},
   "source": [
    "these can be installed by:\n",
    "```bash\n",
    "pip install -r requirements.txt\n",
    "```"
   ]
  },
  {
   "cell_type": "markdown",
   "metadata": {},
   "source": [
    "##### compiling `s3d`"
   ]
  },
  {
   "cell_type": "markdown",
   "metadata": {},
   "source": [
    "compiling is simple and straight forward, do:\n",
    "```bash\n",
    "make all\n",
    "```\n",
    "or \n",
    "```bash\n",
    "make clean && make all\n",
    "```\n",
    "to remove previous compiled files."
   ]
  },
  {
   "cell_type": "markdown",
   "metadata": {},
   "source": [
    "##### data for cross val"
   ]
  },
  {
   "cell_type": "markdown",
   "metadata": {},
   "source": [
    "for cross validation processes, datasets should be splitted first. the script `split_data.py` can be used to do so. the script can be run as the following:\n",
    "```python\n",
    "python split_data.py data_name num_folds\n",
    "```"
   ]
  },
  {
   "cell_type": "markdown",
   "metadata": {},
   "source": [
    "this will read in `data_name.csv` from `data/` folder; split data and store the train/test sets into `splitted_data/data_name/` folder. for example, if there is a dataset called `breastcancer.csv` in `data/`, we can do:\n",
    "```bash\n",
    "python split_data.py breastcancer 5\n",
    "```"
   ]
  },
  {
   "cell_type": "markdown",
   "metadata": {},
   "source": [
    "if we do `ls splitted_data/breastcancer/`, we will see:\n",
    "```bash\n",
    "0  1  2  3  4\n",
    "```\n",
    "which are fold indices named folder, each of which there will be:\n",
    "```bash\n",
    "num_rows.csv  test.csv  train.csv\n",
    "```"
   ]
  },
  {
   "cell_type": "markdown",
   "metadata": {},
   "source": [
    "`train.csv` is the training set; `test.csv` is the testing set; `num_rows.csv` store the number of rows in train/test respectively."
   ]
  },
  {
   "cell_type": "markdown",
   "metadata": {},
   "source": [
    "finally, you can parallelize the data partitioning with more cores:\n",
    "```bash\n",
    "ptyhon split_data.py data_name num_folds num_jobs\n",
    "```\n",
    "\n",
    "where `num_jobs` is 1 by default."
   ]
  },
  {
   "cell_type": "markdown",
   "metadata": {},
   "source": [
    "##### data format"
   ]
  },
  {
   "cell_type": "markdown",
   "metadata": {},
   "source": [
    "data format: in `data_name.csv`, the first column is the target column named `target`, followed by features:\n",
    "> `target,feature_1,feature_2,...,feature_p`"
   ]
  },
  {
   "cell_type": "markdown",
   "metadata": {},
   "source": [
    "##### file structure"
   ]
  },
  {
   "cell_type": "markdown",
   "metadata": {},
   "source": [
    "file directory setup: `PYS3D` class will by default create subfodlers `data_name` in:\n",
    "```bash\n",
    "tmp/ predictions/ models/ cv/\n",
    "```\n",
    "\n",
    "where:\n",
    "- `tmp` will store the \"inner cross validation\" temporary files\n",
    "- `predictions` will store the prediction results\n",
    "- `models` will store the trained models\n",
    "- `cv` will store the cross validation performance (on the validation set)\n",
    "\n",
    "therefore, the first step is to create all these 4 for your convenience. you can do:\n",
    "```bash\n",
    "./init\n",
    "```\n",
    "which will cleanup and create these folders\n",
    "\n",
    "reversely, run `./cleanup` to remove these folders"
   ]
  },
  {
   "cell_type": "markdown",
   "metadata": {},
   "source": [
    "---"
   ]
  },
  {
   "cell_type": "markdown",
   "metadata": {},
   "source": [
    "#### create `s3d` model"
   ]
  },
  {
   "cell_type": "markdown",
   "metadata": {},
   "source": [
    "suppose the dataset is stored at `../splitted_data/`, all we need for the model is the name of the dataset of interest"
   ]
  },
  {
   "cell_type": "code",
   "execution_count": 4,
   "metadata": {
    "ExecuteTime": {
     "end_time": "2018-06-23T07:53:13.795640Z",
     "start_time": "2018-06-23T07:53:13.789202Z"
    }
   },
   "outputs": [
    {
     "name": "stdout",
     "output_type": "stream",
     "text": [
      "Help on function __init__ in module pys3d:\n",
      "\n",
      "__init__(self, data_name, data_path='../splitted_data/', model_path='models/', prediction_path='predictions/')\n",
      "    initializer\n",
      "    \n",
      "    parameters\n",
      "    ----------\n",
      "    data_name : str\n",
      "        intput data name\n",
      "    data_path : str\n",
      "        input data base path\n",
      "    model_path : str\n",
      "        base path for output of built models\n",
      "    prediction_path : str\n",
      "        base path for predicted expectations\n",
      "    \n",
      "    for each path, we assume that there are sub folders for each test fold\n",
      "\n"
     ]
    }
   ],
   "source": [
    "help(PYS3D.__init__)"
   ]
  },
  {
   "cell_type": "code",
   "execution_count": 5,
   "metadata": {
    "ExecuteTime": {
     "end_time": "2018-06-23T07:53:13.804080Z",
     "start_time": "2018-06-23T07:53:13.798636Z"
    }
   },
   "outputs": [],
   "source": [
    "data_name = 'breastcancer'\n",
    "fold_index = 1"
   ]
  },
  {
   "cell_type": "code",
   "execution_count": 6,
   "metadata": {
    "ExecuteTime": {
     "end_time": "2018-06-23T07:53:13.892825Z",
     "start_time": "2018-06-23T07:53:13.806698Z"
    }
   },
   "outputs": [
    {
     "name": "stdout",
     "output_type": "stream",
     "text": [
      "tmp not exist, create\n",
      "models not exist, create\n",
      "predictions not exist, create\n",
      "cv not exist, create\n"
     ]
    }
   ],
   "source": [
    "%%bash\n",
    "./cleanup\n",
    "./init"
   ]
  },
  {
   "cell_type": "code",
   "execution_count": 7,
   "metadata": {
    "ExecuteTime": {
     "end_time": "2018-06-23T07:53:13.905796Z",
     "start_time": "2018-06-23T07:53:13.896900Z"
    }
   },
   "outputs": [
    {
     "name": "stdout",
     "output_type": "stream",
     "text": [
      "...s3d initializing...\n",
      "s3d with breastcancer data, splitted into 5 folds\n",
      "data will be loaded from ../splitted_data/breastcancer/\n",
      "built models will be saved to models/breastcancer/\n",
      "predictions will be saved to predictions/breastcancer/\n",
      "temporary subfolders in  ./tmp/breastcancer\n",
      "...done initializing...\n",
      "\n"
     ]
    }
   ],
   "source": [
    "s3d = PYS3D(data_name)"
   ]
  },
  {
   "cell_type": "markdown",
   "metadata": {},
   "source": [
    "section 3 and 4 describes the typical training/testing process for one of the folds\n",
    "\n",
    "section 5 starts to "
   ]
  },
  {
   "cell_type": "markdown",
   "metadata": {},
   "source": [
    "---"
   ]
  },
  {
   "cell_type": "markdown",
   "metadata": {},
   "source": [
    "#### train"
   ]
  },
  {
   "cell_type": "markdown",
   "metadata": {},
   "source": [
    "there are two required input arg:\n",
    "- `train_data_path`: the path to the dataset. assume that the target is in the first column \n",
    "- `train_model_path`: the path to save the model"
   ]
  },
  {
   "cell_type": "code",
   "execution_count": 8,
   "metadata": {
    "ExecuteTime": {
     "end_time": "2018-06-23T07:53:13.914441Z",
     "start_time": "2018-06-23T07:53:13.909215Z"
    }
   },
   "outputs": [],
   "source": [
    "train_data = '../splitted_data/{}/{}/train.csv'.format(data_name, fold_index)\n",
    "train_model = 'test-folder/'"
   ]
  },
  {
   "cell_type": "code",
   "execution_count": 9,
   "metadata": {
    "ExecuteTime": {
     "end_time": "2018-06-23T07:53:13.992116Z",
     "start_time": "2018-06-23T07:53:13.917253Z"
    }
   },
   "outputs": [],
   "source": [
    "s3d.fit(train_data, train_model, lambda_=0.001, max_features=5)"
   ]
  },
  {
   "cell_type": "markdown",
   "metadata": {},
   "source": [
    "the outputs will be saved to `test-folder/` in our case"
   ]
  },
  {
   "cell_type": "markdown",
   "metadata": {},
   "source": [
    "---"
   ]
  },
  {
   "cell_type": "markdown",
   "metadata": {},
   "source": [
    "#### visualize the trained model"
   ]
  },
  {
   "cell_type": "markdown",
   "metadata": {},
   "source": [
    "##### steps"
   ]
  },
  {
   "cell_type": "markdown",
   "metadata": {},
   "source": [
    "we can visualize chosen features at each step and the unique contribution of $r^2$"
   ]
  },
  {
   "cell_type": "code",
   "execution_count": 10,
   "metadata": {
    "ExecuteTime": {
     "end_time": "2018-06-23T07:53:14.899167Z",
     "start_time": "2018-06-23T07:53:13.996223Z"
    }
   },
   "outputs": [
    {
     "data": {
      "image/png": "[encoded data removed]",
      "text/plain": [
       "<matplotlib.figure.Figure at 0x10eb0bdd8>"
      ]
     },
     "metadata": {},
     "output_type": "display_data"
    }
   ],
   "source": [
    "fig, ax = utils.visualize_s3d_steps(train_model, figsize=(10,6))"
   ]
  },
  {
   "cell_type": "markdown",
   "metadata": {},
   "source": [
    "##### feature binning"
   ]
  },
  {
   "cell_type": "markdown",
   "metadata": {},
   "source": [
    "sometimes customization needed to improve the overall quality"
   ]
  },
  {
   "cell_type": "code",
   "execution_count": 11,
   "metadata": {
    "ExecuteTime": {
     "end_time": "2018-06-23T07:53:14.907150Z",
     "start_time": "2018-06-23T07:53:14.901897Z"
    }
   },
   "outputs": [],
   "source": [
    "pink_color = '#FBB4AE'\n",
    "my_cmap = mc.LinearSegmentedColormap.from_list('custom_pink', ['#ffffff', pink_color], N=256)"
   ]
  },
  {
   "cell_type": "code",
   "execution_count": 12,
   "metadata": {
    "ExecuteTime": {
     "end_time": "2018-06-23T07:53:16.765356Z",
     "start_time": "2018-06-23T07:53:14.910200Z"
    }
   },
   "outputs": [
    {
     "data": {
      "image/png": "[encoded data removed]",
      "text/plain": [
       "<matplotlib.figure.Figure at 0x10f1441d0>"
      ]
     },
     "metadata": {},
     "output_type": "display_data"
    }
   ],
   "source": [
    "g = utils.visualize_s3d(model_folder=train_model, dim=3,\n",
    "                        intensity_cmap=my_cmap, vmin=0,\n",
    "                        xscale='linear', yscale='linear',\n",
    "                        pred_cmap=utils.ListedColormap(['white', pink_color]),\n",
    "                        xlab_y=-0.06, xlab_x=0.45, unit_h=4)\n",
    "\n",
    "for i, ax in enumerate(g.axes):\n",
    "    if (i+1)%(len(g.axes)//2) != 0:\n",
    "        ax.set_xticks([1,3,6,10])\n",
    "        ax.set_yticks([1,3,6,10])\n",
    "        ax.minorticks_off()"
   ]
  },
  {
   "cell_type": "markdown",
   "metadata": {},
   "source": [
    "##### feature network"
   ]
  },
  {
   "cell_type": "markdown",
   "metadata": {},
   "source": [
    "we can also visualize the redundancy between features:\n",
    "- node: features\n",
    "- edge\n",
    "    - direction: from thee unselected feature ($X_j$) to the selected one ($X_l$)\n",
    "    - width: \"variation redundancies\" of $X_j$ made by selecting $X_l$:\n",
    "        $$a_{X_j,X_l^S}=\\Delta R^2(P_{X_j}|\\mathcal{P}^{S(l-1)}) - \\Delta R^2(P_{X_j}|\\mathcal{P}^{S(l-1)}\\times P_{X_l^S})$$\n",
    "- color: distinguish selected/unselected (and maybe isolated those w/o much contribution to the target)"
   ]
  },
  {
   "cell_type": "code",
   "execution_count": 13,
   "metadata": {
    "ExecuteTime": {
     "end_time": "2018-06-23T07:53:17.395346Z",
     "start_time": "2018-06-23T07:53:16.772932Z"
    }
   },
   "outputs": [
    {
     "data": {
      "image/png": "[encoded data removed]",
      "text/plain": [
       "<matplotlib.figure.Figure at 0x11040f7f0>"
      ]
     },
     "metadata": {},
     "output_type": "display_data"
    }
   ],
   "source": [
    "net, (fig, ax) = utils.visualize_feature_network(model_folder=train_model, w_scale=5)"
   ]
  },
  {
   "cell_type": "markdown",
   "metadata": {},
   "source": [
    "---"
   ]
  },
  {
   "cell_type": "markdown",
   "metadata": {},
   "source": [
    "#### hyperparameter tuning"
   ]
  },
  {
   "cell_type": "markdown",
   "metadata": {},
   "source": [
    "it is convenient to tune the hyperparameters: \n",
    "- $\\lambda$: regularization strength\n",
    "- number of features: number of features to use (we like parsimonious models!)"
   ]
  },
  {
   "cell_type": "markdown",
   "metadata": {},
   "source": [
    "the function to call is `pys3d.cross_val`:"
   ]
  },
  {
   "cell_type": "code",
   "execution_count": 14,
   "metadata": {
    "ExecuteTime": {
     "end_time": "2018-06-23T07:53:17.406655Z",
     "start_time": "2018-06-23T07:53:17.397565Z"
    }
   },
   "outputs": [
    {
     "name": "stdout",
     "output_type": "stream",
     "text": [
      "Help on method cross_val in module pys3d:\n",
      "\n",
      "cross_val(lambda_list, max_features, thres=0.5, calc_threshold=True) method of pys3d.PYS3D instance\n",
      "    grid search for hyperparameters for each fold\n",
      "\n"
     ]
    }
   ],
   "source": [
    "help(s3d.cross_val)"
   ]
  },
  {
   "cell_type": "markdown",
   "metadata": {},
   "source": [
    "the required input are $\\lambda$'s and numbers of features\n",
    "\n",
    "from the above figure, we see the 5th feature really contributes very little, so let's set the maximum features to be 4"
   ]
  },
  {
   "cell_type": "code",
   "execution_count": 15,
   "metadata": {
    "ExecuteTime": {
     "end_time": "2018-06-23T07:53:17.421683Z",
     "start_time": "2018-06-23T07:53:17.410072Z"
    }
   },
   "outputs": [
    {
     "data": {
      "text/plain": [
       "'breastcancer'"
      ]
     },
     "execution_count": 15,
     "metadata": {},
     "output_type": "execute_result"
    }
   ],
   "source": [
    "lambda_list = [0.001, 0.003, 0.0001, 0.0003]\n",
    "num_features = 4\n",
    "data_name"
   ]
  },
  {
   "cell_type": "code",
   "execution_count": 16,
   "metadata": {
    "ExecuteTime": {
     "end_time": "2018-06-23T07:53:17.431339Z",
     "start_time": "2018-06-23T07:53:17.425075Z"
    }
   },
   "outputs": [
    {
     "name": "stdout",
     "output_type": "stream",
     "text": [
      "...s3d initializing...\n",
      "s3d with breastcancer data, splitted into 5 folds\n",
      "data will be loaded from ../splitted_data/breastcancer/\n",
      "built models will be saved to models/breastcancer/\n",
      "predictions will be saved to predictions/breastcancer/\n",
      "temporary subfolders in  ./tmp/breastcancer\n",
      "...done initializing...\n",
      "\n"
     ]
    }
   ],
   "source": [
    "s3d = PYS3D(data_name)"
   ]
  },
  {
   "cell_type": "code",
   "execution_count": 17,
   "metadata": {
    "ExecuteTime": {
     "end_time": "2018-06-23T07:53:28.487373Z",
     "start_time": "2018-06-23T07:53:17.447412Z"
    }
   },
   "outputs": [
    {
     "name": "stdout",
     "output_type": "stream",
     "text": [
      "--- cross validation on breastcancer data ---\n",
      "starting on fold 0\n"
     ]
    },
    {
     "name": "stderr",
     "output_type": "stream",
     "text": [
      "/Users/zhiyzuo/.virtualenvs/py3/lib/python3.6/site-packages/sklearn/metrics/classification.py:1135: UndefinedMetricWarning: F-score is ill-defined and being set to 0.0 in labels with no predicted samples.\n",
      "  'precision', 'predicted', average, warn_for)\n"
     ]
    },
    {
     "name": "stdout",
     "output_type": "stream",
     "text": [
      "finish after 2.15 seconds\n",
      "starting on fold 1\n",
      "finish after 2.11 seconds\n",
      "starting on fold 2\n",
      "finish after 2.45 seconds\n",
      "starting on fold 3\n",
      "finish after 2.10 seconds\n",
      "starting on fold 4\n",
      "finish after 2.19 seconds\n",
      "--- done cv; total elapsed time 11.02 seconds\n"
     ]
    }
   ],
   "source": [
    "s3d.cross_val(lambda_list, num_features, calc_threshold=True)"
   ]
  },
  {
   "cell_type": "markdown",
   "metadata": {},
   "source": [
    "the resulting file will be at `cv/data_name/performance.csv`"
   ]
  },
  {
   "cell_type": "code",
   "execution_count": 18,
   "metadata": {
    "ExecuteTime": {
     "end_time": "2018-06-23T07:53:28.536308Z",
     "start_time": "2018-06-23T07:53:28.490469Z"
    }
   },
   "outputs": [
    {
     "data": {
      "text/html": [
       "<div>\n",
       "<style scoped>\n",
       "    .dataframe tbody tr th:only-of-type {\n",
       "        vertical-align: middle;\n",
       "    }\n",
       "\n",
       "    .dataframe tbody tr th {\n",
       "        vertical-align: top;\n",
       "    }\n",
       "\n",
       "    .dataframe thead th {\n",
       "        text-align: right;\n",
       "    }\n",
       "</style>\n",
       "<table border=\"1\" class=\"dataframe\">\n",
       "  <thead>\n",
       "    <tr style=\"text-align: right;\">\n",
       "      <th></th>\n",
       "      <th>accuracy</th>\n",
       "      <th>auc_macro</th>\n",
       "      <th>auc_micro</th>\n",
       "      <th>f1_binary</th>\n",
       "      <th>f1_macro</th>\n",
       "      <th>f1_micro</th>\n",
       "      <th>r2</th>\n",
       "      <th>num_features</th>\n",
       "      <th>threshold</th>\n",
       "      <th>test_fold_i</th>\n",
       "      <th>train_r2</th>\n",
       "      <th>lambda_</th>\n",
       "      <th>max_features</th>\n",
       "      <th>split_version</th>\n",
       "    </tr>\n",
       "  </thead>\n",
       "  <tbody>\n",
       "    <tr>\n",
       "      <th>0</th>\n",
       "      <td>0.948529</td>\n",
       "      <td>0.982812</td>\n",
       "      <td>0.982812</td>\n",
       "      <td>0.940171</td>\n",
       "      <td>0.947505</td>\n",
       "      <td>0.948529</td>\n",
       "      <td>0.787500</td>\n",
       "      <td>1</td>\n",
       "      <td>0.382353</td>\n",
       "      <td>0</td>\n",
       "      <td>0.755441</td>\n",
       "      <td>0.001</td>\n",
       "      <td>4</td>\n",
       "      <td>0</td>\n",
       "    </tr>\n",
       "    <tr>\n",
       "      <th>1</th>\n",
       "      <td>0.963235</td>\n",
       "      <td>0.966853</td>\n",
       "      <td>0.966853</td>\n",
       "      <td>0.956522</td>\n",
       "      <td>0.962337</td>\n",
       "      <td>0.963235</td>\n",
       "      <td>0.848214</td>\n",
       "      <td>2</td>\n",
       "      <td>0.571429</td>\n",
       "      <td>0</td>\n",
       "      <td>0.889637</td>\n",
       "      <td>0.001</td>\n",
       "      <td>4</td>\n",
       "      <td>0</td>\n",
       "    </tr>\n",
       "  </tbody>\n",
       "</table>\n",
       "</div>"
      ],
      "text/plain": [
       "   accuracy  auc_macro  auc_micro  f1_binary  f1_macro  f1_micro        r2  \\\n",
       "0  0.948529   0.982812   0.982812   0.940171  0.947505  0.948529  0.787500   \n",
       "1  0.963235   0.966853   0.966853   0.956522  0.962337  0.963235  0.848214   \n",
       "\n",
       "   num_features  threshold  test_fold_i  train_r2  lambda_  max_features  \\\n",
       "0             1   0.382353            0  0.755441    0.001             4   \n",
       "1             2   0.571429            0  0.889637    0.001             4   \n",
       "\n",
       "   split_version  \n",
       "0              0  \n",
       "1              0  "
      ]
     },
     "execution_count": 18,
     "metadata": {},
     "output_type": "execute_result"
    }
   ],
   "source": [
    "cv_df = pd.read_csv('cv/{}/performance.csv'.format(data_name))\n",
    "cv_df.head(2)"
   ]
  },
  {
   "cell_type": "markdown",
   "metadata": {},
   "source": [
    "we can further visualize the train/validation performance, which also returns:\n",
    "- the best number of features and $\\lambda$\n",
    "- as well as the value of the given metric (by default it uses [`auc micro`](http://scikit-learn.org/stable/modules/generated/sklearn.metrics.roc_auc_score.html#sklearn.metrics.roc_auc_score))"
   ]
  },
  {
   "cell_type": "markdown",
   "metadata": {
    "ExecuteTime": {
     "end_time": "2018-06-22T23:51:49.065670Z",
     "start_time": "2018-06-22T23:51:49.059465Z"
    }
   },
   "source": [
    "__note that we need to specify which split to be analyzed - different splits may have slightly different hyperparams__"
   ]
  },
  {
   "cell_type": "code",
   "execution_count": 19,
   "metadata": {
    "ExecuteTime": {
     "end_time": "2018-06-23T07:53:29.155923Z",
     "start_time": "2018-06-23T07:53:28.539075Z"
    }
   },
   "outputs": [
    {
     "data": {
      "image/png": "[encoded data removed]",
      "text/plain": [
       "<matplotlib.figure.Figure at 0x110949588>"
      ]
     },
     "metadata": {},
     "output_type": "display_data"
    }
   ],
   "source": [
    "fp, best_n_f, best_val, best_lambda_, split_version = utils.visualize_cv('cv/{}/performance.csv'.format(data_name), \n",
    "                                                                         split_version=0)"
   ]
  },
  {
   "cell_type": "code",
   "execution_count": 20,
   "metadata": {
    "ExecuteTime": {
     "end_time": "2018-06-23T07:53:29.164951Z",
     "start_time": "2018-06-23T07:53:29.158723Z"
    }
   },
   "outputs": [
    {
     "name": "stdout",
     "output_type": "stream",
     "text": [
      "for split version 0...\n",
      "best number of features: 3.0\n",
      "best lambda: 0.003\n"
     ]
    }
   ],
   "source": [
    "print('for split version {}...\\nbest number of features: {}\\nbest lambda: {}'.format(split_version, best_n_f, best_lambda_))"
   ]
  },
  {
   "cell_type": "markdown",
   "metadata": {},
   "source": [
    "change the metric to accuracy; check out a different fold"
   ]
  },
  {
   "cell_type": "code",
   "execution_count": 21,
   "metadata": {
    "ExecuteTime": {
     "end_time": "2018-06-23T07:53:29.718309Z",
     "start_time": "2018-06-23T07:53:29.168486Z"
    }
   },
   "outputs": [
    {
     "data": {
      "image/png": "[encoded data removed]",
      "text/plain": [
       "<matplotlib.figure.Figure at 0x110960a58>"
      ]
     },
     "metadata": {},
     "output_type": "display_data"
    }
   ],
   "source": [
    "fp, best_n_f, best_val, best_lambda_, split_version = utils.visualize_cv('cv/{}/performance.csv'.format(data_name), \n",
    "                                                                         validation_metric='accuracy',\n",
    "                                                                         split_version=0,\n",
    "                                                                        )"
   ]
  },
  {
   "cell_type": "code",
   "execution_count": 22,
   "metadata": {
    "ExecuteTime": {
     "end_time": "2018-06-23T07:53:29.726189Z",
     "start_time": "2018-06-23T07:53:29.720977Z"
    }
   },
   "outputs": [
    {
     "name": "stdout",
     "output_type": "stream",
     "text": [
      "for split version 0...\n",
      "best number of features: 4.0\n",
      "best lambda: 0.003\n"
     ]
    }
   ],
   "source": [
    "print('for split version {}...\\nbest number of features: {}\\nbest lambda: {}'.format(split_version, best_n_f, best_lambda_))"
   ]
  },
  {
   "cell_type": "markdown",
   "metadata": {},
   "source": [
    "---"
   ]
  },
  {
   "cell_type": "markdown",
   "metadata": {},
   "source": [
    "#### multi core hyperparam tuning"
   ]
  },
  {
   "cell_type": "markdown",
   "metadata": {},
   "source": [
    "if more computing resources are available, we can parallelize different folds"
   ]
  },
  {
   "cell_type": "code",
   "execution_count": 23,
   "metadata": {
    "ExecuteTime": {
     "end_time": "2018-06-23T07:53:35.083299Z",
     "start_time": "2018-06-23T07:53:29.729268Z"
    }
   },
   "outputs": [
    {
     "name": "stdout",
     "output_type": "stream",
     "text": [
      "--- cross validation (5 cores) on breastcancer data ---\n"
     ]
    },
    {
     "name": "stderr",
     "output_type": "stream",
     "text": [
      "/Users/zhiyzuo/.virtualenvs/py3/lib/python3.6/site-packages/sklearn/metrics/classification.py:1135: UndefinedMetricWarning: F-score is ill-defined and being set to 0.0 in labels with no predicted samples.\n",
      "  'precision', 'predicted', average, warn_for)\n",
      "/Users/zhiyzuo/.virtualenvs/py3/lib/python3.6/site-packages/sklearn/metrics/classification.py:1135: UndefinedMetricWarning: F-score is ill-defined and being set to 0.0 in labels with no predicted samples.\n",
      "  'precision', 'predicted', average, warn_for)\n",
      "/Users/zhiyzuo/.virtualenvs/py3/lib/python3.6/site-packages/sklearn/metrics/classification.py:1135: UndefinedMetricWarning: F-score is ill-defined and being set to 0.0 in labels with no predicted samples.\n",
      "  'precision', 'predicted', average, warn_for)\n",
      "/Users/zhiyzuo/.virtualenvs/py3/lib/python3.6/site-packages/sklearn/metrics/classification.py:1135: UndefinedMetricWarning: F-score is ill-defined and being set to 0.0 in labels with no predicted samples.\n",
      "  'precision', 'predicted', average, warn_for)\n",
      "/Users/zhiyzuo/.virtualenvs/py3/lib/python3.6/site-packages/sklearn/metrics/classification.py:1135: UndefinedMetricWarning: F-score is ill-defined and being set to 0.0 in labels with no predicted samples.\n",
      "  'precision', 'predicted', average, warn_for)\n"
     ]
    },
    {
     "name": "stdout",
     "output_type": "stream",
     "text": [
      "--- done multi-core cv; total elapsed time 5.32 seconds\n"
     ]
    }
   ],
   "source": [
    "s3d.cross_val_multicore(lambda_list, num_features, calc_threshold=True, num_cores=5)"
   ]
  },
  {
   "cell_type": "markdown",
   "metadata": {},
   "source": [
    "checkout the cross val for `fold_index`"
   ]
  },
  {
   "cell_type": "code",
   "execution_count": 24,
   "metadata": {
    "ExecuteTime": {
     "end_time": "2018-06-23T07:53:35.094595Z",
     "start_time": "2018-06-23T07:53:35.086768Z"
    }
   },
   "outputs": [
    {
     "data": {
      "text/plain": [
       "1"
      ]
     },
     "execution_count": 24,
     "metadata": {},
     "output_type": "execute_result"
    }
   ],
   "source": [
    "fold_index"
   ]
  },
  {
   "cell_type": "code",
   "execution_count": 25,
   "metadata": {
    "ExecuteTime": {
     "end_time": "2018-06-23T07:53:35.924522Z",
     "start_time": "2018-06-23T07:53:35.097249Z"
    }
   },
   "outputs": [
    {
     "data": {
      "image/png": "[encoded data removed]",
      "text/plain": [
       "<matplotlib.figure.Figure at 0x111601dd8>"
      ]
     },
     "metadata": {},
     "output_type": "display_data"
    }
   ],
   "source": [
    "fp, best_n_f, best_val, best_lambda_, split_version = utils.visualize_cv('cv/{}/performance.csv'.format(data_name), \n",
    "                                                                         split_version=fold_index,\n",
    "                                                                         validation_metric='accuracy')"
   ]
  },
  {
   "cell_type": "code",
   "execution_count": 26,
   "metadata": {
    "ExecuteTime": {
     "end_time": "2018-06-23T07:53:35.932502Z",
     "start_time": "2018-06-23T07:53:35.927042Z"
    }
   },
   "outputs": [
    {
     "name": "stdout",
     "output_type": "stream",
     "text": [
      "for split version 1...\n",
      "best number of features: 2.0\n",
      "best lambda: 0.003\n"
     ]
    }
   ],
   "source": [
    "print('for split version {}...\\nbest number of features: {}\\nbest lambda: {}'.format(split_version, best_n_f, best_lambda_))"
   ]
  },
  {
   "cell_type": "markdown",
   "metadata": {},
   "source": [
    "---"
   ]
  },
  {
   "cell_type": "markdown",
   "metadata": {},
   "source": [
    "#### predict"
   ]
  },
  {
   "cell_type": "markdown",
   "metadata": {},
   "source": [
    "we can then use the trained model to predict for the held-out set; let's pick\n",
    "- $\\lambda=0.03$\n",
    "- $num\\_features=2$"
   ]
  },
  {
   "cell_type": "markdown",
   "metadata": {},
   "source": [
    "train the model again with \"the best hyperparameters\""
   ]
  },
  {
   "cell_type": "code",
   "execution_count": 27,
   "metadata": {
    "ExecuteTime": {
     "end_time": "2018-06-23T07:53:35.979542Z",
     "start_time": "2018-06-23T07:53:35.935421Z"
    }
   },
   "outputs": [
    {
     "name": "stdout",
     "output_type": "stream",
     "text": [
      "...s3d initializing...\n",
      "s3d with breastcancer data, splitted into 5 folds\n",
      "data will be loaded from ../splitted_data/breastcancer/\n",
      "built models will be saved to models/breastcancer/\n",
      "predictions will be saved to predictions/breastcancer/\n",
      "temporary subfolders in  ./tmp/breastcancer\n",
      "...done initializing...\n",
      "\n"
     ]
    }
   ],
   "source": [
    "s3d = PYS3D(data_name)\n",
    "s3d.fit(train_data, train_model, lambda_=best_lambda_, max_features=best_n_f)"
   ]
  },
  {
   "cell_type": "markdown",
   "metadata": {},
   "source": [
    "check out the feature binning"
   ]
  },
  {
   "cell_type": "code",
   "execution_count": 28,
   "metadata": {
    "ExecuteTime": {
     "end_time": "2018-06-23T07:53:35.993164Z",
     "start_time": "2018-06-23T07:53:35.983022Z"
    }
   },
   "outputs": [
    {
     "data": {
      "text/plain": [
       "0.75"
      ]
     },
     "execution_count": 28,
     "metadata": {},
     "output_type": "execute_result"
    }
   ],
   "source": [
    "thres = s3d.calculate_disc_threshold(train_model, best_n_f)\n",
    "thres"
   ]
  },
  {
   "cell_type": "code",
   "execution_count": 29,
   "metadata": {
    "ExecuteTime": {
     "end_time": "2018-06-23T07:53:36.387740Z",
     "start_time": "2018-06-23T07:53:35.995841Z"
    }
   },
   "outputs": [
    {
     "data": {
      "image/png": "[encoded data removed]",
      "text/plain": [
       "<matplotlib.figure.Figure at 0x10f123d30>"
      ]
     },
     "metadata": {},
     "output_type": "display_data"
    }
   ],
   "source": [
    "g = utils.visualize_s3d(model_folder=train_model, dim=2,\n",
    "                        intensity_cmap=my_cmap, vmin=0,\n",
    "                        pred_cmap=utils.ListedColormap(['white', pink_color]),\n",
    "                        xscale='linear', yscale='linear', thres=thres,\n",
    "                       )\n",
    "for i, ax in enumerate(g.axes):\n",
    "    if (i+1)%(len(g.axes)//2)!=0:\n",
    "        ax.set_xticks([1, 10])\n",
    "        ax.set_yticks([1, 10])"
   ]
  },
  {
   "cell_type": "markdown",
   "metadata": {},
   "source": [
    "prediction"
   ]
  },
  {
   "cell_type": "code",
   "execution_count": 30,
   "metadata": {
    "ExecuteTime": {
     "end_time": "2018-06-23T07:53:36.456596Z",
     "start_time": "2018-06-23T07:53:36.390217Z"
    }
   },
   "outputs": [],
   "source": [
    "test_data = '../splitted_data/{}/{}/test.csv'.format(data_name, fold_index)\n",
    "prediction_path = 'test-folder/'\n",
    "s3d.predict(test_data, train_model, prediction_path)"
   ]
  },
  {
   "cell_type": "markdown",
   "metadata": {
    "ExecuteTime": {
     "end_time": "2018-06-22T00:23:12.271489Z",
     "start_time": "2018-06-22T00:23:12.261727Z"
    }
   },
   "source": [
    "note that this will be done when the number of features used for prediction vary from 1 to `k`, which is the largest number of features found by the training process"
   ]
  },
  {
   "cell_type": "code",
   "execution_count": 31,
   "metadata": {
    "ExecuteTime": {
     "end_time": "2018-06-23T07:53:36.602447Z",
     "start_time": "2018-06-23T07:53:36.460683Z"
    }
   },
   "outputs": [
    {
     "name": "stdout",
     "output_type": "stream",
     "text": [
      "N_tree.csv                       predict_MF_2.log\r\n",
      "R2improvements.csv               predicted_expectations_MF_1.csv\r\n",
      "fit.log                          predicted_expectations_MF_2.csv\r\n",
      "levels.csv                       splits.csv\r\n",
      "predict_MF_1.log                 ybar_tree.csv\r\n"
     ]
    }
   ],
   "source": [
    "ls test-folder/"
   ]
  },
  {
   "cell_type": "markdown",
   "metadata": {},
   "source": [
    "---"
   ]
  },
  {
   "cell_type": "markdown",
   "metadata": {},
   "source": [
    "#### score"
   ]
  },
  {
   "cell_type": "markdown",
   "metadata": {},
   "source": [
    "or we can directly obtain the performance scores by `score` function"
   ]
  },
  {
   "cell_type": "code",
   "execution_count": 32,
   "metadata": {
    "ExecuteTime": {
     "end_time": "2018-06-23T07:53:36.620135Z",
     "start_time": "2018-06-23T07:53:36.607000Z"
    }
   },
   "outputs": [
    {
     "data": {
      "text/plain": [
       "'../splitted_data/breastcancer/1/train.csv'"
      ]
     },
     "execution_count": 32,
     "metadata": {},
     "output_type": "execute_result"
    }
   ],
   "source": [
    "train_data"
   ]
  },
  {
   "cell_type": "code",
   "execution_count": 33,
   "metadata": {
    "ExecuteTime": {
     "end_time": "2018-06-23T07:53:36.633134Z",
     "start_time": "2018-06-23T07:53:36.624773Z"
    }
   },
   "outputs": [
    {
     "data": {
      "text/plain": [
       "'../splitted_data/breastcancer/1/test.csv'"
      ]
     },
     "execution_count": 33,
     "metadata": {},
     "output_type": "execute_result"
    }
   ],
   "source": [
    "test_data"
   ]
  },
  {
   "cell_type": "code",
   "execution_count": 34,
   "metadata": {
    "ExecuteTime": {
     "end_time": "2018-06-23T07:53:36.747136Z",
     "start_time": "2018-06-23T07:53:36.636301Z"
    }
   },
   "outputs": [
    {
     "data": {
      "text/html": [
       "<div>\n",
       "<style scoped>\n",
       "    .dataframe tbody tr th:only-of-type {\n",
       "        vertical-align: middle;\n",
       "    }\n",
       "\n",
       "    .dataframe tbody tr th {\n",
       "        vertical-align: top;\n",
       "    }\n",
       "\n",
       "    .dataframe thead th {\n",
       "        text-align: right;\n",
       "    }\n",
       "</style>\n",
       "<table border=\"1\" class=\"dataframe\">\n",
       "  <thead>\n",
       "    <tr style=\"text-align: right;\">\n",
       "      <th></th>\n",
       "      <th>accuracy</th>\n",
       "      <th>auc_macro</th>\n",
       "      <th>auc_micro</th>\n",
       "      <th>f1_binary</th>\n",
       "      <th>f1_macro</th>\n",
       "      <th>f1_micro</th>\n",
       "      <th>r2</th>\n",
       "      <th>num_features</th>\n",
       "      <th>threshold</th>\n",
       "    </tr>\n",
       "  </thead>\n",
       "  <tbody>\n",
       "    <tr>\n",
       "      <th>0</th>\n",
       "      <td>0.927007</td>\n",
       "      <td>0.983146</td>\n",
       "      <td>0.983146</td>\n",
       "      <td>0.891304</td>\n",
       "      <td>0.918180</td>\n",
       "      <td>0.927007</td>\n",
       "      <td>0.679307</td>\n",
       "      <td>1</td>\n",
       "      <td>0.5</td>\n",
       "    </tr>\n",
       "    <tr>\n",
       "      <th>1</th>\n",
       "      <td>0.978102</td>\n",
       "      <td>0.999532</td>\n",
       "      <td>0.999532</td>\n",
       "      <td>0.969697</td>\n",
       "      <td>0.976277</td>\n",
       "      <td>0.978102</td>\n",
       "      <td>0.903792</td>\n",
       "      <td>2</td>\n",
       "      <td>0.5</td>\n",
       "    </tr>\n",
       "  </tbody>\n",
       "</table>\n",
       "</div>"
      ],
      "text/plain": [
       "   accuracy  auc_macro  auc_micro  f1_binary  f1_macro  f1_micro        r2  \\\n",
       "0  0.927007   0.983146   0.983146   0.891304  0.918180  0.927007  0.679307   \n",
       "1  0.978102   0.999532   0.999532   0.969697  0.976277  0.978102  0.903792   \n",
       "\n",
       "   num_features  threshold  \n",
       "0             1        0.5  \n",
       "1             2        0.5  "
      ]
     },
     "execution_count": 34,
     "metadata": {},
     "output_type": "execute_result"
    }
   ],
   "source": [
    "s3d.score(test_data, train_model, prediction_path)"
   ]
  },
  {
   "cell_type": "markdown",
   "metadata": {},
   "source": [
    "by default, the threshold is 0.5. we can change it"
   ]
  },
  {
   "cell_type": "code",
   "execution_count": 35,
   "metadata": {
    "ExecuteTime": {
     "end_time": "2018-06-23T07:53:36.822084Z",
     "start_time": "2018-06-23T07:53:36.750669Z"
    }
   },
   "outputs": [
    {
     "data": {
      "text/html": [
       "<div>\n",
       "<style scoped>\n",
       "    .dataframe tbody tr th:only-of-type {\n",
       "        vertical-align: middle;\n",
       "    }\n",
       "\n",
       "    .dataframe tbody tr th {\n",
       "        vertical-align: top;\n",
       "    }\n",
       "\n",
       "    .dataframe thead th {\n",
       "        text-align: right;\n",
       "    }\n",
       "</style>\n",
       "<table border=\"1\" class=\"dataframe\">\n",
       "  <thead>\n",
       "    <tr style=\"text-align: right;\">\n",
       "      <th></th>\n",
       "      <th>accuracy</th>\n",
       "      <th>auc_macro</th>\n",
       "      <th>auc_micro</th>\n",
       "      <th>f1_binary</th>\n",
       "      <th>f1_macro</th>\n",
       "      <th>f1_micro</th>\n",
       "      <th>r2</th>\n",
       "      <th>num_features</th>\n",
       "      <th>threshold</th>\n",
       "    </tr>\n",
       "  </thead>\n",
       "  <tbody>\n",
       "    <tr>\n",
       "      <th>0</th>\n",
       "      <td>0.927007</td>\n",
       "      <td>0.983146</td>\n",
       "      <td>0.983146</td>\n",
       "      <td>0.90566</td>\n",
       "      <td>0.923068</td>\n",
       "      <td>0.927007</td>\n",
       "      <td>0.679307</td>\n",
       "      <td>1</td>\n",
       "      <td>0.4</td>\n",
       "    </tr>\n",
       "    <tr>\n",
       "      <th>1</th>\n",
       "      <td>0.970803</td>\n",
       "      <td>0.999532</td>\n",
       "      <td>0.999532</td>\n",
       "      <td>0.96000</td>\n",
       "      <td>0.968506</td>\n",
       "      <td>0.970803</td>\n",
       "      <td>0.871723</td>\n",
       "      <td>2</td>\n",
       "      <td>0.4</td>\n",
       "    </tr>\n",
       "  </tbody>\n",
       "</table>\n",
       "</div>"
      ],
      "text/plain": [
       "   accuracy  auc_macro  auc_micro  f1_binary  f1_macro  f1_micro        r2  \\\n",
       "0  0.927007   0.983146   0.983146    0.90566  0.923068  0.927007  0.679307   \n",
       "1  0.970803   0.999532   0.999532    0.96000  0.968506  0.970803  0.871723   \n",
       "\n",
       "   num_features  threshold  \n",
       "0             1        0.4  \n",
       "1             2        0.4  "
      ]
     },
     "execution_count": 35,
     "metadata": {},
     "output_type": "execute_result"
    }
   ],
   "source": [
    "s3d.score(test_data, train_model, prediction_path, thres=0.4)"
   ]
  },
  {
   "cell_type": "markdown",
   "metadata": {},
   "source": [
    "given `train_data_path` and `calc_threshold`, the prediction threshold will be determined by the class distribution in training set"
   ]
  },
  {
   "cell_type": "code",
   "execution_count": 36,
   "metadata": {
    "ExecuteTime": {
     "end_time": "2018-06-23T07:53:36.901468Z",
     "start_time": "2018-06-23T07:53:36.826305Z"
    }
   },
   "outputs": [
    {
     "name": "stdout",
     "output_type": "stream",
     "text": [
      "threshold based on trianing set: 0.488889 for 1 features\n",
      "threshold based on trianing set: 0.75 for 2 features\n"
     ]
    },
    {
     "data": {
      "text/html": [
       "<div>\n",
       "<style scoped>\n",
       "    .dataframe tbody tr th:only-of-type {\n",
       "        vertical-align: middle;\n",
       "    }\n",
       "\n",
       "    .dataframe tbody tr th {\n",
       "        vertical-align: top;\n",
       "    }\n",
       "\n",
       "    .dataframe thead th {\n",
       "        text-align: right;\n",
       "    }\n",
       "</style>\n",
       "<table border=\"1\" class=\"dataframe\">\n",
       "  <thead>\n",
       "    <tr style=\"text-align: right;\">\n",
       "      <th></th>\n",
       "      <th>accuracy</th>\n",
       "      <th>auc_macro</th>\n",
       "      <th>auc_micro</th>\n",
       "      <th>f1_binary</th>\n",
       "      <th>f1_macro</th>\n",
       "      <th>f1_micro</th>\n",
       "      <th>r2</th>\n",
       "      <th>num_features</th>\n",
       "      <th>threshold</th>\n",
       "    </tr>\n",
       "  </thead>\n",
       "  <tbody>\n",
       "    <tr>\n",
       "      <th>0</th>\n",
       "      <td>0.927007</td>\n",
       "      <td>0.983146</td>\n",
       "      <td>0.983146</td>\n",
       "      <td>0.905660</td>\n",
       "      <td>0.923068</td>\n",
       "      <td>0.927007</td>\n",
       "      <td>0.679307</td>\n",
       "      <td>1</td>\n",
       "      <td>0.488889</td>\n",
       "    </tr>\n",
       "    <tr>\n",
       "      <th>1</th>\n",
       "      <td>0.992701</td>\n",
       "      <td>0.999532</td>\n",
       "      <td>0.999532</td>\n",
       "      <td>0.989691</td>\n",
       "      <td>0.992021</td>\n",
       "      <td>0.992701</td>\n",
       "      <td>0.967931</td>\n",
       "      <td>2</td>\n",
       "      <td>0.750000</td>\n",
       "    </tr>\n",
       "  </tbody>\n",
       "</table>\n",
       "</div>"
      ],
      "text/plain": [
       "   accuracy  auc_macro  auc_micro  f1_binary  f1_macro  f1_micro        r2  \\\n",
       "0  0.927007   0.983146   0.983146   0.905660  0.923068  0.927007  0.679307   \n",
       "1  0.992701   0.999532   0.999532   0.989691  0.992021  0.992701  0.967931   \n",
       "\n",
       "   num_features  threshold  \n",
       "0             1   0.488889  \n",
       "1             2   0.750000  "
      ]
     },
     "execution_count": 36,
     "metadata": {},
     "output_type": "execute_result"
    }
   ],
   "source": [
    "s3d.score(test_data, train_model, prediction_path, \n",
    "          train_data_path=train_data, calc_threshold=True)"
   ]
  },
  {
   "cell_type": "markdown",
   "metadata": {},
   "source": [
    "---"
   ]
  },
  {
   "cell_type": "markdown",
   "metadata": {},
   "source": [
    "#### test for each fold"
   ]
  },
  {
   "cell_type": "markdown",
   "metadata": {},
   "source": [
    "finally, we can find the best parameter sets for individual (outer) folds. The trained (best) model will be applied to each of the test folds."
   ]
  },
  {
   "cell_type": "markdown",
   "metadata": {},
   "source": [
    "we can see the best parameter sets using `utils.find_best_param()`, given different evaluation metric"
   ]
  },
  {
   "cell_type": "code",
   "execution_count": 37,
   "metadata": {
    "ExecuteTime": {
     "end_time": "2018-06-23T07:53:36.966789Z",
     "start_time": "2018-06-23T07:53:36.904734Z"
    }
   },
   "outputs": [
    {
     "data": {
      "text/html": [
       "<div>\n",
       "<style scoped>\n",
       "    .dataframe tbody tr th:only-of-type {\n",
       "        vertical-align: middle;\n",
       "    }\n",
       "\n",
       "    .dataframe tbody tr th {\n",
       "        vertical-align: top;\n",
       "    }\n",
       "\n",
       "    .dataframe thead th {\n",
       "        text-align: right;\n",
       "    }\n",
       "</style>\n",
       "<table border=\"1\" class=\"dataframe\">\n",
       "  <thead>\n",
       "    <tr style=\"text-align: right;\">\n",
       "      <th></th>\n",
       "      <th>split_version</th>\n",
       "      <th>lambda_</th>\n",
       "      <th>num_features</th>\n",
       "      <th>best_value</th>\n",
       "      <th>metric</th>\n",
       "    </tr>\n",
       "  </thead>\n",
       "  <tbody>\n",
       "    <tr>\n",
       "      <th>0</th>\n",
       "      <td>0</td>\n",
       "      <td>0.003</td>\n",
       "      <td>4</td>\n",
       "      <td>0.988269</td>\n",
       "      <td>accuracy</td>\n",
       "    </tr>\n",
       "    <tr>\n",
       "      <th>1</th>\n",
       "      <td>1</td>\n",
       "      <td>0.003</td>\n",
       "      <td>2</td>\n",
       "      <td>0.995974</td>\n",
       "      <td>accuracy</td>\n",
       "    </tr>\n",
       "    <tr>\n",
       "      <th>2</th>\n",
       "      <td>2</td>\n",
       "      <td>0.003</td>\n",
       "      <td>2</td>\n",
       "      <td>0.990682</td>\n",
       "      <td>accuracy</td>\n",
       "    </tr>\n",
       "    <tr>\n",
       "      <th>3</th>\n",
       "      <td>3</td>\n",
       "      <td>0.003</td>\n",
       "      <td>2</td>\n",
       "      <td>0.993681</td>\n",
       "      <td>accuracy</td>\n",
       "    </tr>\n",
       "    <tr>\n",
       "      <th>4</th>\n",
       "      <td>4</td>\n",
       "      <td>0.003</td>\n",
       "      <td>2</td>\n",
       "      <td>0.989887</td>\n",
       "      <td>accuracy</td>\n",
       "    </tr>\n",
       "  </tbody>\n",
       "</table>\n",
       "</div>"
      ],
      "text/plain": [
       "   split_version  lambda_  num_features  best_value    metric\n",
       "0              0    0.003             4    0.988269  accuracy\n",
       "1              1    0.003             2    0.995974  accuracy\n",
       "2              2    0.003             2    0.990682  accuracy\n",
       "3              3    0.003             2    0.993681  accuracy\n",
       "4              4    0.003             2    0.989887  accuracy"
      ]
     },
     "execution_count": 37,
     "metadata": {},
     "output_type": "execute_result"
    }
   ],
   "source": [
    "utils.find_best_param(performance_file='cv/{}/performance.csv'.format(data_name),  \n",
    "                      validation_metric='accuracy')"
   ]
  },
  {
   "cell_type": "code",
   "execution_count": 38,
   "metadata": {
    "ExecuteTime": {
     "end_time": "2018-06-23T07:53:37.026928Z",
     "start_time": "2018-06-23T07:53:36.969408Z"
    }
   },
   "outputs": [
    {
     "data": {
      "text/html": [
       "<div>\n",
       "<style scoped>\n",
       "    .dataframe tbody tr th:only-of-type {\n",
       "        vertical-align: middle;\n",
       "    }\n",
       "\n",
       "    .dataframe tbody tr th {\n",
       "        vertical-align: top;\n",
       "    }\n",
       "\n",
       "    .dataframe thead th {\n",
       "        text-align: right;\n",
       "    }\n",
       "</style>\n",
       "<table border=\"1\" class=\"dataframe\">\n",
       "  <thead>\n",
       "    <tr style=\"text-align: right;\">\n",
       "      <th></th>\n",
       "      <th>split_version</th>\n",
       "      <th>lambda_</th>\n",
       "      <th>num_features</th>\n",
       "      <th>best_value</th>\n",
       "      <th>metric</th>\n",
       "    </tr>\n",
       "  </thead>\n",
       "  <tbody>\n",
       "    <tr>\n",
       "      <th>0</th>\n",
       "      <td>0</td>\n",
       "      <td>0.003</td>\n",
       "      <td>4</td>\n",
       "      <td>0.988269</td>\n",
       "      <td>accuracy</td>\n",
       "    </tr>\n",
       "    <tr>\n",
       "      <th>1</th>\n",
       "      <td>1</td>\n",
       "      <td>0.003</td>\n",
       "      <td>2</td>\n",
       "      <td>0.995974</td>\n",
       "      <td>accuracy</td>\n",
       "    </tr>\n",
       "    <tr>\n",
       "      <th>2</th>\n",
       "      <td>2</td>\n",
       "      <td>0.003</td>\n",
       "      <td>2</td>\n",
       "      <td>0.990682</td>\n",
       "      <td>accuracy</td>\n",
       "    </tr>\n",
       "    <tr>\n",
       "      <th>3</th>\n",
       "      <td>3</td>\n",
       "      <td>0.003</td>\n",
       "      <td>2</td>\n",
       "      <td>0.993681</td>\n",
       "      <td>accuracy</td>\n",
       "    </tr>\n",
       "    <tr>\n",
       "      <th>4</th>\n",
       "      <td>4</td>\n",
       "      <td>0.003</td>\n",
       "      <td>2</td>\n",
       "      <td>0.989887</td>\n",
       "      <td>accuracy</td>\n",
       "    </tr>\n",
       "  </tbody>\n",
       "</table>\n",
       "</div>"
      ],
      "text/plain": [
       "   split_version  lambda_  num_features  best_value    metric\n",
       "0              0    0.003             4    0.988269  accuracy\n",
       "1              1    0.003             2    0.995974  accuracy\n",
       "2              2    0.003             2    0.990682  accuracy\n",
       "3              3    0.003             2    0.993681  accuracy\n",
       "4              4    0.003             2    0.989887  accuracy"
      ]
     },
     "execution_count": 38,
     "metadata": {},
     "output_type": "execute_result"
    }
   ],
   "source": [
    "utils.find_best_param(performance_file='cv/{}/performance.csv'.format(data_name),  \n",
    "                      validation_metric='accuracy')"
   ]
  },
  {
   "cell_type": "markdown",
   "metadata": {},
   "source": [
    "we can further apply `s3d.evaluate()` to perform testing with the best parameter found above"
   ]
  },
  {
   "cell_type": "code",
   "execution_count": 39,
   "metadata": {
    "ExecuteTime": {
     "end_time": "2018-06-23T07:53:37.506900Z",
     "start_time": "2018-06-23T07:53:37.029728Z"
    }
   },
   "outputs": [
    {
     "name": "stdout",
     "output_type": "stream",
     "text": [
      "evaluating s3d model using 2 cores...\n",
      "threshold based on trianing set: 0.488889 for 1 features\n",
      "threshold based on trianing set: 0.488889 for 1 features\n",
      "threshold based on trianing set: 0.75 for 2 features\n",
      "threshold based on trianing set: 0.5 for 3 features\n",
      "threshold based on trianing set: 0.488889 for 1 features\n",
      "threshold based on trianing set: 0.488889 for 1 features\n",
      "threshold based on trianing set: 0.488889 for 1 features\n"
     ]
    },
    {
     "data": {
      "text/html": [
       "<div>\n",
       "<style scoped>\n",
       "    .dataframe tbody tr th:only-of-type {\n",
       "        vertical-align: middle;\n",
       "    }\n",
       "\n",
       "    .dataframe tbody tr th {\n",
       "        vertical-align: top;\n",
       "    }\n",
       "\n",
       "    .dataframe thead th {\n",
       "        text-align: right;\n",
       "    }\n",
       "</style>\n",
       "<table border=\"1\" class=\"dataframe\">\n",
       "  <thead>\n",
       "    <tr style=\"text-align: right;\">\n",
       "      <th></th>\n",
       "      <th>num_features</th>\n",
       "      <th>accuracy</th>\n",
       "      <th>auc_macro</th>\n",
       "      <th>auc_micro</th>\n",
       "      <th>f1_binary</th>\n",
       "      <th>f1_macro</th>\n",
       "      <th>f1_micro</th>\n",
       "      <th>r2</th>\n",
       "      <th>threshold</th>\n",
       "      <th>lambda_</th>\n",
       "      <th>split_version</th>\n",
       "    </tr>\n",
       "  </thead>\n",
       "  <tbody>\n",
       "    <tr>\n",
       "      <th>0</th>\n",
       "      <td>3</td>\n",
       "      <td>0.992701</td>\n",
       "      <td>0.989583</td>\n",
       "      <td>0.989583</td>\n",
       "      <td>0.989474</td>\n",
       "      <td>0.991944</td>\n",
       "      <td>0.992701</td>\n",
       "      <td>0.967931</td>\n",
       "      <td>0.500000</td>\n",
       "      <td>0.0030</td>\n",
       "      <td>0.0</td>\n",
       "    </tr>\n",
       "    <tr>\n",
       "      <th>1</th>\n",
       "      <td>1</td>\n",
       "      <td>0.927007</td>\n",
       "      <td>0.983146</td>\n",
       "      <td>0.983146</td>\n",
       "      <td>0.905660</td>\n",
       "      <td>0.923068</td>\n",
       "      <td>0.927007</td>\n",
       "      <td>0.679307</td>\n",
       "      <td>0.488889</td>\n",
       "      <td>0.0030</td>\n",
       "      <td>1.0</td>\n",
       "    </tr>\n",
       "    <tr>\n",
       "      <th>2</th>\n",
       "      <td>1</td>\n",
       "      <td>0.868613</td>\n",
       "      <td>0.976826</td>\n",
       "      <td>0.976826</td>\n",
       "      <td>0.839286</td>\n",
       "      <td>0.864087</td>\n",
       "      <td>0.868613</td>\n",
       "      <td>0.422753</td>\n",
       "      <td>0.488889</td>\n",
       "      <td>0.0030</td>\n",
       "      <td>2.0</td>\n",
       "    </tr>\n",
       "    <tr>\n",
       "      <th>3</th>\n",
       "      <td>1</td>\n",
       "      <td>0.941606</td>\n",
       "      <td>0.960323</td>\n",
       "      <td>0.960323</td>\n",
       "      <td>0.916667</td>\n",
       "      <td>0.935861</td>\n",
       "      <td>0.941606</td>\n",
       "      <td>0.743446</td>\n",
       "      <td>0.488889</td>\n",
       "      <td>0.0010</td>\n",
       "      <td>3.0</td>\n",
       "    </tr>\n",
       "    <tr>\n",
       "      <th>4</th>\n",
       "      <td>1</td>\n",
       "      <td>0.925926</td>\n",
       "      <td>0.980174</td>\n",
       "      <td>0.980174</td>\n",
       "      <td>0.900000</td>\n",
       "      <td>0.920588</td>\n",
       "      <td>0.925926</td>\n",
       "      <td>0.673598</td>\n",
       "      <td>0.488889</td>\n",
       "      <td>0.0003</td>\n",
       "      <td>4.0</td>\n",
       "    </tr>\n",
       "  </tbody>\n",
       "</table>\n",
       "</div>"
      ],
      "text/plain": [
       "   num_features  accuracy  auc_macro  auc_micro  f1_binary  f1_macro  \\\n",
       "0             3  0.992701   0.989583   0.989583   0.989474  0.991944   \n",
       "1             1  0.927007   0.983146   0.983146   0.905660  0.923068   \n",
       "2             1  0.868613   0.976826   0.976826   0.839286  0.864087   \n",
       "3             1  0.941606   0.960323   0.960323   0.916667  0.935861   \n",
       "4             1  0.925926   0.980174   0.980174   0.900000  0.920588   \n",
       "\n",
       "   f1_micro        r2  threshold  lambda_  split_version  \n",
       "0  0.992701  0.967931   0.500000   0.0030            0.0  \n",
       "1  0.927007  0.679307   0.488889   0.0030            1.0  \n",
       "2  0.868613  0.422753   0.488889   0.0030            2.0  \n",
       "3  0.941606  0.743446   0.488889   0.0010            3.0  \n",
       "4  0.925926  0.673598   0.488889   0.0003            4.0  "
      ]
     },
     "execution_count": 39,
     "metadata": {},
     "output_type": "execute_result"
    }
   ],
   "source": [
    "s3d.evaluate(num_jobs=2)"
   ]
  },
  {
   "cell_type": "code",
   "execution_count": 40,
   "metadata": {
    "ExecuteTime": {
     "end_time": "2018-06-23T07:53:38.066606Z",
     "start_time": "2018-06-23T07:53:37.510273Z"
    }
   },
   "outputs": [
    {
     "name": "stdout",
     "output_type": "stream",
     "text": [
      "evaluating s3d model using 2 cores...\n",
      "threshold based on trianing set: 0.488889 for 1 features\n",
      "threshold based on trianing set: 0.75 for 2 features\n",
      "threshold based on trianing set: 0.488889 for 1 features\n",
      "threshold based on trianing set: 0.75 for 2 features\n",
      "threshold based on trianing set: 0.5 for 3 features\n",
      "threshold based on trianing set: 0.666667 for 4 features\n",
      "threshold based on trianing set: 0.488889 for 1 features\n",
      "threshold based on trianing set: 0.75 for 2 features\n",
      "threshold based on trianing set: 0.488889 for 1 features\n",
      "threshold based on trianing set: 0.75 for 2 features\n",
      "threshold based on trianing set: 0.488889 for 1 features\n",
      "threshold based on trianing set: 0.5 for 2 features\n"
     ]
    },
    {
     "data": {
      "text/html": [
       "<div>\n",
       "<style scoped>\n",
       "    .dataframe tbody tr th:only-of-type {\n",
       "        vertical-align: middle;\n",
       "    }\n",
       "\n",
       "    .dataframe tbody tr th {\n",
       "        vertical-align: top;\n",
       "    }\n",
       "\n",
       "    .dataframe thead th {\n",
       "        text-align: right;\n",
       "    }\n",
       "</style>\n",
       "<table border=\"1\" class=\"dataframe\">\n",
       "  <thead>\n",
       "    <tr style=\"text-align: right;\">\n",
       "      <th></th>\n",
       "      <th>num_features</th>\n",
       "      <th>accuracy</th>\n",
       "      <th>auc_macro</th>\n",
       "      <th>auc_micro</th>\n",
       "      <th>f1_binary</th>\n",
       "      <th>f1_macro</th>\n",
       "      <th>f1_micro</th>\n",
       "      <th>r2</th>\n",
       "      <th>threshold</th>\n",
       "      <th>lambda_</th>\n",
       "      <th>split_version</th>\n",
       "    </tr>\n",
       "  </thead>\n",
       "  <tbody>\n",
       "    <tr>\n",
       "      <th>0</th>\n",
       "      <td>4</td>\n",
       "      <td>0.992701</td>\n",
       "      <td>0.989583</td>\n",
       "      <td>0.989583</td>\n",
       "      <td>0.989474</td>\n",
       "      <td>0.991944</td>\n",
       "      <td>0.992701</td>\n",
       "      <td>0.967931</td>\n",
       "      <td>0.666667</td>\n",
       "      <td>0.003</td>\n",
       "      <td>0.0</td>\n",
       "    </tr>\n",
       "    <tr>\n",
       "      <th>1</th>\n",
       "      <td>2</td>\n",
       "      <td>0.992701</td>\n",
       "      <td>0.999532</td>\n",
       "      <td>0.999532</td>\n",
       "      <td>0.989691</td>\n",
       "      <td>0.992021</td>\n",
       "      <td>0.992701</td>\n",
       "      <td>0.967931</td>\n",
       "      <td>0.750000</td>\n",
       "      <td>0.003</td>\n",
       "      <td>1.0</td>\n",
       "    </tr>\n",
       "    <tr>\n",
       "      <th>2</th>\n",
       "      <td>2</td>\n",
       "      <td>0.970803</td>\n",
       "      <td>0.996255</td>\n",
       "      <td>0.996255</td>\n",
       "      <td>0.958333</td>\n",
       "      <td>0.967931</td>\n",
       "      <td>0.970803</td>\n",
       "      <td>0.871723</td>\n",
       "      <td>0.750000</td>\n",
       "      <td>0.003</td>\n",
       "      <td>2.0</td>\n",
       "    </tr>\n",
       "    <tr>\n",
       "      <th>3</th>\n",
       "      <td>2</td>\n",
       "      <td>0.948905</td>\n",
       "      <td>0.987711</td>\n",
       "      <td>0.987711</td>\n",
       "      <td>0.926316</td>\n",
       "      <td>0.943605</td>\n",
       "      <td>0.948905</td>\n",
       "      <td>0.775515</td>\n",
       "      <td>0.750000</td>\n",
       "      <td>0.003</td>\n",
       "      <td>3.0</td>\n",
       "    </tr>\n",
       "    <tr>\n",
       "      <th>4</th>\n",
       "      <td>2</td>\n",
       "      <td>0.955556</td>\n",
       "      <td>0.986098</td>\n",
       "      <td>0.986098</td>\n",
       "      <td>0.938776</td>\n",
       "      <td>0.951946</td>\n",
       "      <td>0.955556</td>\n",
       "      <td>0.804159</td>\n",
       "      <td>0.500000</td>\n",
       "      <td>0.003</td>\n",
       "      <td>4.0</td>\n",
       "    </tr>\n",
       "  </tbody>\n",
       "</table>\n",
       "</div>"
      ],
      "text/plain": [
       "   num_features  accuracy  auc_macro  auc_micro  f1_binary  f1_macro  \\\n",
       "0             4  0.992701   0.989583   0.989583   0.989474  0.991944   \n",
       "1             2  0.992701   0.999532   0.999532   0.989691  0.992021   \n",
       "2             2  0.970803   0.996255   0.996255   0.958333  0.967931   \n",
       "3             2  0.948905   0.987711   0.987711   0.926316  0.943605   \n",
       "4             2  0.955556   0.986098   0.986098   0.938776  0.951946   \n",
       "\n",
       "   f1_micro        r2  threshold  lambda_  split_version  \n",
       "0  0.992701  0.967931   0.666667    0.003            0.0  \n",
       "1  0.992701  0.967931   0.750000    0.003            1.0  \n",
       "2  0.970803  0.871723   0.750000    0.003            2.0  \n",
       "3  0.948905  0.775515   0.750000    0.003            3.0  \n",
       "4  0.955556  0.804159   0.500000    0.003            4.0  "
      ]
     },
     "execution_count": 40,
     "metadata": {},
     "output_type": "execute_result"
    }
   ],
   "source": [
    "s3d.evaluate(num_jobs=2, cv_metric='accuracy')"
   ]
  },
  {
   "cell_type": "markdown",
   "metadata": {},
   "source": [
    "---"
   ]
  }
 ],
 "metadata": {
  "kernelspec": {
   "display_name": "Python 3",
   "language": "python",
   "name": "python3"
  },
  "language_info": {
   "codemirror_mode": {
    "name": "ipython",
    "version": 3
   },
   "file_extension": ".py",
   "mimetype": "text/x-python",
   "name": "python",
   "nbconvert_exporter": "python",
   "pygments_lexer": "ipython3",
   "version": "3.6.4"
  },
  "toc": {
   "nav_menu": {},
   "number_sections": true,
   "sideBar": true,
   "skip_h1_title": true,
   "toc_cell": false,
   "toc_position": {
    "height": "805px",
    "left": "0px",
    "right": "1456px",
    "top": "126px",
    "width": "224px"
   },
   "toc_section_display": true,
   "toc_window_display": true
  }
 },
 "nbformat": 4,
 "nbformat_minor": 2
}
