{
 "cells": [
  {
   "cell_type": "markdown",
   "metadata": {
    "toc": true
   },
   "source": [
    "<h1>Table of Contents<span class=\"tocSkip\"></span></h1>\n",
    "<div class=\"toc\"><ul class=\"toc-item\"><li><span><a href=\"#clarification\" data-toc-modified-id=\"clarification-1\"><span class=\"toc-item-num\">1&nbsp;&nbsp;</span>clarification</a></span><ul class=\"toc-item\"><li><span><a href=\"#python-dependencies\" data-toc-modified-id=\"python-dependencies-1.1\"><span class=\"toc-item-num\">1.1&nbsp;&nbsp;</span>python dependencies</a></span></li><li><span><a href=\"#compiling-s3d\" data-toc-modified-id=\"compiling-s3d-1.2\"><span class=\"toc-item-num\">1.2&nbsp;&nbsp;</span>compiling <code>s3d</code></a></span></li><li><span><a href=\"#data-for-cross-val\" data-toc-modified-id=\"data-for-cross-val-1.3\"><span class=\"toc-item-num\">1.3&nbsp;&nbsp;</span>data for cross val</a></span></li><li><span><a href=\"#data-format\" data-toc-modified-id=\"data-format-1.4\"><span class=\"toc-item-num\">1.4&nbsp;&nbsp;</span>data format</a></span></li><li><span><a href=\"#file-structure\" data-toc-modified-id=\"file-structure-1.5\"><span class=\"toc-item-num\">1.5&nbsp;&nbsp;</span>file structure</a></span></li><li><span><a href=\"#example-datasets\" data-toc-modified-id=\"example-datasets-1.6\"><span class=\"toc-item-num\">1.6&nbsp;&nbsp;</span>example datasets</a></span></li></ul></li><li><span><a href=\"#create-s3d-model\" data-toc-modified-id=\"create-s3d-model-2\"><span class=\"toc-item-num\">2&nbsp;&nbsp;</span>create <code>s3d</code> model</a></span></li><li><span><a href=\"#train\" data-toc-modified-id=\"train-3\"><span class=\"toc-item-num\">3&nbsp;&nbsp;</span>train</a></span></li><li><span><a href=\"#visualize-the-trained-model\" data-toc-modified-id=\"visualize-the-trained-model-4\"><span class=\"toc-item-num\">4&nbsp;&nbsp;</span>visualize the trained model</a></span><ul class=\"toc-item\"><li><span><a href=\"#steps\" data-toc-modified-id=\"steps-4.1\"><span class=\"toc-item-num\">4.1&nbsp;&nbsp;</span>steps</a></span></li><li><span><a href=\"#feature-network\" data-toc-modified-id=\"feature-network-4.2\"><span class=\"toc-item-num\">4.2&nbsp;&nbsp;</span>feature network</a></span></li><li><span><a href=\"#feature-binning-(1d)\" data-toc-modified-id=\"feature-binning-(1d)-4.3\"><span class=\"toc-item-num\">4.3&nbsp;&nbsp;</span>feature binning (1d)</a></span></li><li><span><a href=\"#feature-binning-(2d~4d)\" data-toc-modified-id=\"feature-binning-(2d~4d)-4.4\"><span class=\"toc-item-num\">4.4&nbsp;&nbsp;</span>feature binning (2d~4d)</a></span><ul class=\"toc-item\"><li><span><a href=\"#frequency\" data-toc-modified-id=\"frequency-4.4.1\"><span class=\"toc-item-num\">4.4.1&nbsp;&nbsp;</span>frequency</a></span></li><li><span><a href=\"#expected-value\" data-toc-modified-id=\"expected-value-4.4.2\"><span class=\"toc-item-num\">4.4.2&nbsp;&nbsp;</span>expected value</a></span></li><li><span><a href=\"#predictions\" data-toc-modified-id=\"predictions-4.4.3\"><span class=\"toc-item-num\">4.4.3&nbsp;&nbsp;</span>predictions</a></span></li></ul></li></ul></li><li><span><a href=\"#hyperparameter-tuning\" data-toc-modified-id=\"hyperparameter-tuning-5\"><span class=\"toc-item-num\">5&nbsp;&nbsp;</span>hyperparameter tuning</a></span></li><li><span><a href=\"#multi-core-hyperparam-tuning\" data-toc-modified-id=\"multi-core-hyperparam-tuning-6\"><span class=\"toc-item-num\">6&nbsp;&nbsp;</span>multi core hyperparam tuning</a></span></li><li><span><a href=\"#predict-(for-one-fold)\" data-toc-modified-id=\"predict-(for-one-fold)-7\"><span class=\"toc-item-num\">7&nbsp;&nbsp;</span>predict (for one fold)</a></span></li><li><span><a href=\"#score-(for-one-fold)\" data-toc-modified-id=\"score-(for-one-fold)-8\"><span class=\"toc-item-num\">8&nbsp;&nbsp;</span>score (for one fold)</a></span></li><li><span><a href=\"#test-for-each-fold\" data-toc-modified-id=\"test-for-each-fold-9\"><span class=\"toc-item-num\">9&nbsp;&nbsp;</span>test for each fold</a></span><ul class=\"toc-item\"><li><span><a href=\"#best-params-for-each-fold\" data-toc-modified-id=\"best-params-for-each-fold-9.1\"><span class=\"toc-item-num\">9.1&nbsp;&nbsp;</span>best params for each fold</a></span></li><li><span><a href=\"#evaluation-of-s3d\" data-toc-modified-id=\"evaluation-of-s3d-9.2\"><span class=\"toc-item-num\">9.2&nbsp;&nbsp;</span>evaluation of s3d</a></span></li></ul></li><li><span><a href=\"#use-case:-regression-on-bike-sharing-dataset\" data-toc-modified-id=\"use-case:-regression-on-bike-sharing-dataset-10\"><span class=\"toc-item-num\">10&nbsp;&nbsp;</span>use case: regression on bike sharing dataset</a></span><ul class=\"toc-item\"><li><span><a href=\"#cross-validation\" data-toc-modified-id=\"cross-validation-10.1\"><span class=\"toc-item-num\">10.1&nbsp;&nbsp;</span>cross validation</a></span></li><li><span><a href=\"#visualization\" data-toc-modified-id=\"visualization-10.2\"><span class=\"toc-item-num\">10.2&nbsp;&nbsp;</span>visualization</a></span></li></ul></li></ul></div>"
   ]
  },
  {
   "cell_type": "markdown",
   "metadata": {},
   "source": [
    "a quickstart on using python apis for `s3d` model\n",
    "\n",
    "original c code: https://github.com/peterfennell/S3D"
   ]
  },
  {
   "cell_type": "markdown",
   "metadata": {},
   "source": [
    "---"
   ]
  },
  {
   "cell_type": "code",
   "execution_count": 1,
   "metadata": {
    "ExecuteTime": {
     "end_time": "2018-08-06T19:17:19.165758Z",
     "start_time": "2018-08-06T19:17:15.166040Z"
    },
    "init_cell": true
   },
   "outputs": [
    {
     "name": "stderr",
     "output_type": "stream",
     "text": [
      "/Users/zhiyzuo/.virtualenvs/py3/lib/python3.7/site-packages/sklearn/utils/__init__.py:4: DeprecationWarning: Using or importing the ABCs from 'collections' instead of from 'collections.abc' is deprecated, and in 3.8 it will stop working\n",
      "  from collections import Sequence\n"
     ]
    }
   ],
   "source": [
    "import utils, warnings\n",
    "import pandas as pd\n",
    "warnings.simplefilter('once')"
   ]
  },
  {
   "cell_type": "code",
   "execution_count": 2,
   "metadata": {
    "ExecuteTime": {
     "end_time": "2018-08-06T19:17:19.236276Z",
     "start_time": "2018-08-06T19:17:19.169355Z"
    },
    "init_cell": true
   },
   "outputs": [],
   "source": [
    "from pys3d import PYS3D"
   ]
  },
  {
   "cell_type": "code",
   "execution_count": 3,
   "metadata": {
    "ExecuteTime": {
     "end_time": "2018-08-06T19:17:19.270807Z",
     "start_time": "2018-08-06T19:17:19.239341Z"
    },
    "init_cell": true
   },
   "outputs": [],
   "source": [
    "import matplotlib.colors as mc\n",
    "from matplotlib import pyplot as plt\n",
    "%matplotlib inline"
   ]
  },
  {
   "cell_type": "markdown",
   "metadata": {},
   "source": [
    "---"
   ]
  },
  {
   "cell_type": "markdown",
   "metadata": {},
   "source": [
    "### clarification"
   ]
  },
  {
   "cell_type": "markdown",
   "metadata": {},
   "source": [
    "the design of the constructor is meant to be easy for hyperparameter tuning by cross validation. therefore, the methods `fit` and `predict` may be a little weird to use as standalone functions."
   ]
  },
  {
   "cell_type": "markdown",
   "metadata": {},
   "source": [
    "feel free to directly jump to the [use case](#usecase) for a quick tour on how to use `pys3d` wrapper"
   ]
  },
  {
   "cell_type": "markdown",
   "metadata": {},
   "source": [
    "#### python dependencies"
   ]
  },
  {
   "cell_type": "markdown",
   "metadata": {},
   "source": [
    "- `pandas`\n",
    "- `joblib`\n",
    "- `networkx` (the latest version has the edge arrow fixed!)\n",
    "- `matplotlib`\n",
    "- `scikit-learn`\n",
    "- `seaborn`\n",
    "- `palettable`"
   ]
  },
  {
   "cell_type": "markdown",
   "metadata": {},
   "source": [
    "these can be installed by:\n",
    "```bash\n",
    "> pip install -r requirements.txt\n",
    "```"
   ]
  },
  {
   "cell_type": "markdown",
   "metadata": {},
   "source": [
    "#### compiling `s3d`"
   ]
  },
  {
   "cell_type": "markdown",
   "metadata": {},
   "source": [
    "compiling is simple and straight forward, do:\n",
    "```bash\n",
    "> make all\n",
    "```\n",
    "or \n",
    "```bash\n",
    "> make clean && make all\n",
    "```\n",
    "to remove previous compiled files."
   ]
  },
  {
   "cell_type": "markdown",
   "metadata": {},
   "source": [
    "#### data for cross val"
   ]
  },
  {
   "cell_type": "markdown",
   "metadata": {},
   "source": [
    "for cross validation processes, datasets should be splitted first. the script `split_data.py` can be used to do so:"
   ]
  },
  {
   "cell_type": "markdown",
   "metadata": {},
   "source": [
    "```bash\n",
    "> python split_data.py -h\n",
    "usage: split_data.py [-h] [-cf {0,1}] [-j NUM_JOBS] data_name num_folds\n",
    "\n",
    "positional arguments:\n",
    "  data_name             data to be splitted\n",
    "  num_folds             number of folds\n",
    "\n",
    "optional arguments:\n",
    "  -h, --help            show this help message and exit\n",
    "  -cf {0,1}, --classification-flag {0,1}\n",
    "                        whether the dataset is for classification or not\n",
    "                        (default 1 - yes); 0 for regression\n",
    "  -j NUM_JOBS, --num-jobs NUM_JOBS\n",
    "                        the number of parallel jobs (default 1)\n",
    "```"
   ]
  },
  {
   "cell_type": "markdown",
   "metadata": {},
   "source": [
    "this will read in `data_name.csv` from `data/` folder; split data and store the train/test sets into `splitted_data/data_name/` folder. \n",
    "\n",
    "for example, if there is a dataset called `breastcancer.csv` in `data/`, we can do:\n",
    "```bash\n",
    "> python split_data.py breastcancer 5\n",
    "```"
   ]
  },
  {
   "cell_type": "markdown",
   "metadata": {},
   "source": [
    "if we do `ls splitted_data/breastcancer/`, we will see:\n",
    "```bash\n",
    "0  1  2  3  4\n",
    "```\n",
    "which are fold indices named folder, each of which there will be:\n",
    "```bash\n",
    "num_rows.csv  test.csv  train.csv\n",
    "```"
   ]
  },
  {
   "cell_type": "markdown",
   "metadata": {},
   "source": [
    "where `train.csv` is the training set; `test.csv` is the testing set; `num_rows.csv` store the number of rows in train/test respectively."
   ]
  },
  {
   "cell_type": "markdown",
   "metadata": {},
   "source": [
    "finally, you can parallelize the data partitioning with more cores:\n",
    "```bash\n",
    "> ptyhon split_data.py -j num_jobs data_name num_folds\n",
    "```\n",
    "\n",
    "where `num_jobs` is 1 by default."
   ]
  },
  {
   "cell_type": "markdown",
   "metadata": {},
   "source": [
    "finally, it is noteworthy that by default, [`StratifiedKFold`](http://scikit-learn.org/stable/modules/generated/sklearn.model_selection.StratifiedKFold.html) from `sklearn` will be used for splitting classification datasets.\n",
    "\n",
    "for regression datasets, one needs to specify `-cf 0` or `--classification-flag 0`. for example the `bike` dataset is for regression and we will do:\n",
    "```bash\n",
    "> python split_data.py -cf 0 bike 5\n",
    "```"
   ]
  },
  {
   "cell_type": "markdown",
   "metadata": {},
   "source": [
    "#### data format"
   ]
  },
  {
   "cell_type": "markdown",
   "metadata": {},
   "source": [
    "data format: in `data_name.csv`, the first column is the target column named `target`, followed by features:\n",
    "> `target,feature_1,feature_2,...,feature_p`"
   ]
  },
  {
   "cell_type": "markdown",
   "metadata": {},
   "source": [
    "#### file structure"
   ]
  },
  {
   "cell_type": "markdown",
   "metadata": {},
   "source": [
    "file directory setup: `PYS3D` class will by default create subfodlers `data_name` in:\n",
    "```bash\n",
    "tmp/ predictions/ models/ cv/\n",
    "```\n",
    "\n",
    "where:\n",
    "- `tmp` will store the \"inner cross validation\" temporary files\n",
    "- `predictions` will store the prediction results\n",
    "- `models` will store the trained models\n",
    "- `cv` will store the cross validation performance (on the validation set)\n",
    "\n",
    "therefore, the first step is to create all these 4 for your convenience. you can do:\n",
    "```bash\n",
    "> ./init\n",
    "```\n",
    "which will cleanup and create these folders\n",
    "\n",
    "reversely, run `./cleanup` to remove these folders"
   ]
  },
  {
   "cell_type": "markdown",
   "metadata": {},
   "source": [
    "#### example datasets"
   ]
  },
  {
   "cell_type": "markdown",
   "metadata": {},
   "source": [
    "the two datasets both come from [uci machine learning repository](https://archive.ics.uci.edu/ml/index.php)\n",
    "- `breacancer`: [link](https://archive.ics.uci.edu/ml/datasets/breast+cancer+wisconsin+%28original%29)\n",
    "- `bike`: hourly [link](https://archive.ics.uci.edu/ml/datasets/bike+sharing+dataset)"
   ]
  },
  {
   "cell_type": "markdown",
   "metadata": {},
   "source": [
    "---"
   ]
  },
  {
   "cell_type": "markdown",
   "metadata": {},
   "source": [
    "### create `s3d` model"
   ]
  },
  {
   "cell_type": "markdown",
   "metadata": {},
   "source": [
    "suppose the dataset is stored at `../splitted_data/`, all we need for the model is the name of the dataset of interest"
   ]
  },
  {
   "cell_type": "code",
   "execution_count": 5,
   "metadata": {
    "ExecuteTime": {
     "end_time": "2018-08-06T19:17:26.190745Z",
     "start_time": "2018-08-06T19:17:26.183944Z"
    }
   },
   "outputs": [
    {
     "name": "stdout",
     "output_type": "stream",
     "text": [
      "Help on function __init__ in module pys3d:\n",
      "\n",
      "__init__(self, data_name, data_path='../splitted_data/', model_path='models/', prediction_path='predictions/', classification_flag=True)\n",
      "    initializer\n",
      "    \n",
      "    parameters\n",
      "    ----------\n",
      "    data_name : str\n",
      "        intput data name\n",
      "    data_path : str\n",
      "        input data base path\n",
      "    model_path : str\n",
      "        base path for output of built models\n",
      "    prediction_path : str\n",
      "        base path for predicted expectations\n",
      "    classification_flag : bool\n",
      "        whether this is classification or regression. tihis is used for determining evaluation metrics\n",
      "    \n",
      "    for each path, we assume that there are sub folders for each test fold\n",
      "\n"
     ]
    }
   ],
   "source": [
    "help(PYS3D.__init__)"
   ]
  },
  {
   "cell_type": "code",
   "execution_count": 6,
   "metadata": {
    "ExecuteTime": {
     "end_time": "2018-08-06T19:17:26.835504Z",
     "start_time": "2018-08-06T19:17:26.832158Z"
    }
   },
   "outputs": [],
   "source": [
    "data_name = 'breastcancer'\n",
    "fold_index = 1"
   ]
  },
  {
   "cell_type": "code",
   "execution_count": 7,
   "metadata": {
    "ExecuteTime": {
     "end_time": "2018-08-06T19:17:27.458868Z",
     "start_time": "2018-08-06T19:17:27.229118Z"
    }
   },
   "outputs": [
    {
     "name": "stdout",
     "output_type": "stream",
     "text": [
      "tmp not exist, create\n",
      "models not exist, create\n",
      "predictions not exist, create\n",
      "cv not exist, create\n"
     ]
    }
   ],
   "source": [
    "%%bash\n",
    "./cleanup\n",
    "./init"
   ]
  },
  {
   "cell_type": "code",
   "execution_count": 8,
   "metadata": {
    "ExecuteTime": {
     "end_time": "2018-08-06T19:17:28.527842Z",
     "start_time": "2018-08-06T19:17:28.486743Z"
    }
   },
   "outputs": [
    {
     "name": "stdout",
     "output_type": "stream",
     "text": [
      "...s3d initializing...\n",
      "s3d with breastcancer data, splitted into 5 folds\n",
      "data will be loaded from ../splitted_data/breastcancer/\n",
      "built models will be saved to models/breastcancer/\n",
      "predictions will be saved to predictions/breastcancer/\n",
      "temporary subfolders in  ./tmp/breastcancer\n",
      "...done initializing...\n",
      "\n"
     ]
    }
   ],
   "source": [
    "s3d = PYS3D(data_name)"
   ]
  },
  {
   "cell_type": "markdown",
   "metadata": {},
   "source": [
    "section 3 and 4 describes the typical training/testing process for one of the folds\n",
    "\n",
    "section 5 starts to "
   ]
  },
  {
   "cell_type": "markdown",
   "metadata": {},
   "source": [
    "---"
   ]
  },
  {
   "cell_type": "markdown",
   "metadata": {},
   "source": [
    "### train"
   ]
  },
  {
   "cell_type": "markdown",
   "metadata": {},
   "source": [
    "there are two required input arg:\n",
    "- `train_data_path`: the path to the dataset. assume that the target is in the first column \n",
    "- `train_model_path`: the path to save the model"
   ]
  },
  {
   "cell_type": "code",
   "execution_count": 9,
   "metadata": {
    "ExecuteTime": {
     "end_time": "2018-08-06T19:17:31.150037Z",
     "start_time": "2018-08-06T19:17:31.143145Z"
    }
   },
   "outputs": [],
   "source": [
    "train_data = '../splitted_data/{}/{}/train.csv'.format(data_name, fold_index)\n",
    "train_model = 'test-folder/'"
   ]
  },
  {
   "cell_type": "code",
   "execution_count": 10,
   "metadata": {
    "ExecuteTime": {
     "end_time": "2018-08-06T19:17:31.435199Z",
     "start_time": "2018-08-06T19:17:31.333515Z"
    }
   },
   "outputs": [],
   "source": [
    "s3d.fit(train_data, train_model, lambda_=0.001, max_features=5)"
   ]
  },
  {
   "cell_type": "markdown",
   "metadata": {},
   "source": [
    "the outputs will be saved to `test-folder/` in our case"
   ]
  },
  {
   "cell_type": "markdown",
   "metadata": {},
   "source": [
    "---"
   ]
  },
  {
   "cell_type": "markdown",
   "metadata": {},
   "source": [
    "### visualize the trained model"
   ]
  },
  {
   "cell_type": "markdown",
   "metadata": {},
   "source": [
    "#### steps"
   ]
  },
  {
   "cell_type": "markdown",
   "metadata": {},
   "source": [
    "we can visualize chosen features at each step and the unique contribution of $R^2$\n",
    "\n",
    "note that, we highlight the bars whose corresponding features have the most contribution of $\\Delta R^2$ by heavy bar borders."
   ]
  },
  {
   "cell_type": "markdown",
   "metadata": {},
   "source": [
    "further, from time to time, there may be more than one feature with the same $\\Delta R^2$ (due to feature redundancy). s3d will only select one of them, while the bars of the other features will be highlighted using lighter borders (but still more obvious than other features).\n",
    "\n",
    "for example, while `clump_thickness` is selected, `cell_size`, `normal_nucleoli`, and `marginal_adhesion` in fact share the same contribution of variation explanation, though not selected."
   ]
  },
  {
   "cell_type": "code",
   "execution_count": 15,
   "metadata": {
    "ExecuteTime": {
     "end_time": "2018-08-02T19:21:29.173253Z",
     "start_time": "2018-08-02T19:21:27.847053Z"
    }
   },
   "outputs": [
    {
     "name": "stderr",
     "output_type": "stream",
     "text": [
      "/Users/zhiyzuo/.virtualenvs/py3/lib/python3.7/site-packages/matplotlib/cbook/__init__.py:2347: DeprecationWarning: Using or importing the ABCs from 'collections' instead of from 'collections.abc' is deprecated, and in 3.8 it will stop working\n",
      "  if isinstance(obj, collections.Iterator):\n"
     ]
    },
    {
     "data": {
      "image/png": "[encoded data removed]",
      "text/plain": [
       "<Figure size 720x576 with 1 Axes>"
      ]
     },
     "metadata": {},
     "output_type": "display_data"
    }
   ],
   "source": [
    "fig, ax = utils.visualize_s3d_steps(train_model, figsize=(10,8))"
   ]
  },
  {
   "cell_type": "markdown",
   "metadata": {},
   "source": [
    "if there are too many features, there is an option to set `max_features=k` by limiting only the top `k` features in the bar chart. the minimum `k` should be the number of selected features (which is usually small) and not larger than the total number of features."
   ]
  },
  {
   "cell_type": "code",
   "execution_count": 16,
   "metadata": {
    "ExecuteTime": {
     "end_time": "2018-08-02T19:21:29.908609Z",
     "start_time": "2018-08-02T19:21:29.176651Z"
    }
   },
   "outputs": [
    {
     "data": {
      "image/png": "[encoded data removed]",
      "text/plain": [
       "<Figure size 720x576 with 1 Axes>"
      ]
     },
     "metadata": {},
     "output_type": "display_data"
    }
   ],
   "source": [
    "fig, ax = utils.visualize_s3d_steps(train_model, figsize=(10,8), max_features=7)"
   ]
  },
  {
   "cell_type": "markdown",
   "metadata": {},
   "source": [
    "#### feature network"
   ]
  },
  {
   "cell_type": "markdown",
   "metadata": {},
   "source": [
    "we can also visualize the redundancy between features:\n",
    "- node: features\n",
    "- edge\n",
    "    - direction: from thee unselected feature ($X_j$) to the selected one ($X_l$)\n",
    "    - width: \"variation redundancies\" of $X_j$ made by selecting $X_l$:\n",
    "        $$a_{X_j,X_l^S}=\\Delta R^2(P_{X_j}|\\mathcal{P}^{S(l-1)}) - \\Delta R^2(P_{X_j}|\\mathcal{P}^{S(l-1)}\\times P_{X_l^S})$$\n",
    "- color: distinguish selected/unselected (and maybe isolated those w/o much contribution to the target)"
   ]
  },
  {
   "cell_type": "code",
   "execution_count": null,
   "metadata": {
    "ExecuteTime": {
     "end_time": "2018-08-02T15:49:55.052221Z",
     "start_time": "2018-08-02T15:49:54.303797Z"
    }
   },
   "outputs": [],
   "source": [
    "net, (fig, ax) = utils.visualize_feature_network(model_folder=train_model, w_scale=5)"
   ]
  },
  {
   "cell_type": "markdown",
   "metadata": {},
   "source": [
    "#### feature binning (1d)"
   ]
  },
  {
   "cell_type": "markdown",
   "metadata": {},
   "source": [
    "sometimes customization needed to improve the overall quality"
   ]
  },
  {
   "cell_type": "markdown",
   "metadata": {},
   "source": [
    "in the case of one feature, we will be using a line chart to visualize the s3d model"
   ]
  },
  {
   "cell_type": "code",
   "execution_count": 11,
   "metadata": {
    "ExecuteTime": {
     "end_time": "2018-08-06T19:17:33.867222Z",
     "start_time": "2018-08-06T19:17:33.862339Z"
    },
    "init_cell": true
   },
   "outputs": [],
   "source": [
    "pink_color = '#FBB4AE'\n",
    "my_cmap = mc.LinearSegmentedColormap.from_list('custom_pink', ['#ffffff', pink_color], N=256)"
   ]
  },
  {
   "cell_type": "code",
   "execution_count": 12,
   "metadata": {
    "ExecuteTime": {
     "end_time": "2018-08-06T19:17:34.139042Z",
     "start_time": "2018-08-06T19:17:34.107309Z"
    }
   },
   "outputs": [],
   "source": [
    "dim = 1\n",
    "thres = 0.33\n",
    "splits_at_dim, N_dim, intensity_dim, pred_dim, chosen_f_dim = utils.visualize_s3d_model_reader(train_model, dim, thres)"
   ]
  },
  {
   "cell_type": "markdown",
   "metadata": {},
   "source": [
    "y value of a horizontal line corresponds to the expeceted value of target variable in side that specific bin.\n",
    "\n",
    "for example, for cell shape varying from 4 to 10, the expected value $E[Y] \\approx 1$"
   ]
  },
  {
   "cell_type": "code",
   "execution_count": 13,
   "metadata": {
    "ExecuteTime": {
     "end_time": "2018-08-06T19:17:36.131739Z",
     "start_time": "2018-08-06T19:17:34.929540Z"
    }
   },
   "outputs": [
    {
     "name": "stderr",
     "output_type": "stream",
     "text": [
      "/Users/zhiyzuo/.virtualenvs/py3/lib/python3.7/site-packages/matplotlib/cbook/__init__.py:2347: DeprecationWarning: Using or importing the ABCs from 'collections' instead of from 'collections.abc' is deprecated, and in 3.8 it will stop working\n",
      "  if isinstance(obj, collections.Iterator):\n"
     ]
    },
    {
     "data": {
      "image/png": "[encoded data removed]",
      "text/plain": [
       "<Figure size 576x432 with 1 Axes>"
      ]
     },
     "metadata": {},
     "output_type": "display_data"
    }
   ],
   "source": [
    "fig, ax = utils.visualize_s3d_model_1d(splits_at_dim, intensity_dim, \n",
    "                                       xlab=chosen_f_dim[0], ylab=r'$E[Y]$',\n",
    "                                       xscale='linear',\n",
    "                                       hlines_kwargs={'color': pink_color, 'linewidth': 3}\n",
    "                                      )"
   ]
  },
  {
   "cell_type": "markdown",
   "metadata": {},
   "source": [
    "#### feature binning (2d~4d)"
   ]
  },
  {
   "cell_type": "markdown",
   "metadata": {},
   "source": [
    "when more than 1 feature is wanted, we need to use a heatmap-style plot. reading the heatmaps are similar to the line, except in higher dimensions."
   ]
  },
  {
   "cell_type": "markdown",
   "metadata": {},
   "source": [
    "first calll `utils.visualize_s3d_model_reader` to obtain _bins_. 3 required inputs:\n",
    "- `model_folder`: `train_model` in our case\n",
    "- `dim`: how many feature to use (2, 3, or 4)\n",
    "- `thres`: classification threhold"
   ]
  },
  {
   "cell_type": "code",
   "execution_count": 16,
   "metadata": {
    "ExecuteTime": {
     "end_time": "2018-08-06T19:17:51.329983Z",
     "start_time": "2018-08-06T19:17:51.325388Z"
    }
   },
   "outputs": [],
   "source": [
    "dim = 3\n",
    "thres = 0.33"
   ]
  },
  {
   "cell_type": "code",
   "execution_count": 17,
   "metadata": {
    "ExecuteTime": {
     "end_time": "2018-08-06T19:17:51.523984Z",
     "start_time": "2018-08-06T19:17:51.511464Z"
    }
   },
   "outputs": [],
   "source": [
    "splits_at_dim, N_dim, intensity_dim, pred_dim, chosen_f_dim = utils.visualize_s3d_model_reader(train_model, dim, thres)"
   ]
  },
  {
   "cell_type": "markdown",
   "metadata": {},
   "source": [
    "we can plot the heatmap for 3 types of data:\n",
    "- frequency: the frequency of data points - use `N_dim`\n",
    "- y bar: $E[y]$, the expected targat values - use `intensity_dim`\n",
    "- prediction: predicted class/label - use `pred_dim`"
   ]
  },
  {
   "cell_type": "markdown",
   "metadata": {},
   "source": [
    "also note that, you can use `{x,y}bins_lab_decimal` to control the precision of bins in x/y label for dimension larger than 2"
   ]
  },
  {
   "cell_type": "markdown",
   "metadata": {},
   "source": [
    "##### frequency"
   ]
  },
  {
   "cell_type": "code",
   "execution_count": 18,
   "metadata": {
    "ExecuteTime": {
     "end_time": "2018-08-06T19:17:53.478657Z",
     "start_time": "2018-08-06T19:17:52.390948Z"
    }
   },
   "outputs": [
    {
     "name": "stderr",
     "output_type": "stream",
     "text": [
      "/Users/zhiyzuo/.virtualenvs/py3/lib/python3.7/site-packages/matplotlib/cbook/__init__.py:2364: DeprecationWarning: Using or importing the ABCs from 'collections' instead of from 'collections.abc' is deprecated, and in 3.8 it will stop working\n",
      "  return list(data) if isinstance(data, collections.MappingView) else data\n"
     ]
    },
    {
     "data": {
      "image/png": "[encoded data removed]",
      "text/plain": [
       "<Figure size 1188x172.8 with 6 Axes>"
      ]
     },
     "metadata": {},
     "output_type": "display_data"
    }
   ],
   "source": [
    "fig, ax_arr = utils.visualize_s3d_model(dim, splits_at_dim, my_cmap,\n",
    "                                        N_dim, 'Freq', chosen_f_dim, \n",
    "                                        xscale='linear', yscale='linear',\n",
    "                                        norm_func=mc.LogNorm,\n",
    "                                        xbins_lab_decimal=0,\n",
    "                                       )\n",
    "ax_arr[0,0].set_xticks([1,3,6,10])\n",
    "ax_arr[0,0].set_yticks([1,3,6,10])\n",
    "ax_arr[0,0].minorticks_off()"
   ]
  },
  {
   "cell_type": "markdown",
   "metadata": {},
   "source": [
    "##### expected value"
   ]
  },
  {
   "cell_type": "code",
   "execution_count": null,
   "metadata": {
    "ExecuteTime": {
     "end_time": "2018-08-02T15:50:07.322535Z",
     "start_time": "2018-08-02T15:50:06.677829Z"
    }
   },
   "outputs": [],
   "source": [
    "fig, ax_arr = utils.visualize_s3d_model(dim, splits_at_dim, my_cmap, \n",
    "                                        intensity_dim, '$E[y]$', chosen_f_dim, \n",
    "                                        xscale='linear', yscale='linear',\n",
    "                                        xbins_lab_decimal=1,\n",
    "                                       )\n",
    "ax_arr[0,0].set_xticks([1,3,6,10])\n",
    "ax_arr[0,0].set_yticks([1,3,6,10])\n",
    "ax_arr[0,0].minorticks_off()"
   ]
  },
  {
   "cell_type": "markdown",
   "metadata": {},
   "source": [
    "##### predictions"
   ]
  },
  {
   "cell_type": "markdown",
   "metadata": {},
   "source": [
    "for this, a more customized discrete colormap is recommended"
   ]
  },
  {
   "cell_type": "code",
   "execution_count": null,
   "metadata": {
    "ExecuteTime": {
     "end_time": "2018-08-02T15:50:09.205484Z",
     "start_time": "2018-08-02T15:50:08.488380Z"
    }
   },
   "outputs": [],
   "source": [
    "fig, ax_arr = utils.visualize_s3d_model(dim, splits_at_dim, \n",
    "                                        mc.ListedColormap(['white'] + [pink_color]*int(round(1/thres-1))), \n",
    "                                        pred_dim, 'Predictions', chosen_f_dim, \n",
    "                                        xscale='linear', yscale='linear', \n",
    "                                        cb_kwargs={'aspect':30, 'ticks': [0, thres, 1]},\n",
    "                                        xbins_lab_decimal=3,\n",
    "                                       )\n",
    "ax_arr[0,0].set_xticks([1,3,6,10])\n",
    "ax_arr[0,0].set_yticks([1,3,6,10])\n",
    "ax_arr[0,0].minorticks_off()"
   ]
  },
  {
   "cell_type": "markdown",
   "metadata": {},
   "source": [
    "---"
   ]
  },
  {
   "cell_type": "markdown",
   "metadata": {},
   "source": [
    "### hyperparameter tuning"
   ]
  },
  {
   "cell_type": "markdown",
   "metadata": {},
   "source": [
    "it is convenient to tune the hyperparameters: \n",
    "- $\\lambda$: regularization strength\n",
    "- number of features: number of features to use (we like parsimonious models!)"
   ]
  },
  {
   "cell_type": "markdown",
   "metadata": {},
   "source": [
    "the function to call is `pys3d.cross_val`:"
   ]
  },
  {
   "cell_type": "code",
   "execution_count": null,
   "metadata": {
    "ExecuteTime": {
     "end_time": "2018-08-02T15:50:09.850818Z",
     "start_time": "2018-08-02T15:50:09.844810Z"
    }
   },
   "outputs": [],
   "source": [
    "help(s3d.cross_val)"
   ]
  },
  {
   "cell_type": "markdown",
   "metadata": {},
   "source": [
    "the required input are $\\lambda$'s and numbers of features\n",
    "\n",
    "from the above figure, we see the 5th feature really contributes very little, so let's set the maximum features to be 4"
   ]
  },
  {
   "cell_type": "code",
   "execution_count": null,
   "metadata": {
    "ExecuteTime": {
     "end_time": "2018-08-02T15:50:10.946361Z",
     "start_time": "2018-08-02T15:50:10.939985Z"
    }
   },
   "outputs": [],
   "source": [
    "lambda_list = [0.001, 0.003, 0.0001, 0.0003]\n",
    "num_features = 4\n",
    "data_name"
   ]
  },
  {
   "cell_type": "code",
   "execution_count": null,
   "metadata": {
    "ExecuteTime": {
     "end_time": "2018-08-02T15:50:11.545729Z",
     "start_time": "2018-08-02T15:50:11.540064Z"
    }
   },
   "outputs": [],
   "source": [
    "s3d = PYS3D(data_name)"
   ]
  },
  {
   "cell_type": "code",
   "execution_count": null,
   "metadata": {
    "ExecuteTime": {
     "end_time": "2018-08-02T15:50:25.310688Z",
     "start_time": "2018-08-02T15:50:12.866999Z"
    }
   },
   "outputs": [],
   "source": [
    "s3d.cross_val(lambda_list, num_features, calc_threshold=True)"
   ]
  },
  {
   "cell_type": "markdown",
   "metadata": {},
   "source": [
    "the resulting file will be at `cv/data_name/performance.csv`"
   ]
  },
  {
   "cell_type": "code",
   "execution_count": null,
   "metadata": {
    "ExecuteTime": {
     "end_time": "2018-08-02T15:50:25.355678Z",
     "start_time": "2018-08-02T15:50:25.314178Z"
    }
   },
   "outputs": [],
   "source": [
    "cv_df = pd.read_csv('cv/{}/performance.csv'.format(data_name))\n",
    "cv_df.head(2)"
   ]
  },
  {
   "cell_type": "markdown",
   "metadata": {},
   "source": [
    "we can further visualize the train/validation performance, which also returns:\n",
    "- the best number of features and $\\lambda$\n",
    "- as well as the value of the given metric (by default it uses [`auc micro`](http://scikit-learn.org/stable/modules/generated/sklearn.metrics.roc_auc_score.html#sklearn.metrics.roc_auc_score))"
   ]
  },
  {
   "cell_type": "markdown",
   "metadata": {
    "ExecuteTime": {
     "end_time": "2018-06-22T23:51:49.065670Z",
     "start_time": "2018-06-22T23:51:49.059465Z"
    }
   },
   "source": [
    "__note that we need to specify which split to be analyzed - different splits may have slightly different hyperparams__"
   ]
  },
  {
   "cell_type": "code",
   "execution_count": null,
   "metadata": {
    "ExecuteTime": {
     "end_time": "2018-08-02T15:50:27.472543Z",
     "start_time": "2018-08-02T15:50:27.467737Z"
    }
   },
   "outputs": [],
   "source": [
    "metric = 'auc_micro'\n",
    "metric_name = 'Area Under the Curve'\n",
    "legend_kwargs = {'ncol': 1, 'loc': 7, 'labelspacing': 1,\n",
    "                 'title': r'$\\lambda$ values',\n",
    "                 'prop': {'size': 12},\n",
    "                 'bbox_to_anchor': (1, .5),\n",
    "                }"
   ]
  },
  {
   "cell_type": "code",
   "execution_count": null,
   "metadata": {
    "ExecuteTime": {
     "end_time": "2018-08-02T15:50:29.003566Z",
     "start_time": "2018-08-02T15:50:28.292379Z"
    }
   },
   "outputs": [],
   "source": [
    "fp, best_n_f, best_val, best_lambda_, split_version = utils.visualize_cv('cv/{}/performance.csv'.format(data_name), \n",
    "                                                                         validation_metric=metric,\n",
    "                                                                         metric_name=metric_name,\n",
    "                                                                         legend_kwargs=legend_kwargs,\n",
    "                                                                         split_version=0,)"
   ]
  },
  {
   "cell_type": "code",
   "execution_count": null,
   "metadata": {
    "ExecuteTime": {
     "end_time": "2018-08-02T15:50:29.718104Z",
     "start_time": "2018-08-02T15:50:29.711413Z"
    }
   },
   "outputs": [],
   "source": [
    "print('for split version {}...\\nbest number of features: {}\\nbest lambda: {}'.format(split_version, best_n_f, best_lambda_))"
   ]
  },
  {
   "cell_type": "markdown",
   "metadata": {},
   "source": [
    "change the metric to accuracy; check out a different fold"
   ]
  },
  {
   "cell_type": "code",
   "execution_count": null,
   "metadata": {
    "ExecuteTime": {
     "end_time": "2018-08-02T15:50:30.478130Z",
     "start_time": "2018-08-02T15:50:30.466286Z"
    }
   },
   "outputs": [],
   "source": [
    "metric = 'accuracy'\n",
    "metric_name = 'Accuracy Score'"
   ]
  },
  {
   "cell_type": "code",
   "execution_count": null,
   "metadata": {
    "ExecuteTime": {
     "end_time": "2018-08-02T15:50:31.393143Z",
     "start_time": "2018-08-02T15:50:30.612596Z"
    }
   },
   "outputs": [],
   "source": [
    "fp, best_n_f, best_val, best_lambda_, split_version = utils.visualize_cv('cv/{}/performance.csv'.format(data_name), \n",
    "                                                                         validation_metric=metric,\n",
    "                                                                         metric_name=metric_name,\n",
    "                                                                         legend_kwargs=legend_kwargs,\n",
    "                                                                         split_version=0,)"
   ]
  },
  {
   "cell_type": "code",
   "execution_count": null,
   "metadata": {
    "ExecuteTime": {
     "end_time": "2018-08-02T15:50:31.402806Z",
     "start_time": "2018-08-02T15:50:31.395873Z"
    }
   },
   "outputs": [],
   "source": [
    "print('for split version {}...\\nbest number of features: {}\\nbest lambda: {}'.format(split_version, best_n_f, best_lambda_))"
   ]
  },
  {
   "cell_type": "markdown",
   "metadata": {},
   "source": [
    "---"
   ]
  },
  {
   "cell_type": "markdown",
   "metadata": {},
   "source": [
    "### multi core hyperparam tuning"
   ]
  },
  {
   "cell_type": "markdown",
   "metadata": {},
   "source": [
    "if more computing resources are available, we can parallelize different folds"
   ]
  },
  {
   "cell_type": "code",
   "execution_count": null,
   "metadata": {
    "ExecuteTime": {
     "end_time": "2018-08-02T15:50:44.665087Z",
     "start_time": "2018-08-02T15:50:31.717927Z"
    }
   },
   "outputs": [],
   "source": [
    "s3d.cross_val_multicore(lambda_list, num_features, calc_threshold=True, num_cores=5)"
   ]
  },
  {
   "cell_type": "markdown",
   "metadata": {},
   "source": [
    "checkout the cross val for `fold_index`"
   ]
  },
  {
   "cell_type": "code",
   "execution_count": null,
   "metadata": {
    "ExecuteTime": {
     "end_time": "2018-08-02T15:50:44.684170Z",
     "start_time": "2018-08-02T15:50:44.674471Z"
    }
   },
   "outputs": [],
   "source": [
    "fold_index"
   ]
  },
  {
   "cell_type": "code",
   "execution_count": null,
   "metadata": {
    "ExecuteTime": {
     "end_time": "2018-08-02T15:50:45.678725Z",
     "start_time": "2018-08-02T15:50:44.691317Z"
    }
   },
   "outputs": [],
   "source": [
    "fp, best_n_f, best_val, best_lambda_, split_version = utils.visualize_cv('cv/{}/performance.csv'.format(data_name), \n",
    "                                                                         validation_metric=metric,\n",
    "                                                                         metric_name=metric_name,\n",
    "                                                                         legend_kwargs=legend_kwargs,\n",
    "                                                                         split_version=fold_index,)"
   ]
  },
  {
   "cell_type": "code",
   "execution_count": null,
   "metadata": {
    "ExecuteTime": {
     "end_time": "2018-08-02T15:50:45.701147Z",
     "start_time": "2018-08-02T15:50:45.687397Z"
    }
   },
   "outputs": [],
   "source": [
    "print('for split version {}...\\nbest number of features: {}\\nbest lambda: {}'.format(split_version, best_n_f, best_lambda_))"
   ]
  },
  {
   "cell_type": "markdown",
   "metadata": {},
   "source": [
    "---"
   ]
  },
  {
   "cell_type": "markdown",
   "metadata": {},
   "source": [
    "### predict (for one fold)"
   ]
  },
  {
   "cell_type": "markdown",
   "metadata": {},
   "source": [
    "we can then use the trained model to predict for the held-out set; let's pick\n",
    "- $\\lambda=0.03$\n",
    "- $num\\_features=2$"
   ]
  },
  {
   "cell_type": "markdown",
   "metadata": {},
   "source": [
    "train the model again with \"the best hyperparameters\""
   ]
  },
  {
   "cell_type": "code",
   "execution_count": null,
   "metadata": {
    "ExecuteTime": {
     "end_time": "2018-08-02T15:51:33.677999Z",
     "start_time": "2018-08-02T15:51:33.612170Z"
    }
   },
   "outputs": [],
   "source": [
    "s3d = PYS3D(data_name)\n",
    "s3d.fit(train_data, train_model, lambda_=best_lambda_, max_features=best_n_f)"
   ]
  },
  {
   "cell_type": "markdown",
   "metadata": {},
   "source": [
    "check out the feature binning"
   ]
  },
  {
   "cell_type": "code",
   "execution_count": null,
   "metadata": {
    "ExecuteTime": {
     "end_time": "2018-08-02T15:51:35.086387Z",
     "start_time": "2018-08-02T15:51:35.074627Z"
    }
   },
   "outputs": [],
   "source": [
    "thres = s3d.calculate_disc_threshold(train_model, best_n_f)\n",
    "thres"
   ]
  },
  {
   "cell_type": "code",
   "execution_count": null,
   "metadata": {
    "ExecuteTime": {
     "end_time": "2018-08-02T15:51:35.687565Z",
     "start_time": "2018-08-02T15:51:35.682129Z"
    }
   },
   "outputs": [],
   "source": [
    "dim = best_n_f\n",
    "dim, thres"
   ]
  },
  {
   "cell_type": "code",
   "execution_count": null,
   "metadata": {
    "ExecuteTime": {
     "end_time": "2018-08-02T15:51:36.834143Z",
     "start_time": "2018-08-02T15:51:36.821841Z"
    }
   },
   "outputs": [],
   "source": [
    "splits_at_dim, N_dim, intensity_dim, pred_dim, chosen_f_dim = utils.visualize_s3d_model_reader(train_model, int(dim), thres)"
   ]
  },
  {
   "cell_type": "code",
   "execution_count": null,
   "metadata": {
    "ExecuteTime": {
     "end_time": "2018-08-02T15:51:40.855638Z",
     "start_time": "2018-08-02T15:51:40.576399Z"
    }
   },
   "outputs": [],
   "source": [
    "fig, ax_arr = utils.visualize_s3d_model(int(dim), splits_at_dim, my_cmap, \n",
    "                                        intensity_dim, '$E[y]$', chosen_f_dim, \n",
    "                                        xscale='linear', yscale='linear',\n",
    "                                       )\n",
    "ax_arr[0,0].set_xticks([1,3,6,10])\n",
    "ax_arr[0,0].set_yticks([1,3,6,10])\n",
    "ax_arr[0,0].minorticks_off()"
   ]
  },
  {
   "cell_type": "code",
   "execution_count": null,
   "metadata": {
    "ExecuteTime": {
     "end_time": "2018-08-02T15:51:42.310316Z",
     "start_time": "2018-08-02T15:51:42.135150Z"
    }
   },
   "outputs": [],
   "source": [
    "fig, ax_arr = utils.visualize_s3d_model(int(dim), splits_at_dim, \n",
    "                                        mc.ListedColormap(['white']*3 + [pink_color]), \n",
    "                                        pred_dim, 'Predictions', chosen_f_dim, \n",
    "                                        xscale='linear', yscale='linear', \n",
    "                                        cb_kwargs={'aspect':30, 'ticks': [0, thres, 1]}\n",
    "                                       )\n",
    "ax_arr[0,0].set_xticks([1,3,6,10])\n",
    "ax_arr[0,0].set_yticks([1,3,6,10])\n",
    "ax_arr[0,0].minorticks_off()"
   ]
  },
  {
   "cell_type": "markdown",
   "metadata": {},
   "source": [
    "prediction"
   ]
  },
  {
   "cell_type": "code",
   "execution_count": null,
   "metadata": {
    "ExecuteTime": {
     "end_time": "2018-08-02T15:51:43.934160Z",
     "start_time": "2018-08-02T15:51:43.898673Z"
    }
   },
   "outputs": [],
   "source": [
    "test_data = '../splitted_data/{}/{}/test.csv'.format(data_name, fold_index)\n",
    "prediction_path = 'test-folder/'\n",
    "s3d.predict(test_data, train_model, prediction_path)"
   ]
  },
  {
   "cell_type": "markdown",
   "metadata": {
    "ExecuteTime": {
     "end_time": "2018-06-22T00:23:12.271489Z",
     "start_time": "2018-06-22T00:23:12.261727Z"
    }
   },
   "source": [
    "note that this will be done when the number of features used for prediction vary from 1 to `k`, which is the largest number of features found by the training process"
   ]
  },
  {
   "cell_type": "code",
   "execution_count": null,
   "metadata": {
    "ExecuteTime": {
     "end_time": "2018-08-02T15:51:45.634235Z",
     "start_time": "2018-08-02T15:51:45.483225Z"
    }
   },
   "outputs": [],
   "source": [
    "ls test-folder/"
   ]
  },
  {
   "cell_type": "markdown",
   "metadata": {},
   "source": [
    "---"
   ]
  },
  {
   "cell_type": "markdown",
   "metadata": {},
   "source": [
    "### score (for one fold)"
   ]
  },
  {
   "cell_type": "markdown",
   "metadata": {},
   "source": [
    "or we can directly obtain the performance scores by `score` function"
   ]
  },
  {
   "cell_type": "code",
   "execution_count": null,
   "metadata": {
    "ExecuteTime": {
     "end_time": "2018-08-02T15:51:47.337802Z",
     "start_time": "2018-08-02T15:51:47.331065Z"
    }
   },
   "outputs": [],
   "source": [
    "train_data"
   ]
  },
  {
   "cell_type": "code",
   "execution_count": null,
   "metadata": {
    "ExecuteTime": {
     "end_time": "2018-08-02T15:51:47.565932Z",
     "start_time": "2018-08-02T15:51:47.557833Z"
    }
   },
   "outputs": [],
   "source": [
    "test_data"
   ]
  },
  {
   "cell_type": "code",
   "execution_count": null,
   "metadata": {
    "ExecuteTime": {
     "end_time": "2018-08-02T15:51:47.901216Z",
     "start_time": "2018-08-02T15:51:47.803611Z"
    }
   },
   "outputs": [],
   "source": [
    "s3d.score(test_data, train_model, prediction_path)"
   ]
  },
  {
   "cell_type": "markdown",
   "metadata": {},
   "source": [
    "by default, the threshold is 0.5. we can change it"
   ]
  },
  {
   "cell_type": "code",
   "execution_count": null,
   "metadata": {
    "ExecuteTime": {
     "end_time": "2018-08-02T15:51:49.219299Z",
     "start_time": "2018-08-02T15:51:49.135473Z"
    }
   },
   "outputs": [],
   "source": [
    "s3d.score(test_data, train_model, prediction_path, thres=0.4)"
   ]
  },
  {
   "cell_type": "markdown",
   "metadata": {},
   "source": [
    "given `train_data_path` and `calc_threshold`, the prediction threshold will be determined by the class distribution in training set"
   ]
  },
  {
   "cell_type": "code",
   "execution_count": null,
   "metadata": {
    "ExecuteTime": {
     "end_time": "2018-08-02T15:51:50.540179Z",
     "start_time": "2018-08-02T15:51:50.452805Z"
    }
   },
   "outputs": [],
   "source": [
    "s3d.score(test_data, train_model, prediction_path, \n",
    "          train_data_path=train_data, calc_threshold=True)"
   ]
  },
  {
   "cell_type": "markdown",
   "metadata": {},
   "source": [
    "---"
   ]
  },
  {
   "cell_type": "markdown",
   "metadata": {},
   "source": [
    "### test for each fold"
   ]
  },
  {
   "cell_type": "markdown",
   "metadata": {},
   "source": [
    "finally, we can find the best parameter sets for individual (outer) folds. The trained (best) model will be applied to each of the test folds."
   ]
  },
  {
   "cell_type": "markdown",
   "metadata": {},
   "source": [
    "#### best params for each fold"
   ]
  },
  {
   "cell_type": "markdown",
   "metadata": {},
   "source": [
    "we can see the best parameter sets using `utils.find_best_param()`, given different evaluation metric"
   ]
  },
  {
   "cell_type": "code",
   "execution_count": null,
   "metadata": {
    "ExecuteTime": {
     "end_time": "2018-08-02T15:51:52.794472Z",
     "start_time": "2018-08-02T15:51:52.702737Z"
    }
   },
   "outputs": [],
   "source": [
    "utils.find_best_param(performance_file='cv/{}/performance.csv'.format(data_name),  \n",
    "                      validation_metric='accuracy')"
   ]
  },
  {
   "cell_type": "code",
   "execution_count": null,
   "metadata": {
    "ExecuteTime": {
     "end_time": "2018-08-02T15:51:53.463053Z",
     "start_time": "2018-08-02T15:51:53.399964Z"
    }
   },
   "outputs": [],
   "source": [
    "utils.find_best_param(performance_file='cv/{}/performance.csv'.format(data_name),  \n",
    "                      validation_metric='auc_micro')"
   ]
  },
  {
   "cell_type": "markdown",
   "metadata": {},
   "source": [
    "#### evaluation of s3d"
   ]
  },
  {
   "cell_type": "markdown",
   "metadata": {},
   "source": [
    "instead of running evaluation for each fold seperately, we can actually evaluate s3d on the test hold with 2 api calls:\n",
    "1. use `s3d.cross_val()` or `s3d.cross_val_multicore()` to obtain performance on validation sets. this will export `cv/data_name/performance.csv` that can be used for parameter tuninig\n",
    "2. then we can run `s3d.evaluate()` to obtain ___test performance___, given a `cv_metric` that determines the \"best parameters\". if multiple cores are available, we can set `num_jobs` to speed up the whole process."
   ]
  },
  {
   "cell_type": "code",
   "execution_count": null,
   "metadata": {
    "ExecuteTime": {
     "end_time": "2018-08-02T15:51:56.428825Z",
     "start_time": "2018-08-02T15:51:55.053612Z"
    }
   },
   "outputs": [],
   "source": [
    "s3d.evaluate(num_jobs=2)"
   ]
  },
  {
   "cell_type": "code",
   "execution_count": null,
   "metadata": {
    "ExecuteTime": {
     "end_time": "2018-08-02T15:51:58.365661Z",
     "start_time": "2018-08-02T15:51:57.861988Z"
    }
   },
   "outputs": [],
   "source": [
    "s3d.evaluate(num_jobs=2, cv_metric='accuracy')"
   ]
  },
  {
   "cell_type": "markdown",
   "metadata": {},
   "source": [
    "---"
   ]
  },
  {
   "cell_type": "markdown",
   "metadata": {},
   "source": [
    "### use case: regression on bike sharing dataset"
   ]
  },
  {
   "cell_type": "markdown",
   "metadata": {
    "ExecuteTime": {
     "end_time": "2018-07-10T18:24:18.941664Z",
     "start_time": "2018-07-10T18:24:18.934560Z"
    }
   },
   "source": [
    "<a id=\"usecase\"></a>"
   ]
  },
  {
   "cell_type": "markdown",
   "metadata": {},
   "source": [
    "it is noteworthy that we can do regression. the only change we need to do is to set `classification_flag` in the constructor as `False`.\n",
    "\n",
    "here we use the bike sharing dataset as an example [link](https://archive.ics.uci.edu/ml/datasets/Bike+Sharing+Dataset), to illustrate the steps to:\n",
    "1. select hyperparameters\n",
    "2. evaluate the \"best model\" on the held out dataset (i.e., test set)"
   ]
  },
  {
   "cell_type": "markdown",
   "metadata": {},
   "source": [
    "first, create an `s3d` object"
   ]
  },
  {
   "cell_type": "code",
   "execution_count": null,
   "metadata": {
    "ExecuteTime": {
     "end_time": "2018-08-02T15:52:02.082965Z",
     "start_time": "2018-08-02T15:52:02.073365Z"
    }
   },
   "outputs": [],
   "source": [
    "reg_s3d = PYS3D('bike', classification_flag=False)"
   ]
  },
  {
   "cell_type": "markdown",
   "metadata": {},
   "source": [
    "#### cross validation"
   ]
  },
  {
   "cell_type": "markdown",
   "metadata": {},
   "source": [
    "just as classifications, we will \n",
    "- first call `s3d.cross_val()` to get validation performance; \n",
    "- then `s3d.evaluate()` to get the performance on the test fold"
   ]
  },
  {
   "cell_type": "code",
   "execution_count": null,
   "metadata": {
    "ExecuteTime": {
     "end_time": "2018-08-02T15:54:51.888786Z",
     "start_time": "2018-08-02T15:52:05.703328Z"
    }
   },
   "outputs": [],
   "source": [
    "lambda_list = [0.001, 0.003, 0.0001, 0.0003]\n",
    "num_features = 4\n",
    "reg_s3d.cross_val_multicore(lambda_list, num_features, \n",
    "                            num_cores=4,\n",
    "                            calc_threshold=False)"
   ]
  },
  {
   "cell_type": "markdown",
   "metadata": {},
   "source": [
    "note that the error values are __manually set to negative__ for consistency of code - max values $\\rightarrow$ best parameters\n",
    "\n",
    "also note that, it is ___unnecessary___ to call `utils.find_best_param`, which was designed for checking seleced hyperparemters conveniently. one can directly call `s3d.evaluate` to test the model based on selected parameters."
   ]
  },
  {
   "cell_type": "code",
   "execution_count": null,
   "metadata": {
    "ExecuteTime": {
     "end_time": "2018-08-02T15:55:08.518338Z",
     "start_time": "2018-08-02T15:55:08.382138Z"
    }
   },
   "outputs": [],
   "source": [
    "utils.find_best_param('cv/bike/performance.csv', 'mae')"
   ]
  },
  {
   "cell_type": "code",
   "execution_count": null,
   "metadata": {
    "ExecuteTime": {
     "end_time": "2018-08-02T15:55:21.837925Z",
     "start_time": "2018-08-02T15:55:10.704279Z"
    }
   },
   "outputs": [],
   "source": [
    "reg_s3d.evaluate(num_jobs=4, cv_metric='mae')"
   ]
  },
  {
   "cell_type": "markdown",
   "metadata": {},
   "source": [
    "use a different metric to select hyperparams"
   ]
  },
  {
   "cell_type": "code",
   "execution_count": null,
   "metadata": {
    "ExecuteTime": {
     "end_time": "2018-08-02T15:59:10.541801Z",
     "start_time": "2018-08-02T15:59:10.312289Z"
    }
   },
   "outputs": [],
   "source": [
    "utils.find_best_param('cv/bike/performance.csv', 'r2')"
   ]
  },
  {
   "cell_type": "code",
   "execution_count": null,
   "metadata": {
    "ExecuteTime": {
     "end_time": "2018-08-02T15:59:33.290974Z",
     "start_time": "2018-08-02T15:59:21.978772Z"
    }
   },
   "outputs": [],
   "source": [
    "reg_s3d.evaluate(num_jobs=4, cv_metric='r2')"
   ]
  },
  {
   "cell_type": "markdown",
   "metadata": {},
   "source": [
    "#### visualization"
   ]
  },
  {
   "cell_type": "markdown",
   "metadata": {},
   "source": [
    "similar visualization as previous ones"
   ]
  },
  {
   "cell_type": "code",
   "execution_count": null,
   "metadata": {
    "ExecuteTime": {
     "end_time": "2018-08-02T16:00:51.845405Z",
     "start_time": "2018-08-02T16:00:51.841832Z"
    }
   },
   "outputs": [],
   "source": [
    "train_model = 'models/bike/0/'"
   ]
  },
  {
   "cell_type": "code",
   "execution_count": null,
   "metadata": {
    "ExecuteTime": {
     "end_time": "2018-08-02T16:00:53.537319Z",
     "start_time": "2018-08-02T16:00:52.490771Z"
    }
   },
   "outputs": [],
   "source": [
    "fig, ax = utils.visualize_s3d_steps(train_model, figsize=(10,6))"
   ]
  },
  {
   "cell_type": "code",
   "execution_count": null,
   "metadata": {
    "ExecuteTime": {
     "end_time": "2018-08-02T16:00:57.998679Z",
     "start_time": "2018-08-02T16:00:57.972035Z"
    }
   },
   "outputs": [],
   "source": [
    "dim = 2\n",
    "splits_at_dim, N_dim, intensity_dim, pred_dim, chosen_f_dim = utils.visualize_s3d_model_reader(train_model, dim, 0)"
   ]
  },
  {
   "cell_type": "code",
   "execution_count": null,
   "metadata": {
    "ExecuteTime": {
     "end_time": "2018-08-02T16:00:59.874129Z",
     "start_time": "2018-08-02T16:00:59.551358Z"
    }
   },
   "outputs": [],
   "source": [
    "fig, ax_arr = utils.visualize_s3d_model(dim, splits_at_dim, my_cmap,\n",
    "                                        intensity_dim, '$E[y]$', chosen_f_dim, \n",
    "                                        xscale='linear', yscale='linear',\n",
    "                                       )"
   ]
  },
  {
   "cell_type": "markdown",
   "metadata": {},
   "source": [
    "---"
   ]
  }
 ],
 "metadata": {
  "kernelspec": {
   "display_name": "Python 3",
   "language": "python",
   "name": "python3"
  },
  "language_info": {
   "codemirror_mode": {
    "name": "ipython",
    "version": 3
   },
   "file_extension": ".py",
   "mimetype": "text/x-python",
   "name": "python",
   "nbconvert_exporter": "python",
   "pygments_lexer": "ipython3",
   "version": "3.7.0"
  },
  "toc": {
   "base_numbering": 1,
   "nav_menu": {},
   "number_sections": true,
   "sideBar": true,
   "skip_h1_title": true,
   "title_cell": "Table of Contents",
   "title_sidebar": "Contents",
   "toc_cell": true,
   "toc_position": {
    "height": "805px",
    "left": "0px",
    "right": "1456px",
    "top": "126px",
    "width": "224px"
   },
   "toc_section_display": true,
   "toc_window_display": true
  }
 },
 "nbformat": 4,
 "nbformat_minor": 2
}
